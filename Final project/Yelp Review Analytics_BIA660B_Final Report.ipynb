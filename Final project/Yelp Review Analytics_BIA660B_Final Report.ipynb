{
 "cells": [
  {
   "cell_type": "markdown",
   "metadata": {},
   "source": [
    "# <center> Yelp! Customer Reviews Analytics</center>\n",
    "<center> BIA 660B- Professor. Rong Liu </center>\n",
    "<center> Presented by: </center>\n",
    "<center> Jui Pendharkar, Krishma Shah, Sukit Kajonpradapkul, Vaibhav Shanbhag</center>\n",
    "\n",
    "\n",
    "# Introduction:\n",
    "Online reviews and customer feedback can give businesses great insight in order to improve their business model. Even though review-like data is readily availabe and easily accessible on social media platforms, there is no easy solution to analysing the unstructred text data. \n",
    "\n",
    "Through our project, we propose to analyse the reviews for Coffee shopes and Cafes in Manhattan, NY and develop a method to extract business intellect from reviews. We want to understand what are the factors that cause a customer to be satisfied or disatisfied.This insight can help the coffee shops to improve customer satisfaction, thus improving their revenues. \n",
    "\n",
    "# Scrape reviews from Yelp! website:\n",
    "The data used in this project was scraped from the Yelp! website. Our dataset consists of 10,269 reviews across various Coffee shops and Cafes in the whole of Manhattan area. We have considered cafes that had a minimum of 100 reviews in our analysis. \n",
    "\n",
    "Attributes like name of the cafe, overall rating of the cafe, review text, rating and review date of individual review text and location of the cafe were scrapped from the website. Selenium was used to scrape data and the scraped data was stored in a .csv format."
   ]
  },
  {
   "cell_type": "code",
   "execution_count": 35,
   "metadata": {},
   "outputs": [
    {
     "name": "stdout",
     "output_type": "stream",
     "text": [
      "['https://www.yelp.com/biz/bird-and-branch-new-york?osq=Caf%C3%A9s+%26+Coffee+Shops', 'https://www.yelp.com/biz/ground-central-new-york-4?osq=Caf%C3%A9s+%26+Coffee+Shops', 'https://www.yelp.com/biz/culture-36-new-york-2?osq=Caf%C3%A9s+%26+Coffee+Shops', 'https://www.yelp.com/biz/tianti-books-new-york?osq=Caf%C3%A9s+%26+Coffee+Shops', 'https://www.yelp.com/biz/remi-flower-and-coffee-new-york-2?osq=Caf%C3%A9s+%26+Coffee+Shops', 'https://www.yelp.com/biz/ut47-new-york-3?osq=Caf%C3%A9s+%26+Coffee+Shops', 'https://www.yelp.com/biz/st-kilda-coffee-new-york?osq=Caf%C3%A9s+%26+Coffee+Shops', 'https://www.yelp.com/biz/fika-new-york-18?osq=Caf%C3%A9s+%26+Coffee+Shops', 'https://www.yelp.com/biz/maman-nomad-new-york?osq=Caf%C3%A9s+%26+Coffee+Shops', 'https://www.yelp.com/biz/for-five-coffee-roasters-new-york-2?osq=Caf%C3%A9s+%26+Coffee+Shops', 'https://www.yelp.com/biz/box-kite-coffee-new-york-4?osq=Caf%C3%A9s+%26+Coffee+Shops']\n",
      "https://www.yelp.com/biz/bird-and-branch-new-york?osq=Caf%C3%A9s+%26+Coffee+Shops\n",
      "https://www.yelp.com/biz/ground-central-new-york-4?osq=Caf%C3%A9s+%26+Coffee+Shops\n",
      "https://www.yelp.com/biz/culture-36-new-york-2?osq=Caf%C3%A9s+%26+Coffee+Shops\n",
      "https://www.yelp.com/biz/tianti-books-new-york?osq=Caf%C3%A9s+%26+Coffee+Shops\n",
      "https://www.yelp.com/biz/remi-flower-and-coffee-new-york-2?osq=Caf%C3%A9s+%26+Coffee+Shops\n",
      "https://www.yelp.com/biz/ut47-new-york-3?osq=Caf%C3%A9s+%26+Coffee+Shops\n",
      "https://www.yelp.com/biz/st-kilda-coffee-new-york?osq=Caf%C3%A9s+%26+Coffee+Shops\n",
      "https://www.yelp.com/biz/fika-new-york-18?osq=Caf%C3%A9s+%26+Coffee+Shops\n",
      "https://www.yelp.com/biz/maman-nomad-new-york?osq=Caf%C3%A9s+%26+Coffee+Shops\n",
      "https://www.yelp.com/biz/for-five-coffee-roasters-new-york-2?osq=Caf%C3%A9s+%26+Coffee+Shops\n",
      "https://www.yelp.com/biz/box-kite-coffee-new-york-4?osq=Caf%C3%A9s+%26+Coffee+Shops\n"
     ]
    }
   ],
   "source": [
    "# Code for scraping data and export as a csv file.\n",
    "\n",
    "from selenium import webdriver\n",
    "import time\n",
    "import json\n",
    "import pandas as pd\n",
    "\n",
    "\n",
    "# Get all cafe links for a defined number of pages.\n",
    "def getCafelink(num_of_page):\n",
    "        \n",
    "    executable_path = 'geckodriver'\n",
    "    driver = webdriver.Firefox(executable_path=executable_path)\n",
    "    driver.implicitly_wait(10)\n",
    "    driver.get('https://www.yelp.com/search?find_desc=\\\n",
    "    Caf%C3%A9s%20%26%20Coffee%20Shops&find_loc=Manhattan%2C%20New%20York%2C%20NY')\n",
    "    time.sleep(5)\n",
    "    # define a variable of list to store all cafe links.\n",
    "    list_cafe_link = []\n",
    "    \n",
    "    # loop for each page\n",
    "    for page in range(num_of_page):             \n",
    "        cafe_name_list = []   \n",
    "        above_100_review_cafe = []  \n",
    "        cafe_name = driver.find_elements_by_xpath(\"//a[@class = 'lemon--a__373c0__IEZFH link__373c0__29943 link-color--blue-dark__373c0__1mhJo link-size--inherit__373c0__2JXk5']\")\n",
    "        cafe_num_review = driver.find_elements_by_xpath(\"//span[@class = 'lemon--span__373c0__3997G text__373c0__2pB8f reviewCount__373c0__2r4xT text-color--mid__373c0__3G312 text-align--left__373c0__2pnx_']\")\n",
    "   \n",
    "        #Get cafe names on one page\n",
    "        for selenium in cafe_name[6:65]:\n",
    "            if not selenium.text ==\"read more\":\n",
    "                cafe_name_list.append(selenium.text)\n",
    "                \n",
    "        # focus on cafe with less than 100 reviews and below 200.\n",
    "        for index in range(len(cafe_num_review[3:33])):\n",
    "            if int(cafe_num_review[3:33][index].text.split()[0]) >= 100\\\n",
    "            and int(cafe_num_review[3:33][index].text.split()[0]) < 200:\n",
    "                above_100_review_cafe.append(cafe_name_list[index])\n",
    "                \n",
    "        # Get Cafe links from each name    \n",
    "        try:          \n",
    "            for cafe in above_100_review_cafe:\n",
    "                cafe_link = driver.find_element_by_link_text(cafe)\n",
    "                list_cafe_link.append(cafe_link.get_attribute('href'))\n",
    "        except:\n",
    "            print (\"Check your internet speed, Errors occur on {} page, Check your internet speed.\".format(page)) \n",
    "            \n",
    "        # Get a link to next page and click the link, then delay for 5 seconds for page loading.      \n",
    "        try:                         \n",
    "            next_page = driver.find_elements_by_xpath(\"//a[@class = 'lemon--a__373c0__IEZFH link__373c0__29943 next-link navigation-button__373c0__1D3Ug link-color--blue-dark__373c0__1mhJo link-size--default__373c0__1skgq']\")[-1]\n",
    "            next_page.click()        \n",
    "            time.sleep(5)\n",
    "        except:\n",
    "            print (\" Check your internet speed, Cannot Click to Next page, Stop scaping restaurant link\")\n",
    "\n",
    "        \n",
    "    driver.quit()\n",
    "     # Return a list of cafe links                   \n",
    "    return list_cafe_link\n",
    "\n",
    "        \n",
    "# Function to scrape review data\n",
    "def getData(list_of_links):\n",
    "\n",
    "    list_of_data = []\n",
    "\n",
    "    \n",
    "    print (list_of_links)    \n",
    "    for link in list_of_links:\n",
    "        print (link)\n",
    "        executable_path = 'geckodriver'\n",
    "        driver = webdriver.Firefox(executable_path=executable_path)\n",
    "        driver.implicitly_wait(10)\n",
    "        driver.get(link)\n",
    "        time.sleep(5)\n",
    "        try:\n",
    "        # Get Cafe name\n",
    "            cafe_name = driver.find_elements_by_xpath(\"//meta[@itemprop = 'name']\")[1].get_attribute('content')\n",
    "            \n",
    "            # Get rating from average and individual\n",
    "            rating_list = driver.find_elements_by_xpath(\"//meta[@itemprop = 'ratingValue']\")    \n",
    "            # Get average_rating\n",
    "            average_rating = rating_list[0].get_attribute('content')\n",
    "            \n",
    "            \n",
    "            \n",
    "            # Get JSON file from Xpath, and use json.loads to get latitude and longtitude as a dict\n",
    "            get_lat_and_long = driver.find_elements_by_xpath(\"//div[@class= 'lightbox-map hidden']\")\n",
    "            latitude_longitude = json.loads(get_lat_and_long[0].get_attribute('data-map-state'))['center']\n",
    "            latitude = latitude_longitude['latitude']\n",
    "            longtitude = latitude_longitude['longitude']\n",
    "        except:\n",
    "            print (\"Check your internet speed, Error occurs on the link {}, Skip this restaurant\".format(link))\n",
    "        \n",
    "        # Loop each review page.   \n",
    "        while True:\n",
    "            try:\n",
    "                \n",
    "                # Get a review list.\n",
    "                review_list = driver.find_elements_by_xpath(\"//p[@lang = 'en']\")\n",
    "                # Get an individual rating list\n",
    "                individual_rating = rating_list[1:]\n",
    "                # Get a review date list.\n",
    "                review_date = driver.find_elements_by_xpath(\"//span[@class= 'rating-qualifier']\")\n",
    "                # Get a useful number list.\n",
    "                useful_list = driver.find_elements_by_xpath(\"//a[@class= 'ybtn ybtn--small ybtn--secondary useful js-analytics-click']/span[@class='count']\")\n",
    "                # Get a funny number list.\n",
    "                funny_list = driver.find_elements_by_xpath(\"//a[@class= 'ybtn ybtn--small ybtn--secondary funny js-analytics-click']/span[@class='count']\")\n",
    "                # Get a cool number list.\n",
    "                cool_list = driver.find_elements_by_xpath(\"//a[@class= 'ybtn ybtn--small ybtn--secondary cool js-analytics-click']/span[@class='count']\")\n",
    "\n",
    "            \n",
    "                # Get each review, rating, useful, funny, cool, and review date,  then put everything in a tuple\n",
    "                # and append the tuple to the list.\n",
    "                for index in range(len(review_list)):\n",
    "                                \n",
    "                    review = review_list[index].text.replace('\\n', ' ')\n",
    "                    rating = individual_rating[index].get_attribute('content')\n",
    "                    date = review_date[index].text.split()[0]\n",
    "                    \n",
    "                    if useful_list[index].text.isdigit():\n",
    "                        useful = useful_list[index].text\n",
    "                    else:\n",
    "                        useful = 0\n",
    "                        \n",
    "                    if funny_list[index].text.isdigit():\n",
    "                        funny = funny_list[index].text\n",
    "                    else:\n",
    "                        funny = 0\n",
    "                        \n",
    "                    if cool_list[index].text.isdigit():\n",
    "                        cool = cool_list[index].text\n",
    "                    else:\n",
    "                        cool = 0\n",
    "                    \n",
    "                    list_of_data.append((cafe_name, average_rating, review, rating, date, useful, funny, \\\n",
    "                                         cool, latitude, longtitude))                \n",
    "            except:                \n",
    "                print (\"Check your internet speed, Error on this review page occurs, Skip the page\")\n",
    "                \n",
    "            # Click to next review page and wait for 5 seconds for page to load. if there's no next page, error gets made,                 \n",
    "            # and break the while loop.\n",
    "            try:\n",
    "                next_page = driver.find_element_by_xpath(\"//a[@class = 'u-decoration-none next pagination-links_anchor']\")       \n",
    "                next_page.click()        \n",
    "                time.sleep(5)\n",
    "            except:\n",
    "                break\n",
    "        # Close Firefox browser\n",
    "        driver.quit()\n",
    "    \n",
    "    # Create colum name for dataframe.\n",
    "    columns = ['cafe_name', 'avg_rating', 'review', 'indv_rating', 'review_date', 'useful', \\\n",
    "               'funny', 'cool', 'latitude', 'longtitude']\n",
    "    # Create a data frame for all data.\n",
    "    df = pd.DataFrame(list_of_data, columns = columns)\n",
    "    \n",
    "    df.to_csv(\"Review data.csv\", index=False)\n",
    "\n",
    "\n",
    "# Call functions to get all reviews for 2 pages.\n",
    "getData(getCafelink(2))"
   ]
  },
  {
   "cell_type": "markdown",
   "metadata": {},
   "source": [
    "# Exploratory Data Analysis:\n",
    "- **Data Distribution:** \n",
    "Below code calculates the distribution of star ratings in the dataset. The emphasis of the study is more on polarising ratings (highly positive and highly negative) and less on neutral ratings (eg. 3 star ratings). Thus the reviews have been classified into two categories: Positive (Ratings 4 and 5) and Negative (Ratings 1 and 2). \n",
    "\n",
    "A subset of 2000 reviews (positive and negative) were selected from the total scraped reviews. The code also calculates the distribution of Positive and Negative rated reviews from the selected subset.\n"
   ]
  },
  {
   "cell_type": "code",
   "execution_count": 33,
   "metadata": {},
   "outputs": [
    {
     "data": {
      "image/png": "[encoded data removed]",
      "text/plain": [
       "<Figure size 432x288 with 1 Axes>"
      ]
     },
     "metadata": {
      "needs_background": "light"
     },
     "output_type": "display_data"
    },
    {
     "name": "stdout",
     "output_type": "stream",
     "text": [
      "None\n",
      "[Text(0, 0.5, 'cafes'), Text(0.5, 0, 'Ratings')]\n"
     ]
    },
    {
     "data": {
      "image/png": "[encoded data removed]",
      "text/plain": [
       "<Figure size 432x288 with 1 Axes>"
      ]
     },
     "metadata": {
      "needs_background": "light"
     },
     "output_type": "display_data"
    }
   ],
   "source": [
    "#Code for EDA\n",
    "\n",
    "from pandas import DataFrame, read_csv\n",
    "import matplotlib.pyplot as plt\n",
    "import pandas as pd \n",
    "import matplotlib.pyplot as plt\n",
    "import numpy as np\n",
    "%matplotlib inline\n",
    "\n",
    "file = r'Review_data_entire.csv'\n",
    "df = pd.read_csv(file)\n",
    "\n",
    " \n",
    "def indiv_rate():\n",
    "    objects = by_key.keys()  \n",
    "    y_pos = np.arange(len(objects))\n",
    "    performance = by_key.values()\n",
    "    plt.bar(y_pos, performance, align='center', alpha=0.5)\n",
    "    plt.xticks(y_pos, objects)\n",
    "    plt.ylabel('Count')\n",
    "    plt.title('Bar chart for Individual Ratings')\n",
    "    return plt.show()\n",
    "\n",
    "def overall_ratings():   \n",
    "    df1= df[['cafe_name','avg_rating']].sort_values(['avg_rating'], ascending=[True]).drop_duplicates()\n",
    "\n",
    "    ax=df1.avg_rating.value_counts().\\\n",
    "    plot.bar(figsize=(6,4), title=\"Distribution of Cafes based on ratings\", color = 'y'); #barh = vertical bar chart\n",
    "\n",
    "    # set labels\n",
    "    return ax.set(ylabel=\"cafes\", xlabel=\"Ratings\");\n",
    "\n",
    "\n",
    "print (indiv_rate())\n",
    "print(overall_ratings())"
   ]
  },
  {
   "cell_type": "code",
   "execution_count": 35,
   "metadata": {},
   "outputs": [
    {
     "name": "stdout",
     "output_type": "stream",
     "text": [
      "(4370, 6)\n"
     ]
    },
    {
     "data": {
      "image/png": "[encoded data removed]",
      "text/plain": [
       "<Figure size 1080x216 with 5 Axes>"
      ]
     },
     "metadata": {
      "needs_background": "light"
     },
     "output_type": "display_data"
    },
    {
     "data": {
      "text/plain": [
       "<Figure size 432x288 with 0 Axes>"
      ]
     },
     "metadata": {},
     "output_type": "display_data"
    },
    {
     "data": {
      "image/png": "[encoded data removed]",
      "text/plain": [
       "<Figure size 432x288 with 1 Axes>"
      ]
     },
     "metadata": {
      "needs_background": "light"
     },
     "output_type": "display_data"
    },
    {
     "data": {
      "image/png": "[encoded data removed]",
      "text/plain": [
       "<Figure size 432x288 with 2 Axes>"
      ]
     },
     "metadata": {
      "needs_background": "light"
     },
     "output_type": "display_data"
    }
   ],
   "source": [
    "import matplotlib.pyplot as plt\n",
    "import pandas as pd \n",
    "import seaborn as sns\n",
    "import numpy as np\n",
    "\n",
    "# Create function to count the lenght of words.\n",
    "def count_lenght(text):\n",
    "    return len(text.split())\n",
    "\n",
    "def EDA(file):\n",
    "    yelp_df = pd.read_csv(file, encoding = \"latin1\")\n",
    "    yelp_df['review_lenght'] = yelp_df['review'].apply(count_lenght)\n",
    "\n",
    "    yelp_data = yelp_df[['review', 'indv_rating','funny', 'useful', 'cool', 'review_lenght']]\n",
    "    print(yelp_data.shape)\n",
    "    star_hist = sns.FacetGrid(data = yelp_df, col = 'indv_rating')\n",
    "\n",
    "    # histogram for the ratings\n",
    "    plt.figure()\n",
    "    star_hist.map(plt.hist, 'review_lenght', bins = 50)\n",
    "\n",
    "    #box plot for individual ratings against the review-lenght \n",
    "    plt.figure()\n",
    "    sns.boxplot(x = 'indv_rating', y = 'review_lenght', data = yelp_df)\n",
    "\n",
    "    #grouping the data by individual ratings and use \n",
    "    #it generate heat maps to find the co-relation between \n",
    "    #the ratings and the cool, useful and funny \n",
    "    stars = yelp_data.groupby('indv_rating').mean()\n",
    "\n",
    "    #.corr method to calculate the co-relation\n",
    "    stars.corr()\n",
    "\n",
    "    # heat map for to find out the corelation between the cool, useful, funny, and text length\n",
    "    plt.figure()\n",
    "    sns.heatmap(data=stars.corr(), annot=True)\n",
    "\n",
    "#Call function.    \n",
    "file = r'review.csv'\n",
    "EDA(file)\n"
   ]
  },
  {
   "cell_type": "code",
   "execution_count": 1,
   "metadata": {},
   "outputs": [
    {
     "data": {
      "text/html": [
       "<div>\n",
       "<style scoped>\n",
       "    .dataframe tbody tr th:only-of-type {\n",
       "        vertical-align: middle;\n",
       "    }\n",
       "\n",
       "    .dataframe tbody tr th {\n",
       "        vertical-align: top;\n",
       "    }\n",
       "\n",
       "    .dataframe thead th {\n",
       "        text-align: right;\n",
       "    }\n",
       "</style>\n",
       "<table border=\"1\" class=\"dataframe\">\n",
       "  <thead>\n",
       "    <tr style=\"text-align: right;\">\n",
       "      <th></th>\n",
       "      <th>cafe_name</th>\n",
       "      <th>avg_rating</th>\n",
       "      <th>latitude</th>\n",
       "      <th>longtitude</th>\n",
       "      <th>color</th>\n",
       "    </tr>\n",
       "  </thead>\n",
       "  <tbody>\n",
       "    <tr>\n",
       "      <th>0</th>\n",
       "      <td>Super Nice Coffee and Bakery</td>\n",
       "      <td>5.0</td>\n",
       "      <td>40.799032</td>\n",
       "      <td>-73.941057</td>\n",
       "      <td>blue</td>\n",
       "    </tr>\n",
       "    <tr>\n",
       "      <th>1</th>\n",
       "      <td>Masseria Caffé &amp; Bakery</td>\n",
       "      <td>4.5</td>\n",
       "      <td>40.760600</td>\n",
       "      <td>-73.986041</td>\n",
       "      <td>green</td>\n",
       "    </tr>\n",
       "    <tr>\n",
       "      <th>2</th>\n",
       "      <td>Bluestone Lane</td>\n",
       "      <td>4.5</td>\n",
       "      <td>40.755424</td>\n",
       "      <td>-73.970568</td>\n",
       "      <td>green</td>\n",
       "    </tr>\n",
       "    <tr>\n",
       "      <th>3</th>\n",
       "      <td>Black Press Coffee</td>\n",
       "      <td>4.5</td>\n",
       "      <td>40.742241</td>\n",
       "      <td>-73.983118</td>\n",
       "      <td>green</td>\n",
       "    </tr>\n",
       "    <tr>\n",
       "      <th>4</th>\n",
       "      <td>Little Collins</td>\n",
       "      <td>4.5</td>\n",
       "      <td>40.759912</td>\n",
       "      <td>-73.969640</td>\n",
       "      <td>green</td>\n",
       "    </tr>\n",
       "  </tbody>\n",
       "</table>\n",
       "</div>"
      ],
      "text/plain": [
       "                      cafe_name  avg_rating   latitude  longtitude  color\n",
       "0  Super Nice Coffee and Bakery         5.0  40.799032  -73.941057   blue\n",
       "1       Masseria Caffé & Bakery         4.5  40.760600  -73.986041  green\n",
       "2                Bluestone Lane         4.5  40.755424  -73.970568  green\n",
       "3            Black Press Coffee         4.5  40.742241  -73.983118  green\n",
       "4                Little Collins         4.5  40.759912  -73.969640  green"
      ]
     },
     "execution_count": 1,
     "metadata": {},
     "output_type": "execute_result"
    }
   ],
   "source": [
    "import matplotlib.pyplot as plt\n",
    "import pandas as pd \n",
    "# for map visuallization\n",
    "import folium\n",
    "\n",
    "# define function to assign color to marker in the map.\n",
    "def assign_color(rating):\n",
    "    if rating == 5.0:\n",
    "        return 'blue'\n",
    "    elif rating == 4.5:\n",
    "        return 'green'\n",
    "    elif rating == 4.0:\n",
    "        return 'pink'\n",
    "    else:\n",
    "        return 'red'\n",
    "    \n",
    "# import csv into Dataframe.\n",
    "map_df = pd.read_csv(\"Review_data_entire.csv\", header = 0)\n",
    "# select columns and drop duplicate rows.\n",
    "map_df = map_df[['cafe_name', 'avg_rating', 'latitude', 'longtitude']].drop_duplicates()\n",
    "# apply function assign_color into a new columns named \"color\".\n",
    "map_df[\"color\"] = map_df.avg_rating.apply(assign_color)\n",
    "# reset index.\n",
    "map_df = map_df.reset_index(drop = True)\n",
    "map_df.head(5)"
   ]
  },
  {
   "cell_type": "code",
   "execution_count": 2,
   "metadata": {},
   "outputs": [],
   "source": [
    "location_list = map_df[['latitude', 'longtitude']].values"
   ]
  },
  {
   "cell_type": "code",
   "execution_count": 3,
   "metadata": {},
   "outputs": [
    {
     "data": {
      "text/html": [
       "<div style=\"width:100%;\"><div style=\"position:relative;width:100%;height:0;padding-bottom:60%;\"><iframe src=\"data:text/html;charset=utf-8;base64,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\" style=\"position:absolute;width:100%;height:100%;left:0;top:0;border:none !important;\" allowfullscreen webkitallowfullscreen mozallowfullscreen></iframe></div></div>"
      ],
      "text/plain": [
       "<folium.folium.Map at 0x161bd02ca20>"
      ]
     },
     "execution_count": 3,
     "metadata": {},
     "output_type": "execute_result"
    }
   ],
   "source": [
    "# create a map with specific latitude and longitude.\n",
    "_map = folium.Map(location=[40.79, -73.94], tiles='Stamen Terrain' ,zoom_start=11)\n",
    "\n",
    "# Add markers to the map for each cafe location.\n",
    "for point in range(len(location_list)):\n",
    "    folium.Marker(location_list[point], popup=map_df[\"cafe_name\"][point],\\\n",
    "                 icon=folium.Icon(map_df['color'][point])).add_to(_map)\n",
    "\n",
    "# create legend using HTML.\n",
    "legend_html =   '''\n",
    "                <div style=\"position: fixed; \n",
    "                            bottom: 50px; left: 20px; width: 150px; height: 120px; \n",
    "                            border:3px solid grey; z-index:9999; font-size:14px;\n",
    "                            background-color: white;\n",
    "                            \"<br><i class=\"fa fa-map-marker fa-2x\" style=\"color:lightblue\"></i>&nbsp; 5-star rating &nbsp<br>\n",
    "                               <i class=\"fa fa-map-marker fa-2x\" style=\"color:lightgreen\"></i>&nbsp; 4.5-star rating &nbsp<br>\n",
    "                               <i class=\"fa fa-map-marker fa-2x\" style=\"color:pink\"></i>&nbsp; 4-star rating &nbsp<br>\n",
    "                               <i class=\"fa fa-map-marker fa-2x\" style=\"color:red\"></i>&nbsp; 3.5-star rating &nbsp;\n",
    "                               \n",
    "                </div>\n",
    "                ''' \n",
    "# add legend.\n",
    "_map.get_root().html.add_child(folium.Element(legend_html))\n",
    "_map\n",
    "    "
   ]
  },
  {
   "cell_type": "markdown",
   "metadata": {},
   "source": [
    "# Processing Data:\n",
    "- Corpus Data\n",
    "We have divided the reviews into two categories as stated above to create two sets of corpus data that will be analysed.\n",
    "We have also performed an analysis of all reviews together to find the most frequent words.\n",
    "\n",
    "- Tokenization\n",
    "Next, each term was extracted from the corpus through tokenization.\n",
    "Steps for tokenization using spaCy:\n",
    "1. strip punctuation and  convert to lower case\n",
    "2. Remove stopwords\n",
    "3. POS tagging of tokens and lemmatization\n",
    "\n",
    "\n",
    "\n",
    "- Frequency Term Matrix\n",
    "After pre-processing, a frequency term matrix was created for the positive and negative reviews each. Within the frequency term matrix, rows represent each review and columns represent tokenized terms or tokens. The sum of occurrence of term j within review i was calculated and assigned to cell i,j within the matrix. \n",
    "\n",
    "- Reduce Frequency Term Matrix\n"
   ]
  },
  {
   "cell_type": "code",
   "execution_count": 197,
   "metadata": {},
   "outputs": [],
   "source": [
    "# code for tokenization\n",
    "\n",
    "import re\n",
    "import nltk\n",
    "import string\n",
    "import en_core_web_sm \n",
    "nlp = en_core_web_sm.load()\n",
    "\n",
    "# this function is to get either Noun or Adjective from the entered string(text).\n",
    "def get_words(text, get_noun = True, get_adj = True):\n",
    "    \n",
    "    # Strip punctuation from string and lowercase the string\n",
    "    text = \" \".join([token.strip(string.punctuation) for token in text.split()]).lower()\n",
    "    \n",
    "    # Define a text to Spacy\n",
    "    doc = nlp(text)\n",
    "    \n",
    "    # call stopwords\n",
    "    stop_words = nltk.corpus.stopwords.words('english')\n",
    "    \n",
    "    words = []\n",
    "    # Loop through each word in the text.\n",
    "    for token in doc:\n",
    "        # Get only adjective\n",
    "        if (get_adj == True) and (get_noun == False):\n",
    "            if (not token.text in string.punctuation) and (not token.is_space) \\\n",
    "                    and (not token.text in stop_words) and ((token.pos_ == 'ADJ')):   \n",
    "                        words.append(token.lemma_)\n",
    "        # Get only Noun\n",
    "        elif (get_adj == False) and (get_noun == True):\n",
    "            if (not token.text in string.punctuation) and (not token.is_space) \\\n",
    "                    and (not token.text in stop_words) and ((token.pos_ == 'NOUN')):   \n",
    "                        words.append(token.lemma_)\n",
    "        # Get Both Noun and Adjective\n",
    "        elif (get_adj == True) and (get_noun == True):\n",
    "            if (not token.text in string.punctuation) and (not token.is_space) \\\n",
    "                    and (not token.text in stop_words) and ((token.pos_ == 'ADJ'\\\n",
    "                                                           or token.pos_ == 'NOUN')):   \n",
    "                        words.append(token.lemma_)\n",
    "        else:\n",
    "            return \"Nothing\"\n",
    "     # Return a list of words   \n",
    "    return words\n",
    "\n",
    "# This function is to get frequent words of either noun or adjective from a dataframe of reviews\n",
    "# with specified individual ratings.\n",
    "def get_frequent_word(df, indv_rating_1 = None,indv_rating_2 = None, get_noun = True, get_adj = True):\n",
    "    # Get all reviews from a dataframe into a list\n",
    "    list_of_reviews = df[(df['indv_rating'].apply(float)==indv_rating_1) | \\\n",
    "                      (df['indv_rating'].apply(float)==indv_rating_2)].review.values.tolist()\n",
    "    \n",
    "    # get words by calling get_word function.\n",
    "    tokenized_rating = get_words(\" \".join(list_of_reviews), get_noun, get_adj)\n",
    "    # Count all frequent words\n",
    "    docs_tokens = {token:tokenized_rating.count(token) for token in set(tokenized_rating)}\n",
    "     # return a list of top 15 frequent words.\n",
    "    return sorted(docs_tokens.items(), key=lambda x: x[1])[::-1][:15]\n",
    "    \n",
    "# Get Frequent words from all reviews\n",
    "def get_frequent_word_all_review(df, N,get_noun = True, get_adj = True):\n",
    "    # Get all reviews from a dataframe into a list\n",
    "    list_of_reviews = df.review.values.tolist()\n",
    "    \n",
    "    # get words by calling get_word function.\n",
    "    tokenized_rating = get_words(\" \".join(list_of_reviews), get_noun, get_adj)\n",
    "    # Count all frequent words\n",
    "    docs_tokens = {token:tokenized_rating.count(token) for token in set(tokenized_rating)}\n",
    "     # return a list of top 15 frequent words.\n",
    "    return sorted(docs_tokens.items(), key=lambda x: x[1])[::-1][:N]\n",
    "\n",
    "# This funciton is to get most frequent bigrams from reviews in a dataframe.\n",
    "def get_bigrams(df, N, indv_rating_1 = None, indv_rating_2 = None):\n",
    "    \n",
    "    # a list of negative words\n",
    "    negations = ['no','nor','not','too','don',\"don't\",'ain','aren',\"aren't\",'couldn',\"couldn't\",\\\n",
    "    'didn',\"didn't\",'doesn','isn',\"isn't\",'wasn',\"wasn't\",'weren',\"weren't\"]\n",
    "    \n",
    "    # Call stopwords and remove negative words from them\n",
    "    stop_words = nltk.corpus.stopwords.words('english')\n",
    "    stop_words = [word for word in stop_words if not word in negations]\n",
    "    \n",
    "    # Get a list of all reviews\n",
    "    list_of_reviews = df[(df['indv_rating'].apply(float)==indv_rating_1) | \\\n",
    "                  (df['indv_rating'].apply(float)==indv_rating_2)].review.values.tolist()\n",
    "    # Get a string of text\n",
    "    text = \" \".join(list_of_reviews).lower()\n",
    "    # Create pattern\n",
    "    pattern=r'\\w[\\w\\'-]*\\w'                        \n",
    "    # Get tokens\n",
    "    tokens = nltk.regexp_tokenize(text, pattern)\n",
    "    # Remove stopwords from tokens\n",
    "    filtered_tokens = [token for token in tokens if not token in stop_words]\n",
    "    # Get bigrams\n",
    "    bigrams=list(nltk.bigrams(filtered_tokens))\n",
    "    # get freqent bigrams    \n",
    "    frequent_bigram = {bigram:bigrams.count(bigram) for bigram in set(bigrams)}\n",
    "    \n",
    "    # return top N frequent bigrams\n",
    "    return sorted(frequent_bigram.items(), key=lambda x: x[1])[::-1][:N]\n",
    "\n",
    "# This funciton is to get most frequent trigrams from reviews in a dataframe.\n",
    "def get_trigrams(df, N, indv_rating_1 = None, indv_rating_2 = None):\n",
    "    \n",
    "    # a list of negative words\n",
    "    negations = ['no','nor','not','too','don',\"don't\",'ain','aren',\"aren't\",'couldn',\"couldn't\",\\\n",
    "    'didn',\"didn't\",'doesn','isn',\"isn't\",'wasn',\"wasn't\",'weren',\"weren't\"]\n",
    "    \n",
    "    # Call stopwords and remove negative words from them\n",
    "    stop_words = nltk.corpus.stopwords.words('english')\n",
    "    stop_words = [word for word in stop_words if not word in negations]\n",
    "    \n",
    "    # Get a list of all reviews\n",
    "    list_of_reviews = df[(df['indv_rating'].apply(float)==indv_rating_1) | \\\n",
    "                  (df['indv_rating'].apply(float)==indv_rating_2)].review.values.tolist()\n",
    "    # Get a string of text\n",
    "    text = \" \".join(list_of_reviews).lower()\n",
    "    # Create pattern\n",
    "    pattern=r'\\w[\\w\\'-]*\\w'                        \n",
    "    # Get tokens\n",
    "    tokens = nltk.regexp_tokenize(text, pattern)\n",
    "    # Remove stopwords from tokens\n",
    "    filtered_tokens = [token for token in tokens if not token in stop_words]\n",
    "    # Get trigrams\n",
    "    trigrams=list(nltk.trigrams(filtered_tokens))\n",
    "    # get freqent trigrams      \n",
    "    frequent_trigram = {trigram:trigrams.count(trigram) for trigram in set(trigrams)}\n",
    "    # return top N frequent trigrams\n",
    "    return sorted(frequent_trigram.items(), key=lambda x: x[1])[::-1][:N]\n",
    "    \n",
    "    "
   ]
  },
  {
   "cell_type": "markdown",
   "metadata": {},
   "source": [
    "# Analysis of Bi-grams & Tri-grams\n",
    "Using bag of words, we created bi-grams and tri-grams to get further insights into the most frequently used combinations in the customer reviews describing their experiences at coffee shops and explaining their reviews. Our analysis suggests that we need to remove bi-grams which do not explain the sentiment of the reviews like (coffee, shop), (coffee, shops), (times, square), etc. and tri-grams like (favorite, coffee, shop), (flower, coffee, shop), etc."
   ]
  },
  {
   "cell_type": "code",
   "execution_count": 38,
   "metadata": {},
   "outputs": [
    {
     "name": "stdout",
     "output_type": "stream",
     "text": [
      "[(('coffee', 'shop'), 263), (('cold', 'brew'), 75), (('come', 'back'), 71), (('good', 'coffee'), 65), (('great', 'coffee'), 64), (('chocolate', 'chip'), 64), (('coffee', 'shops'), 63), (('great', 'place'), 56), (('matcha', 'latte'), 54), (('work', 'done'), 52), ((\"hell's\", 'kitchen'), 48), (('times', 'square'), 45), (('get', 'work'), 44), (('best', 'coffee'), 44), (('really', 'good'), 42), (('not', 'too'), 41), (('chip', 'cookie'), 41), (('new', 'york'), 40), (('baked', 'goods'), 40), (('almond', 'milk'), 39)]\n",
      "[(('get', 'work', 'done'), 42), (('chocolate', 'chip', 'cookie'), 41), (('definitely', 'come', 'back'), 23), (('little', 'coffee', 'shop'), 21), (('chocolate', 'chip', 'cookies'), 18), (('would', 'come', 'back'), 14), (('almond', 'macadamia', 'milk'), 14), (('favorite', 'coffee', 'shop'), 14), (('would', 'definitely', 'come'), 14), (('would', 'definitely', 'recommend'), 13), (('staff', 'super', 'friendly'), 13), (('come', 'back', 'try'), 12), (('cute', 'coffee', 'shop'), 12), (('great', 'place', 'work'), 11), (('place', 'get', 'work'), 11), (('not', 'too', 'sweet'), 11), (('great', 'coffee', 'great'), 10), (('new', 'coffee', 'shop'), 10), (('coffee', 'shop', 'midtown'), 9), (('best', 'coffee', 'shop'), 9)]\n"
     ]
    }
   ],
   "source": [
    "# Get most frequent bigrams and Trigrams\n",
    "print (get_bigrams(df, N=20, indv_rating_1 = 4, indv_rating_2 = 5))\n",
    "print (get_trigrams(df, N=20, indv_rating_1 = 4, indv_rating_2 = 5))"
   ]
  },
  {
   "cell_type": "markdown",
   "metadata": {},
   "source": [
    "# Analysis of most frequent words\n",
    "We first analysed the most frequent words from all the reviews. An output similar to the word cloud (shown below) was obtained. Words like 'coffee',' shop', 'place' etc were used extensively which did not contribute to the meaning or sentiment of the review. We thus removed the nouns to analyise the most frequent adjectives used to give us a better understanding of the meaning of the reviews.\n"
   ]
  },
  {
   "cell_type": "code",
   "execution_count": 39,
   "metadata": {},
   "outputs": [
    {
     "name": "stdout",
     "output_type": "stream",
     "text": [
      "[('good', 48), ('nice', 33), ('great', 30), ('quiet', 15), ('little', 15), ('cute', 12), ('matcha', 12), ('friendly', 11), ('small', 11), ('delicious', 10), ('sweet', 10), ('white', 10), ('cold', 9), ('beautiful', 9), ('large', 9)]\n",
      "[('good', 784), ('great', 541), ('nice', 338), ('friendly', 255), ('little', 218), ('delicious', 195), ('small', 169), ('new', 164), ('cute', 163), ('amazing', 144), ('perfect', 114), ('cold', 111), ('free', 109), ('sweet', 108), ('matcha', 100)]\n"
     ]
    }
   ],
   "source": [
    "# Get top N frequent words\n",
    "print (get_frequent_word(df, indv_rating_1 = 1,indv_rating_2 = 2, get_noun = False, get_adj = True))\n",
    "print (get_frequent_word(df, indv_rating_1 = 4 ,indv_rating_2 = 5, get_noun = False, get_adj = True))"
   ]
  },
  {
   "cell_type": "markdown",
   "metadata": {},
   "source": [
    "### Word Clouds\n",
    "Word clouds were constructed from the frequency term matrix, to visualize the overall trend of the data. Words with larger font sizes were repeated more number of times than others. "
   ]
  },
  {
   "cell_type": "code",
   "execution_count": 112,
   "metadata": {},
   "outputs": [],
   "source": [
    "from wordcloud import WordCloud\n",
    "\n",
    "# Get Wordcloud from a dataframe\n",
    "def create_wordcloud(df, title= None, indv_rating_1 = None, indv_rating_2 = None):\n",
    "    \n",
    "    stop_words = nltk.corpus.stopwords.words('english')\n",
    "    \n",
    "    list_of_reviews = df[(df['indv_rating'].apply(float)==indv_rating_1) | \\\n",
    "                  (df['indv_rating'].apply(float)==indv_rating_2)].review.values.tolist()\n",
    "    \n",
    "    # Get a string of text\n",
    "    string = \" \".join(list_of_reviews).lower()\n",
    "    # Generate WordCloud\n",
    "    plt.figure('Review')\n",
    "    wc = WordCloud(background_color=\"white\", max_words=5000, stopwords=stop_words)              \n",
    "    wc.generate(string)\n",
    "    plt.imshow(wc)\n",
    "    plt.axis('OFF')\n",
    "    plt.title(title, color = 'b')\n",
    "    plt.show()\n",
    "    \n"
   ]
  },
  {
   "cell_type": "code",
   "execution_count": 114,
   "metadata": {},
   "outputs": [
    {
     "data": {
      "image/png": "[encoded data removed]",
      "text/plain": [
       "<Figure size 640x480 with 1 Axes>"
      ]
     },
     "metadata": {},
     "output_type": "display_data"
    }
   ],
   "source": [
    "create_wordcloud(df, title= 'Wordcloud of Reviews', indv_rating_1 = 5, indv_rating_2 = 4)"
   ]
  },
  {
   "cell_type": "code",
   "execution_count": 198,
   "metadata": {},
   "outputs": [
    {
     "data": {
      "image/png": "[encoded data removed]",
      "text/plain": [
       "<Figure size 576x360 with 1 Axes>"
      ]
     },
     "metadata": {},
     "output_type": "display_data"
    },
    {
     "name": "stdout",
     "output_type": "stream",
     "text": [
      "None\n"
     ]
    }
   ],
   "source": [
    "import seaborn as sns\n",
    "\n",
    "# Call get_frequent_word_all review\n",
    "Frequent_words = get_frequent_word_all_review(df,N=20, get_noun = False, get_adj = True)\n",
    "# Get a dataframe of Frequent_words\n",
    "frequent_word_frequent = pd.DataFrame(Frequent_words)\n",
    "frequent_word_frequent.columns=[\"Words\", \"Frequency\"]\n",
    "\n",
    "# Get a bar chart for frequent words. \n",
    "def get_chart_frequent_word(frequent_word_frequent):\n",
    "     \n",
    "    sns.set_style(\"whitegrid\");\n",
    "\n",
    "    plt.figure(figsize=(8,5))\n",
    "    sns.barplot(x='Words',y='Frequency', data=frequent_word_frequent, palette=\"Blues_d\")\n",
    "    plt.xticks(rotation=(45))\n",
    "    plt.show()\n",
    "print (get_chart_frequent_word(frequent_word_frequent))"
   ]
  },
  {
   "cell_type": "markdown",
   "metadata": {},
   "source": [
    "## Order Tranding Analytics "
   ]
  },
  {
   "cell_type": "code",
   "execution_count": 77,
   "metadata": {},
   "outputs": [],
   "source": [
    "# import data.\n",
    "df= pd.read_csv('Review_data_entire.csv',header=0, encoding='latin1')\n",
    "\n",
    "# create new colums for each season if months match conditions.\n",
    "df['winter'] = df['review_date'].apply(lambda x : 'winter' if re.findall(r'^\\d*', x)[0] in ['12','1','2'] else np.nan)\n",
    "df['summer'] = df['review_date'].apply(lambda x : 'summer' if re.findall(r'^\\d*', x)[0] in ['6','7','8'] else np.nan)\n",
    "df['fall'] = df['review_date'].apply(lambda x : 'fall' if re.findall(r'^\\d*', x)[0] in ['9','10','11'] else np.nan)\n",
    "df['spring'] = df['review_date'].apply(lambda x : 'spring' if re.findall(r'^\\d*', x)[0] in ['3','4','5'] else np.nan)"
   ]
  },
  {
   "cell_type": "code",
   "execution_count": 91,
   "metadata": {},
   "outputs": [],
   "source": [
    "import re\n",
    "import nltk\n",
    "import string\n",
    "\n",
    "\n",
    "def get_bigrams_all_review(df, N):\n",
    "    \n",
    "    # a list of negative words\n",
    "    negations = ['no','nor','not','too','don',\"don't\",'ain','aren',\"aren't\",'couldn',\"couldn't\",\\\n",
    "    'didn',\"didn't\",'doesn','isn',\"isn't\",'wasn',\"wasn't\",'weren',\"weren't\"]\n",
    "    \n",
    "    # Call stopwords and remove negative words from them\n",
    "    stop_words = nltk.corpus.stopwords.words('english')\n",
    "    stop_words = [word for word in stop_words if not word in negations]\n",
    "    \n",
    "    # Get a list of all reviews\n",
    "    list_of_reviews = df.review.values.tolist()\n",
    "    \n",
    "    # Get a string of text\n",
    "    text = \" \".join(list_of_reviews).lower()\n",
    "    \n",
    "    # Create pattern\n",
    "    pattern=r'\\w[\\w\\'-]*\\w'                        \n",
    "    # Get tokens\n",
    "    tokens = nltk.regexp_tokenize(text, pattern)\n",
    "    # Remove stopwords from tokens\n",
    "    filtered_tokens = [token for token in tokens if not token in stop_words]\n",
    "    # Get bigrams\n",
    "    bigrams=list(nltk.bigrams(filtered_tokens))\n",
    "    # get freqent bigrams    \n",
    "    frequent_bigram = {bigram:bigrams.count(bigram) for bigram in set(bigrams)}\n",
    "    \n",
    "    # return top N frequent bigrams\n",
    "    return sorted(frequent_bigram.items(), key=lambda x: x[1])[::-1][:N]"
   ]
  },
  {
   "cell_type": "code",
   "execution_count": 87,
   "metadata": {},
   "outputs": [],
   "source": [
    "# Get a bar chart for frequent words. \n",
    "def get_chart_frequent_word(bigrams_winter_frequent, title):\n",
    "    \n",
    "    sns.set_style(\"whitegrid\");\n",
    "\n",
    "    plt.figure(figsize=(8,5))\n",
    "    sns.barplot(x='Frequency',y='Bigrams', data=bigrams_winter_frequent)\n",
    "    plt.xticks(rotation=(90))\n",
    "    plt.title(title)\n",
    "    plt.show()\n"
   ]
  },
  {
   "cell_type": "code",
   "execution_count": 93,
   "metadata": {},
   "outputs": [],
   "source": [
    "# Get lists of frequent bigrams.\n",
    "bigrams_winter = get_bigrams_all_review(df[df['winter']=='winter'], 30)"
   ]
  },
  {
   "cell_type": "code",
   "execution_count": 94,
   "metadata": {},
   "outputs": [],
   "source": [
    "bigrams_summer = get_bigrams_all_review(df[df['summer']=='summer'], 30)"
   ]
  },
  {
   "cell_type": "code",
   "execution_count": 95,
   "metadata": {},
   "outputs": [],
   "source": [
    "# Create dataframes for lists of bigrams.\n",
    "bigrams_winter_frequent = pd.DataFrame(bigrams_winter)\n",
    "bigrams_winter_frequent.columns=[\"Bigrams\", \"Frequency\"]\n",
    "bigrams_summer_frequent = pd.DataFrame(bigrams_summer)\n",
    "bigrams_summer_frequent.columns=[\"Bigrams\", \"Frequency\"]"
   ]
  },
  {
   "cell_type": "code",
   "execution_count": 96,
   "metadata": {},
   "outputs": [
    {
     "data": {
      "image/png": "[encoded data removed]",
      "text/plain": [
       "<Figure size 576x360 with 1 Axes>"
      ]
     },
     "metadata": {},
     "output_type": "display_data"
    },
    {
     "name": "stdout",
     "output_type": "stream",
     "text": [
      "None\n"
     ]
    },
    {
     "data": {
      "image/png": "[encoded data removed]",
      "text/plain": [
       "<Figure size 576x360 with 1 Axes>"
      ]
     },
     "metadata": {},
     "output_type": "display_data"
    },
    {
     "name": "stdout",
     "output_type": "stream",
     "text": [
      "None\n"
     ]
    }
   ],
   "source": [
    "# call function to create bar graphs.\n",
    "print (get_chart_frequent_word(bigrams_winter_frequent, \"Winter\"))\n",
    "print (get_chart_frequent_word(bigrams_summer_frequent, \"Summer\"))"
   ]
  },
  {
   "cell_type": "markdown",
   "metadata": {},
   "source": [
    "# Insights from manually reading the customer reviews:\n",
    "We manually studied the customer reviews and clustered the terms from the reviews to group similar words of importance when discussing coffee shops. This will allow us to target specific aspects of running an efficient coffee shop by combining like ideas that would be separated within the frequency term matrix due to different terminology. We considered the different categories mentioned in the table below and the positive and negative terms that the customer frequently used to describe these categories.\n",
    "\n",
    "|Category|Positive Term|Negative Term|\n",
    "|:---|:---|:---|\n",
    "|Taste of coffee/ food|\tfantastic, amazing, bomb, best, pretty-good, good, great , perfect, delicious , quality, phenomenal, solid, loved, savoury, sweet, super cute, rich, very tasty, sweet, pure, dense, classic, perfect,delicate, excellent, die for, fluffy, beautiful|bitter, mediocre, did not like, acidic, undrinkable|\n",
    "|Employee attitude|\tGood conversation, amazing, good, friendly, happy, eager, nice, quick, welcoming hospitality, humour, super efficient |rude, unsociable|\n",
    "|Order accuracy|super cute, nice size, perfect amount|-|\n",
    "|Overall Satisfaction|great, happy, glad, went crazy, glad, hats off|disgusted, overhyped|\n",
    "|Likelihood to Return|\tBecome regular, will be back, definitely, again, love to come back|Dont repeat|\n",
    "|Cleanliness| clean, tidy|-|\n",
    "|Ambience|\tSuper calming, Lovely, cute, spot, amazing, cute, friendly, cozy, compact, comfortable| Small, quite crowded, very narrow| \n",
    "|Service|Quick always busy, but never a long line|selective|\n",
    "|Pricing|Fair, not too bad|not worth, very overpriced|"
   ]
  },
  {
   "cell_type": "markdown",
   "metadata": {},
   "source": [
    "## Sentiment Analysis using classification.\n"
   ]
  },
  {
   "cell_type": "code",
   "execution_count": 97,
   "metadata": {},
   "outputs": [],
   "source": [
    "from sklearn.metrics import roc_curve, auc,precision_recall_curve\n",
    "from sklearn.pipeline import Pipeline\n",
    "from sklearn.model_selection import GridSearchCV\n",
    "from sklearn.feature_extraction.text import TfidfVectorizer\n",
    "from sklearn.naive_bayes import MultinomialNB\n",
    "from sklearn import svm\n",
    "from sklearn.neighbors import KNeighborsClassifier\n",
    "from sklearn.metrics import classification_report\n",
    "from sklearn.model_selection import train_test_split\n",
    "from sklearn.multiclass import OneVsRestClassifier\n",
    "from sklearn.preprocessing import MultiLabelBinarizer\n",
    "from sklearn.multiclass import OneVsRestClassifier\n",
    "from sklearn.svm import LinearSVC\n",
    "import seaborn as sns\n",
    "import numpy as np"
   ]
  },
  {
   "cell_type": "code",
   "execution_count": 7,
   "metadata": {},
   "outputs": [
    {
     "data": {
      "text/html": [
       "<div>\n",
       "<style scoped>\n",
       "    .dataframe tbody tr th:only-of-type {\n",
       "        vertical-align: middle;\n",
       "    }\n",
       "\n",
       "    .dataframe tbody tr th {\n",
       "        vertical-align: top;\n",
       "    }\n",
       "\n",
       "    .dataframe thead th {\n",
       "        text-align: right;\n",
       "    }\n",
       "</style>\n",
       "<table border=\"1\" class=\"dataframe\">\n",
       "  <thead>\n",
       "    <tr style=\"text-align: right;\">\n",
       "      <th></th>\n",
       "      <th>review</th>\n",
       "      <th>sentiment</th>\n",
       "    </tr>\n",
       "  </thead>\n",
       "  <tbody>\n",
       "    <tr>\n",
       "      <th>0</th>\n",
       "      <td>I hate to be the voice of dissent here, but I ...</td>\n",
       "      <td>0</td>\n",
       "    </tr>\n",
       "    <tr>\n",
       "      <th>1</th>\n",
       "      <td>My new favorite dessert spot in NYC. I cannot ...</td>\n",
       "      <td>0</td>\n",
       "    </tr>\n",
       "    <tr>\n",
       "      <th>2</th>\n",
       "      <td>I was in the area very early (for me anyway) a...</td>\n",
       "      <td>0</td>\n",
       "    </tr>\n",
       "    <tr>\n",
       "      <th>3</th>\n",
       "      <td>Come for the coffee, stay for the ambiance.  I...</td>\n",
       "      <td>0</td>\n",
       "    </tr>\n",
       "    <tr>\n",
       "      <th>4</th>\n",
       "      <td>Great coffee! Huge space to hang out in as wel...</td>\n",
       "      <td>0</td>\n",
       "    </tr>\n",
       "  </tbody>\n",
       "</table>\n",
       "</div>"
      ],
      "text/plain": [
       "                                              review  sentiment\n",
       "0  I hate to be the voice of dissent here, but I ...          0\n",
       "1  My new favorite dessert spot in NYC. I cannot ...          0\n",
       "2  I was in the area very early (for me anyway) a...          0\n",
       "3  Come for the coffee, stay for the ambiance.  I...          0\n",
       "4  Great coffee! Huge space to hang out in as wel...          0"
      ]
     },
     "execution_count": 7,
     "metadata": {},
     "output_type": "execute_result"
    }
   ],
   "source": [
    "# import review with balanced sentiment into a dataframe.\n",
    "# the review dataset is made to balance between all rating.\n",
    "df= pd.read_csv('review.csv',encoding ='latin1')\n",
    "\n",
    "# create a dataframe to store only less than 2 star rating review\n",
    "# and 5 star rating reviews.\n",
    "sentiment_train_data = df[(df['indv_rating'] <= 2) | (df['indv_rating'] >= 5)][['review','indv_rating']]\n",
    "\n",
    "# create a column named sentiment to store labels 1 when ind_rating = 5 \n",
    "# and labels 0 when indv_rating less than 2.\n",
    "sentiment_train_data['sentiment'] = sentiment_train_data['indv_rating'].apply(lambda x: 1 if x >= 5 else 0)\n",
    "\n",
    "# shuffle dataframe and drop individual rating columns.\n",
    "sentiment_train_data = sentiment_train_data.sample(frac=1).reset_index(drop=True).drop(columns = \"indv_rating\")\n",
    "\n",
    "sentiment_train_data.head()"
   ]
  },
  {
   "cell_type": "markdown",
   "metadata": {},
   "source": [
    "## Multinomial Naive Bayes model Evaluation on Sentiment Analytic"
   ]
  },
  {
   "cell_type": "code",
   "execution_count": 9,
   "metadata": {},
   "outputs": [],
   "source": [
    "# Define function for Naive Bayes evaluation. \n",
    "def naive_bayes_classification(review_data, sentiment_data):\n",
    "    # Split dataset for training and testing.\n",
    "    X_train, X_test, y_train, y_test = train_test_split(review_data, sentiment_data, test_size=0.3, random_state=0)\n",
    "    \n",
    "    # create pipeline for model.\n",
    "    text_clf = Pipeline([('tfidf', TfidfVectorizer()), ('clf', MultinomialNB())])\n",
    "    # define parameters to search.\n",
    "    parameters = {'tfidf__min_df':[1, 2, 3],\n",
    "                  'tfidf__max_df': [0.995 , 0.999],\n",
    "                  'tfidf__stop_words':[None,\"english\"],\n",
    "                  'clf__alpha': [0.5, 1.0, 2.0 , 5.0]}\n",
    "\n",
    "    metric =  \"f1_macro\"\n",
    "\n",
    "    gs_clf = GridSearchCV(text_clf, param_grid=parameters, scoring=metric, cv=5)\n",
    "    \n",
    "\n",
    "    gs_clf = gs_clf.fit(X_train, y_train)\n",
    "    \n",
    "    for param_name in gs_clf.best_params_:\n",
    "        print(\"{} : {}\".format(param_name , gs_clf.best_params_[param_name]))\n",
    "    print(\"best f1 score:\", gs_clf.best_score_)\n",
    "\n",
    "    clf_alpha = gs_clf.best_params_[\"clf__alpha\"]\n",
    "    tfidf_min_df = gs_clf.best_params_[\"tfidf__min_df\"]\n",
    "    tfidf_stop_words = gs_clf.best_params_[\"tfidf__stop_words\"]\n",
    "\n",
    "    classifier = Pipeline([\n",
    "        ('tfidf', TfidfVectorizer(stop_words=tfidf_stop_words,\\\n",
    "                                  min_df=tfidf_min_df)),\n",
    "        ('clf', MultinomialNB(alpha = clf_alpha ))])\n",
    "\n",
    "    clf = classifier.fit(X_train,  y_train)\n",
    "\n",
    "    labels=sorted(sentiment_data.unique())\n",
    "    labels = list(map(str, labels))\n",
    "\n",
    "    predicted = classifier.predict(X_test)\n",
    "    \n",
    "\n",
    "    print(classification_report(y_test, predicted, target_names=labels))\n",
    "    \n",
    "    predict_p = clf.predict_proba(X_test)\n",
    "    y_pred = predict_p[:,1]\n",
    "    \n",
    "\n",
    "    fpr, tpr, thresholds = roc_curve(y_test, y_pred, pos_label=1)\n",
    "\n",
    "    \n",
    "    plt.figure();\n",
    "    plt.plot(fpr, tpr, color='red');\n",
    "    plt.plot([0, 1], [0, 1], color='blue', linestyle='--');\n",
    "    plt.xlim([0.0, 1.0]);\n",
    "    plt.ylim([0.0, 1.05]);\n",
    "    plt.xlabel('False Positive Rate');\n",
    "    plt.ylabel('True Positive Rate');\n",
    "    plt.title('AUC of Naive Bayes Model');\n",
    "    plt.savefig('AUC of Naive Bayes Model.png');\n",
    "\n",
    "    precision, recall, thresholds = precision_recall_curve(y_test, y_pred , pos_label=1)\n",
    "\n",
    "    \n",
    "    plt.figure();\n",
    "    plt.plot(recall, precision, color='green', lw=2);\n",
    "    plt.xlim([0.0, 1.0]);\n",
    "    plt.ylim([0.0, 1.05]);\n",
    "    plt.xlabel('Recall');\n",
    "    plt.ylabel('Precision');\n",
    "    plt.title('Precision_Recall_Curve of Naive Bayes Model');\n",
    "    plt.savefig('Precision_Recall_Curve of Naive Bayes Model.png');"
   ]
  },
  {
   "cell_type": "code",
   "execution_count": 10,
   "metadata": {},
   "outputs": [
    {
     "name": "stdout",
     "output_type": "stream",
     "text": [
      "clf__alpha : 0.5\n",
      "tfidf__max_df : 0.995\n",
      "tfidf__min_df : 1\n",
      "tfidf__stop_words : english\n",
      "best f1 score: 0.6679451659987032\n",
      "              precision    recall  f1-score   support\n",
      "\n",
      "           0       0.70      0.73      0.71       401\n",
      "           1       0.65      0.60      0.63       326\n",
      "\n",
      "   micro avg       0.68      0.68      0.68       727\n",
      "   macro avg       0.67      0.67      0.67       727\n",
      "weighted avg       0.67      0.68      0.67       727\n",
      "\n"
     ]
    },
    {
     "data": {
      "image/png": "[encoded data removed]",
      "text/plain": [
       "<Figure size 432x288 with 1 Axes>"
      ]
     },
     "metadata": {
      "needs_background": "light"
     },
     "output_type": "display_data"
    },
    {
     "data": {
      "image/png": "[encoded data removed]",
      "text/plain": [
       "<Figure size 432x288 with 1 Axes>"
      ]
     },
     "metadata": {
      "needs_background": "light"
     },
     "output_type": "display_data"
    }
   ],
   "source": [
    "# Call function to run model evaluation and report performance.\n",
    "naive_bayes_classification(sentiment_train_data.review, sentiment_train_data.sentiment)"
   ]
  },
  {
   "cell_type": "markdown",
   "metadata": {},
   "source": [
    "## Support Vector Machine model Evaluation on Sentiment Analytic"
   ]
  },
  {
   "cell_type": "code",
   "execution_count": 12,
   "metadata": {},
   "outputs": [],
   "source": [
    "def SVM_classification(review_data, sentiment_data):\n",
    "    \n",
    "    X_train, X_test, y_train, y_test = train_test_split(review_data, sentiment_data, test_size=0.3, random_state=0)\n",
    "    \n",
    "    text_clf = Pipeline([('tfidf', TfidfVectorizer()), ('clf', LinearSVC())])\n",
    "\n",
    "    parameters = {'tfidf__min_df':[1, 2, 3],\n",
    "                  'tfidf__stop_words':[None,\"english\"],\n",
    "                  'clf__C':[ 1, 2, 5]}\n",
    "\n",
    "    metric =  \"f1_macro\"\n",
    "\n",
    "    gs_clf = GridSearchCV(text_clf, param_grid=parameters, scoring=metric, cv=5)\n",
    "    \n",
    "\n",
    "    gs_clf = gs_clf.fit(X_train, y_train)\n",
    "    \n",
    "    for param_name in gs_clf.best_params_:\n",
    "        print(\"{} : {}\".format(param_name , gs_clf.best_params_[param_name]))\n",
    "    print(\"best f1 score:\", gs_clf.best_score_)\n",
    "\n",
    "\n",
    "    tfidf_min_df = gs_clf.best_params_[\"tfidf__min_df\"]\n",
    "    tfidf_stop_words = gs_clf.best_params_[\"tfidf__stop_words\"]\n",
    "    c = gs_clf.best_params_[\"clf__C\"]\n",
    "    \n",
    "    \n",
    "    classifier = Pipeline([\n",
    "        ('tfidf', TfidfVectorizer(stop_words=tfidf_stop_words,\\\n",
    "                                  min_df=tfidf_min_df)),\n",
    "        ('clf', LinearSVC(C=c))])\n",
    "\n",
    "    clf = classifier.fit(X_train,  y_train)\n",
    "\n",
    "    labels=sorted(sentiment_data.unique())\n",
    "    labels = list(map(str, labels))\n",
    "\n",
    "    predicted = classifier.predict(X_test)\n",
    "    \n",
    "\n",
    "    print(classification_report(y_test, predicted, target_names=labels))"
   ]
  },
  {
   "cell_type": "code",
   "execution_count": 13,
   "metadata": {},
   "outputs": [
    {
     "name": "stdout",
     "output_type": "stream",
     "text": [
      "clf__C : 1\n",
      "tfidf__min_df : 2\n",
      "tfidf__stop_words : None\n",
      "best f1 score: 0.6454235481785219\n",
      "              precision    recall  f1-score   support\n",
      "\n",
      "           0       0.68      0.69      0.68       401\n",
      "           1       0.61      0.60      0.60       326\n",
      "\n",
      "   micro avg       0.65      0.65      0.65       727\n",
      "   macro avg       0.65      0.64      0.64       727\n",
      "weighted avg       0.65      0.65      0.65       727\n",
      "\n"
     ]
    }
   ],
   "source": [
    "SVM_classification(sentiment_train_data.review, sentiment_train_data.sentiment)"
   ]
  },
  {
   "cell_type": "markdown",
   "metadata": {},
   "source": [
    "## K-nearest Neighbour model Evaluation on Sentiment Analytic"
   ]
  },
  {
   "cell_type": "code",
   "execution_count": 4,
   "metadata": {},
   "outputs": [],
   "source": [
    "def KNN_classification(review_data, sentiment_data):\n",
    "    \n",
    "    X_train, X_test, y_train, y_test = train_test_split(review_data, sentiment_data, test_size=0.3, random_state=0)\n",
    "    \n",
    "    text_clf = Pipeline([('tfidf', TfidfVectorizer()), ('clf', KNeighborsClassifier())])\n",
    "    \n",
    "    k_range = list(range(1, 20))\n",
    "    \n",
    "    \n",
    "    parameters = {'tfidf__min_df':[1, 2, 3],\n",
    "                  'tfidf__stop_words':[None,\"english\"],\n",
    "                  'clf__n_neighbors': k_range}\n",
    "\n",
    "    metric =  \"f1_macro\"\n",
    "\n",
    "    gs_clf = GridSearchCV(text_clf, param_grid=parameters, scoring=metric, cv=5)\n",
    "    \n",
    "\n",
    "    gs_clf = gs_clf.fit(X_train, y_train)\n",
    "    \n",
    "    for param_name in gs_clf.best_params_:\n",
    "        print(\"{} : {}\".format(param_name , gs_clf.best_params_[param_name]))\n",
    "    print(\"best f1 score:\", gs_clf.best_score_)\n",
    "\n",
    "\n",
    "    tfidf_min_df = gs_clf.best_params_[\"tfidf__min_df\"]\n",
    "    tfidf_stop_words = gs_clf.best_params_[\"tfidf__stop_words\"]\n",
    "    k = gs_clf.best_params_[\"clf__n_neighbors\"]\n",
    "    \n",
    "    \n",
    "    classifier = Pipeline([\n",
    "        ('tfidf', TfidfVectorizer(stop_words=tfidf_stop_words,\\\n",
    "                                  min_df=tfidf_min_df)),\n",
    "        ('clf', KNeighborsClassifier(n_neighbors=k))])\n",
    "\n",
    "    clf = classifier.fit(X_train,  y_train)\n",
    "\n",
    "    labels=sorted(sentiment_data.unique())\n",
    "    labels = list(map(str, labels))\n",
    "\n",
    "    predicted = classifier.predict(X_test)\n",
    "    \n",
    "\n",
    "    print(classification_report(y_test, predicted, target_names=labels))"
   ]
  },
  {
   "cell_type": "code",
   "execution_count": 15,
   "metadata": {},
   "outputs": [
    {
     "name": "stdout",
     "output_type": "stream",
     "text": [
      "clf__n_neighbors : 13\n",
      "tfidf__min_df : 3\n",
      "tfidf__stop_words : english\n",
      "best f1 score: 0.652448991778501\n",
      "              precision    recall  f1-score   support\n",
      "\n",
      "           0       0.66      0.65      0.65       401\n",
      "           1       0.58      0.59      0.58       326\n",
      "\n",
      "   micro avg       0.62      0.62      0.62       727\n",
      "   macro avg       0.62      0.62      0.62       727\n",
      "weighted avg       0.62      0.62      0.62       727\n",
      "\n"
     ]
    }
   ],
   "source": [
    "KNN_classification(sentiment_train_data.review, sentiment_train_data.sentiment)"
   ]
  },
  {
   "cell_type": "markdown",
   "metadata": {},
   "source": [
    "# Topic Classification without Gridsearch"
   ]
  },
  {
   "cell_type": "markdown",
   "metadata": {},
   "source": [
    "## Multinomial Naive Bayes"
   ]
  },
  {
   "cell_type": "code",
   "execution_count": 116,
   "metadata": {},
   "outputs": [],
   "source": [
    "def NB_topic_classification(train_file_name):\n",
    "    \n",
    "    categ_data = pd.read_csv(train_file_name , header = 0)    \n",
    "    classes = categ_data.label.values\n",
    "    classes = [i.split(\",\") for i in classes]\n",
    "\n",
    "    mlb = MultiLabelBinarizer()\n",
    "    Y = mlb.fit_transform(classes)\n",
    "\n",
    "    X_train, X_test, Y_train, Y_test = train_test_split(\\\n",
    "                    categ_data.review, Y, test_size=0.3, random_state=0)\n",
    "\n",
    "    classifier = Pipeline([\n",
    "        ('tfidf', TfidfVectorizer(stop_words=\"english\",\\\n",
    "                                  min_df=2)),\n",
    "        ('clf', OneVsRestClassifier(MultinomialNB(alpha = 0.5 )))])\n",
    "\n",
    "    classifier.fit(X_train, Y_train)\n",
    "\n",
    "    predicted = classifier.predict(X_test)\n",
    "\n",
    "    predicted.shape\n",
    "    \n",
    "    print(classification_report\\\n",
    "          (Y_test, predicted, target_names=mlb.classes_))  "
   ]
  },
  {
   "cell_type": "code",
   "execution_count": 117,
   "metadata": {},
   "outputs": [
    {
     "name": "stdout",
     "output_type": "stream",
     "text": [
      "                         precision    recall  f1-score   support\n",
      "\n",
      "               ambience       0.95      0.29      0.44       140\n",
      "anecdotes/miscellaneous       0.74      0.56      0.64       342\n",
      "                   food       0.83      0.72      0.77       366\n",
      "                  price       0.93      0.36      0.52       102\n",
      "                service       0.86      0.50      0.64       173\n",
      "\n",
      "              micro avg       0.82      0.55      0.66      1123\n",
      "              macro avg       0.86      0.49      0.60      1123\n",
      "           weighted avg       0.83      0.55      0.65      1123\n",
      "            samples avg       0.62      0.58      0.59      1123\n",
      "\n"
     ]
    },
    {
     "name": "stderr",
     "output_type": "stream",
     "text": [
      "C:\\Users\\sukit\\Anaconda2\\envs\\py3\\lib\\site-packages\\sklearn\\metrics\\classification.py:1143: UndefinedMetricWarning: Precision and F-score are ill-defined and being set to 0.0 in samples with no predicted labels.\n",
      "  'precision', 'predicted', average, warn_for)\n"
     ]
    }
   ],
   "source": [
    "NB_topic_classification(\"label restaurant data.csv\" )"
   ]
  },
  {
   "cell_type": "markdown",
   "metadata": {},
   "source": [
    "## Support Vector Machine"
   ]
  },
  {
   "cell_type": "code",
   "execution_count": 101,
   "metadata": {},
   "outputs": [],
   "source": [
    "def SVM_topic_classification(train_file_name):\n",
    "    \n",
    "    categ_data = pd.read_csv(train_file_name , header = 0)    \n",
    "    classes = categ_data.label.values\n",
    "    classes = [i.split(\",\") for i in classes]\n",
    "\n",
    "    mlb = MultiLabelBinarizer()\n",
    "    Y = mlb.fit_transform(classes)\n",
    "\n",
    "    X_train, X_test, Y_train, Y_test = train_test_split(\\\n",
    "                    categ_data.review, Y, test_size=0.3, random_state=0)\n",
    "\n",
    "    classifier = Pipeline([\n",
    "        ('tfidf', TfidfVectorizer(stop_words=\"english\",\\\n",
    "                                  min_df=2)),\n",
    "        ('clf', OneVsRestClassifier(LinearSVC(C = 1)))])\n",
    "\n",
    "    classifier.fit(X_train, Y_train)\n",
    "\n",
    "    predicted = classifier.predict(X_test)\n",
    "\n",
    "    predicted.shape\n",
    "    \n",
    "    print(classification_report\\\n",
    "          (Y_test, predicted, target_names=mlb.classes_))  "
   ]
  },
  {
   "cell_type": "code",
   "execution_count": 102,
   "metadata": {},
   "outputs": [
    {
     "name": "stdout",
     "output_type": "stream",
     "text": [
      "                         precision    recall  f1-score   support\n",
      "\n",
      "               ambience       0.87      0.54      0.66       140\n",
      "anecdotes/miscellaneous       0.71      0.73      0.72       342\n",
      "                   food       0.85      0.80      0.82       366\n",
      "                  price       0.88      0.74      0.80       102\n",
      "                service       0.85      0.70      0.77       173\n",
      "\n",
      "              micro avg       0.80      0.73      0.76      1123\n",
      "              macro avg       0.83      0.70      0.76      1123\n",
      "           weighted avg       0.81      0.73      0.76      1123\n",
      "            samples avg       0.74      0.73      0.72      1123\n",
      "\n"
     ]
    },
    {
     "name": "stderr",
     "output_type": "stream",
     "text": [
      "C:\\Users\\sukit\\Anaconda2\\envs\\py3\\lib\\site-packages\\sklearn\\metrics\\classification.py:1143: UndefinedMetricWarning: Precision and F-score are ill-defined and being set to 0.0 in samples with no predicted labels.\n",
      "  'precision', 'predicted', average, warn_for)\n"
     ]
    }
   ],
   "source": [
    "SVM_topic_classification(\"label restaurant data.csv\")"
   ]
  },
  {
   "cell_type": "markdown",
   "metadata": {},
   "source": [
    "## K-nearest neighbour"
   ]
  },
  {
   "cell_type": "code",
   "execution_count": 110,
   "metadata": {},
   "outputs": [],
   "source": [
    "def KNN_topic_classification(train_file_name):\n",
    "    \n",
    "    categ_data = pd.read_csv(train_file_name , header = 0)    \n",
    "    classes = categ_data.label.values\n",
    "    classes = [i.split(\",\") for i in classes]\n",
    "\n",
    "    mlb = MultiLabelBinarizer()\n",
    "    Y = mlb.fit_transform(classes)\n",
    "\n",
    "    X_train, X_test, Y_train, Y_test = train_test_split(\\\n",
    "                    categ_data.review, Y, test_size=0.3, random_state=0)\n",
    "\n",
    "    classifier = Pipeline([\n",
    "        ('tfidf', TfidfVectorizer(stop_words=\"english\",\\\n",
    "                                  min_df=2)),\n",
    "        ('clf', OneVsRestClassifier(KNeighborsClassifier(n_neighbors=1)))])\n",
    "\n",
    "    classifier.fit(X_train, Y_train)\n",
    "\n",
    "    predicted = classifier.predict(X_test)\n",
    "\n",
    "    predicted.shape\n",
    "    \n",
    "    print(classification_report\\\n",
    "          (Y_test, predicted, target_names=mlb.classes_))  \n",
    "    "
   ]
  },
  {
   "cell_type": "code",
   "execution_count": 111,
   "metadata": {},
   "outputs": [
    {
     "name": "stdout",
     "output_type": "stream",
     "text": [
      "                         precision    recall  f1-score   support\n",
      "\n",
      "               ambience       0.67      0.11      0.20       140\n",
      "anecdotes/miscellaneous       0.42      0.87      0.57       342\n",
      "                   food       0.73      0.25      0.37       366\n",
      "                  price       0.75      0.29      0.42       102\n",
      "                service       0.56      0.23      0.33       173\n",
      "\n",
      "              micro avg       0.49      0.42      0.46      1123\n",
      "              macro avg       0.63      0.35      0.38      1123\n",
      "           weighted avg       0.60      0.42      0.41      1123\n",
      "            samples avg       0.49      0.46      0.46      1123\n",
      "\n"
     ]
    }
   ],
   "source": [
    "KNN_topic_classification(\"label restaurant data.csv\" )"
   ]
  },
  {
   "cell_type": "markdown",
   "metadata": {},
   "source": [
    "# Topic Classification with Gridsearch"
   ]
  },
  {
   "cell_type": "code",
   "execution_count": 48,
   "metadata": {},
   "outputs": [],
   "source": [
    "categ_data = pd.read_csv(\"label restaurant data.csv\" , header = 0)   \n",
    "categ_data.head()\n",
    "classes = categ_data.label.values\n",
    "classes = [i.split(\",\") for i in classes]\n"
   ]
  },
  {
   "cell_type": "code",
   "execution_count": null,
   "metadata": {},
   "outputs": [],
   "source": [
    "# implement one hot encoding.\n",
    "mlb = MultiLabelBinarizer()\n",
    "Y=mlb.fit_transform(classes)\n",
    "\n",
    "classes_label = mlb.classes_\n",
    "\n",
    "\n",
    "ambience = Y[:,0]\n",
    "food = Y[:,2]\n",
    "miscellaneous = Y[:,1]\n",
    "service = Y[:,4]\n",
    "price = Y[:,3]\n",
    "                "
   ]
  },
  {
   "cell_type": "markdown",
   "metadata": {},
   "source": [
    "## Topic Classification using Multinomial Naive Bayes."
   ]
  },
  {
   "cell_type": "code",
   "execution_count": 54,
   "metadata": {},
   "outputs": [],
   "source": [
    "\n",
    "def NB_topic_classification(review_data, feature):\n",
    "    \n",
    "\n",
    "    X_train, X_test, y_train, y_test = train_test_split(review_data, feature , \\\n",
    "                                                        test_size=0.25, random_state=0)\n",
    "\n",
    "    text_clf = Pipeline([('tfidf', TfidfVectorizer()), ('clf', MultinomialNB())])\n",
    "\n",
    "    parameters = {'tfidf__min_df':[1, 2, 3],\n",
    "                  'tfidf__max_df': [0.995 , 0.999, 1.0],\n",
    "                  'tfidf__stop_words':[None,\"english\"],\n",
    "                  'clf__alpha': [0.5, 1.0, 2.0 , 5.0]}\n",
    "\n",
    "    metric =  \"f1_macro\"\n",
    "\n",
    "    gs_clf = GridSearchCV(text_clf, param_grid=parameters, scoring=metric, cv=5)\n",
    "\n",
    "\n",
    "    gs_clf = gs_clf.fit(X_train, y_train)\n",
    "\n",
    "    for param_name in gs_clf.best_params_:\n",
    "        print(\"{} : {}\".format(param_name , gs_clf.best_params_[param_name]))\n",
    "    print(\"best f1 score:\", gs_clf.best_score_)\n",
    "\n",
    "    clf_alpha = gs_clf.best_params_[\"clf__alpha\"]\n",
    "    tfidf_min_df = gs_clf.best_params_[\"tfidf__min_df\"]\n",
    "    tfidf_max_df = gs_clf.best_params_[\"tfidf__max_df\"]\n",
    "    tfidf_stop_words = gs_clf.best_params_[\"tfidf__stop_words\"]\n",
    "\n",
    "    classifier = Pipeline([\n",
    "        ('tfidf', TfidfVectorizer(stop_words=tfidf_stop_words,\\\n",
    "                                  min_df=tfidf_min_df, max_df = tfidf_max_df)),\n",
    "        ('clf', MultinomialNB(alpha = clf_alpha ))])\n",
    "\n",
    "    clf = classifier.fit(X_train,  y_train)\n",
    "\n",
    "    labels=sorted(np.unique(feature))\n",
    "    labels = list(map(str, labels))\n",
    "\n",
    "    predicted = classifier.predict(X_test)\n",
    "    \n",
    "    return predicted\n",
    "\n",
    "    "
   ]
  },
  {
   "cell_type": "code",
   "execution_count": 55,
   "metadata": {},
   "outputs": [
    {
     "name": "stderr",
     "output_type": "stream",
     "text": [
      "C:\\Users\\sukit\\Anaconda2\\envs\\py3\\lib\\site-packages\\sklearn\\metrics\\classification.py:1143: UndefinedMetricWarning: F-score is ill-defined and being set to 0.0 in labels with no predicted samples.\n",
      "  'precision', 'predicted', average, warn_for)\n",
      "C:\\Users\\sukit\\Anaconda2\\envs\\py3\\lib\\site-packages\\sklearn\\metrics\\classification.py:1143: UndefinedMetricWarning: F-score is ill-defined and being set to 0.0 in labels with no predicted samples.\n",
      "  'precision', 'predicted', average, warn_for)\n",
      "C:\\Users\\sukit\\Anaconda2\\envs\\py3\\lib\\site-packages\\sklearn\\metrics\\classification.py:1143: UndefinedMetricWarning: F-score is ill-defined and being set to 0.0 in labels with no predicted samples.\n",
      "  'precision', 'predicted', average, warn_for)\n",
      "C:\\Users\\sukit\\Anaconda2\\envs\\py3\\lib\\site-packages\\sklearn\\metrics\\classification.py:1143: UndefinedMetricWarning: F-score is ill-defined and being set to 0.0 in labels with no predicted samples.\n",
      "  'precision', 'predicted', average, warn_for)\n",
      "C:\\Users\\sukit\\Anaconda2\\envs\\py3\\lib\\site-packages\\sklearn\\metrics\\classification.py:1143: UndefinedMetricWarning: F-score is ill-defined and being set to 0.0 in labels with no predicted samples.\n",
      "  'precision', 'predicted', average, warn_for)\n",
      "C:\\Users\\sukit\\Anaconda2\\envs\\py3\\lib\\site-packages\\sklearn\\metrics\\classification.py:1143: UndefinedMetricWarning: F-score is ill-defined and being set to 0.0 in labels with no predicted samples.\n",
      "  'precision', 'predicted', average, warn_for)\n",
      "C:\\Users\\sukit\\Anaconda2\\envs\\py3\\lib\\site-packages\\sklearn\\metrics\\classification.py:1143: UndefinedMetricWarning: F-score is ill-defined and being set to 0.0 in labels with no predicted samples.\n",
      "  'precision', 'predicted', average, warn_for)\n",
      "C:\\Users\\sukit\\Anaconda2\\envs\\py3\\lib\\site-packages\\sklearn\\metrics\\classification.py:1143: UndefinedMetricWarning: F-score is ill-defined and being set to 0.0 in labels with no predicted samples.\n",
      "  'precision', 'predicted', average, warn_for)\n",
      "C:\\Users\\sukit\\Anaconda2\\envs\\py3\\lib\\site-packages\\sklearn\\metrics\\classification.py:1143: UndefinedMetricWarning: F-score is ill-defined and being set to 0.0 in labels with no predicted samples.\n",
      "  'precision', 'predicted', average, warn_for)\n",
      "C:\\Users\\sukit\\Anaconda2\\envs\\py3\\lib\\site-packages\\sklearn\\metrics\\classification.py:1143: UndefinedMetricWarning: F-score is ill-defined and being set to 0.0 in labels with no predicted samples.\n",
      "  'precision', 'predicted', average, warn_for)\n",
      "C:\\Users\\sukit\\Anaconda2\\envs\\py3\\lib\\site-packages\\sklearn\\metrics\\classification.py:1143: UndefinedMetricWarning: F-score is ill-defined and being set to 0.0 in labels with no predicted samples.\n",
      "  'precision', 'predicted', average, warn_for)\n",
      "C:\\Users\\sukit\\Anaconda2\\envs\\py3\\lib\\site-packages\\sklearn\\metrics\\classification.py:1143: UndefinedMetricWarning: F-score is ill-defined and being set to 0.0 in labels with no predicted samples.\n",
      "  'precision', 'predicted', average, warn_for)\n",
      "C:\\Users\\sukit\\Anaconda2\\envs\\py3\\lib\\site-packages\\sklearn\\metrics\\classification.py:1143: UndefinedMetricWarning: F-score is ill-defined and being set to 0.0 in labels with no predicted samples.\n",
      "  'precision', 'predicted', average, warn_for)\n",
      "C:\\Users\\sukit\\Anaconda2\\envs\\py3\\lib\\site-packages\\sklearn\\metrics\\classification.py:1143: UndefinedMetricWarning: F-score is ill-defined and being set to 0.0 in labels with no predicted samples.\n",
      "  'precision', 'predicted', average, warn_for)\n",
      "C:\\Users\\sukit\\Anaconda2\\envs\\py3\\lib\\site-packages\\sklearn\\metrics\\classification.py:1143: UndefinedMetricWarning: F-score is ill-defined and being set to 0.0 in labels with no predicted samples.\n",
      "  'precision', 'predicted', average, warn_for)\n",
      "C:\\Users\\sukit\\Anaconda2\\envs\\py3\\lib\\site-packages\\sklearn\\metrics\\classification.py:1143: UndefinedMetricWarning: F-score is ill-defined and being set to 0.0 in labels with no predicted samples.\n",
      "  'precision', 'predicted', average, warn_for)\n",
      "C:\\Users\\sukit\\Anaconda2\\envs\\py3\\lib\\site-packages\\sklearn\\metrics\\classification.py:1143: UndefinedMetricWarning: F-score is ill-defined and being set to 0.0 in labels with no predicted samples.\n",
      "  'precision', 'predicted', average, warn_for)\n",
      "C:\\Users\\sukit\\Anaconda2\\envs\\py3\\lib\\site-packages\\sklearn\\metrics\\classification.py:1143: UndefinedMetricWarning: F-score is ill-defined and being set to 0.0 in labels with no predicted samples.\n",
      "  'precision', 'predicted', average, warn_for)\n",
      "C:\\Users\\sukit\\Anaconda2\\envs\\py3\\lib\\site-packages\\sklearn\\metrics\\classification.py:1143: UndefinedMetricWarning: F-score is ill-defined and being set to 0.0 in labels with no predicted samples.\n",
      "  'precision', 'predicted', average, warn_for)\n",
      "C:\\Users\\sukit\\Anaconda2\\envs\\py3\\lib\\site-packages\\sklearn\\metrics\\classification.py:1143: UndefinedMetricWarning: F-score is ill-defined and being set to 0.0 in labels with no predicted samples.\n",
      "  'precision', 'predicted', average, warn_for)\n",
      "C:\\Users\\sukit\\Anaconda2\\envs\\py3\\lib\\site-packages\\sklearn\\metrics\\classification.py:1143: UndefinedMetricWarning: F-score is ill-defined and being set to 0.0 in labels with no predicted samples.\n",
      "  'precision', 'predicted', average, warn_for)\n",
      "C:\\Users\\sukit\\Anaconda2\\envs\\py3\\lib\\site-packages\\sklearn\\metrics\\classification.py:1143: UndefinedMetricWarning: F-score is ill-defined and being set to 0.0 in labels with no predicted samples.\n",
      "  'precision', 'predicted', average, warn_for)\n",
      "C:\\Users\\sukit\\Anaconda2\\envs\\py3\\lib\\site-packages\\sklearn\\metrics\\classification.py:1143: UndefinedMetricWarning: F-score is ill-defined and being set to 0.0 in labels with no predicted samples.\n",
      "  'precision', 'predicted', average, warn_for)\n",
      "C:\\Users\\sukit\\Anaconda2\\envs\\py3\\lib\\site-packages\\sklearn\\metrics\\classification.py:1143: UndefinedMetricWarning: F-score is ill-defined and being set to 0.0 in labels with no predicted samples.\n",
      "  'precision', 'predicted', average, warn_for)\n",
      "C:\\Users\\sukit\\Anaconda2\\envs\\py3\\lib\\site-packages\\sklearn\\metrics\\classification.py:1143: UndefinedMetricWarning: F-score is ill-defined and being set to 0.0 in labels with no predicted samples.\n",
      "  'precision', 'predicted', average, warn_for)\n",
      "C:\\Users\\sukit\\Anaconda2\\envs\\py3\\lib\\site-packages\\sklearn\\metrics\\classification.py:1143: UndefinedMetricWarning: F-score is ill-defined and being set to 0.0 in labels with no predicted samples.\n",
      "  'precision', 'predicted', average, warn_for)\n",
      "C:\\Users\\sukit\\Anaconda2\\envs\\py3\\lib\\site-packages\\sklearn\\metrics\\classification.py:1143: UndefinedMetricWarning: F-score is ill-defined and being set to 0.0 in labels with no predicted samples.\n",
      "  'precision', 'predicted', average, warn_for)\n",
      "C:\\Users\\sukit\\Anaconda2\\envs\\py3\\lib\\site-packages\\sklearn\\metrics\\classification.py:1143: UndefinedMetricWarning: F-score is ill-defined and being set to 0.0 in labels with no predicted samples.\n",
      "  'precision', 'predicted', average, warn_for)\n",
      "C:\\Users\\sukit\\Anaconda2\\envs\\py3\\lib\\site-packages\\sklearn\\metrics\\classification.py:1143: UndefinedMetricWarning: F-score is ill-defined and being set to 0.0 in labels with no predicted samples.\n",
      "  'precision', 'predicted', average, warn_for)\n",
      "C:\\Users\\sukit\\Anaconda2\\envs\\py3\\lib\\site-packages\\sklearn\\metrics\\classification.py:1143: UndefinedMetricWarning: F-score is ill-defined and being set to 0.0 in labels with no predicted samples.\n",
      "  'precision', 'predicted', average, warn_for)\n",
      "C:\\Users\\sukit\\Anaconda2\\envs\\py3\\lib\\site-packages\\sklearn\\metrics\\classification.py:1143: UndefinedMetricWarning: F-score is ill-defined and being set to 0.0 in labels with no predicted samples.\n",
      "  'precision', 'predicted', average, warn_for)\n",
      "C:\\Users\\sukit\\Anaconda2\\envs\\py3\\lib\\site-packages\\sklearn\\metrics\\classification.py:1143: UndefinedMetricWarning: F-score is ill-defined and being set to 0.0 in labels with no predicted samples.\n",
      "  'precision', 'predicted', average, warn_for)\n",
      "C:\\Users\\sukit\\Anaconda2\\envs\\py3\\lib\\site-packages\\sklearn\\metrics\\classification.py:1143: UndefinedMetricWarning: F-score is ill-defined and being set to 0.0 in labels with no predicted samples.\n",
      "  'precision', 'predicted', average, warn_for)\n",
      "C:\\Users\\sukit\\Anaconda2\\envs\\py3\\lib\\site-packages\\sklearn\\metrics\\classification.py:1143: UndefinedMetricWarning: F-score is ill-defined and being set to 0.0 in labels with no predicted samples.\n",
      "  'precision', 'predicted', average, warn_for)\n",
      "C:\\Users\\sukit\\Anaconda2\\envs\\py3\\lib\\site-packages\\sklearn\\metrics\\classification.py:1143: UndefinedMetricWarning: F-score is ill-defined and being set to 0.0 in labels with no predicted samples.\n",
      "  'precision', 'predicted', average, warn_for)\n"
     ]
    },
    {
     "name": "stderr",
     "output_type": "stream",
     "text": [
      "C:\\Users\\sukit\\Anaconda2\\envs\\py3\\lib\\site-packages\\sklearn\\metrics\\classification.py:1143: UndefinedMetricWarning: F-score is ill-defined and being set to 0.0 in labels with no predicted samples.\n",
      "  'precision', 'predicted', average, warn_for)\n",
      "C:\\Users\\sukit\\Anaconda2\\envs\\py3\\lib\\site-packages\\sklearn\\metrics\\classification.py:1143: UndefinedMetricWarning: F-score is ill-defined and being set to 0.0 in labels with no predicted samples.\n",
      "  'precision', 'predicted', average, warn_for)\n",
      "C:\\Users\\sukit\\Anaconda2\\envs\\py3\\lib\\site-packages\\sklearn\\metrics\\classification.py:1143: UndefinedMetricWarning: F-score is ill-defined and being set to 0.0 in labels with no predicted samples.\n",
      "  'precision', 'predicted', average, warn_for)\n",
      "C:\\Users\\sukit\\Anaconda2\\envs\\py3\\lib\\site-packages\\sklearn\\metrics\\classification.py:1143: UndefinedMetricWarning: F-score is ill-defined and being set to 0.0 in labels with no predicted samples.\n",
      "  'precision', 'predicted', average, warn_for)\n",
      "C:\\Users\\sukit\\Anaconda2\\envs\\py3\\lib\\site-packages\\sklearn\\metrics\\classification.py:1143: UndefinedMetricWarning: F-score is ill-defined and being set to 0.0 in labels with no predicted samples.\n",
      "  'precision', 'predicted', average, warn_for)\n",
      "C:\\Users\\sukit\\Anaconda2\\envs\\py3\\lib\\site-packages\\sklearn\\metrics\\classification.py:1143: UndefinedMetricWarning: F-score is ill-defined and being set to 0.0 in labels with no predicted samples.\n",
      "  'precision', 'predicted', average, warn_for)\n",
      "C:\\Users\\sukit\\Anaconda2\\envs\\py3\\lib\\site-packages\\sklearn\\metrics\\classification.py:1143: UndefinedMetricWarning: F-score is ill-defined and being set to 0.0 in labels with no predicted samples.\n",
      "  'precision', 'predicted', average, warn_for)\n",
      "C:\\Users\\sukit\\Anaconda2\\envs\\py3\\lib\\site-packages\\sklearn\\metrics\\classification.py:1143: UndefinedMetricWarning: F-score is ill-defined and being set to 0.0 in labels with no predicted samples.\n",
      "  'precision', 'predicted', average, warn_for)\n",
      "C:\\Users\\sukit\\Anaconda2\\envs\\py3\\lib\\site-packages\\sklearn\\metrics\\classification.py:1143: UndefinedMetricWarning: F-score is ill-defined and being set to 0.0 in labels with no predicted samples.\n",
      "  'precision', 'predicted', average, warn_for)\n",
      "C:\\Users\\sukit\\Anaconda2\\envs\\py3\\lib\\site-packages\\sklearn\\metrics\\classification.py:1143: UndefinedMetricWarning: F-score is ill-defined and being set to 0.0 in labels with no predicted samples.\n",
      "  'precision', 'predicted', average, warn_for)\n",
      "C:\\Users\\sukit\\Anaconda2\\envs\\py3\\lib\\site-packages\\sklearn\\metrics\\classification.py:1143: UndefinedMetricWarning: F-score is ill-defined and being set to 0.0 in labels with no predicted samples.\n",
      "  'precision', 'predicted', average, warn_for)\n",
      "C:\\Users\\sukit\\Anaconda2\\envs\\py3\\lib\\site-packages\\sklearn\\metrics\\classification.py:1143: UndefinedMetricWarning: F-score is ill-defined and being set to 0.0 in labels with no predicted samples.\n",
      "  'precision', 'predicted', average, warn_for)\n",
      "C:\\Users\\sukit\\Anaconda2\\envs\\py3\\lib\\site-packages\\sklearn\\metrics\\classification.py:1143: UndefinedMetricWarning: F-score is ill-defined and being set to 0.0 in labels with no predicted samples.\n",
      "  'precision', 'predicted', average, warn_for)\n",
      "C:\\Users\\sukit\\Anaconda2\\envs\\py3\\lib\\site-packages\\sklearn\\metrics\\classification.py:1143: UndefinedMetricWarning: F-score is ill-defined and being set to 0.0 in labels with no predicted samples.\n",
      "  'precision', 'predicted', average, warn_for)\n",
      "C:\\Users\\sukit\\Anaconda2\\envs\\py3\\lib\\site-packages\\sklearn\\metrics\\classification.py:1143: UndefinedMetricWarning: F-score is ill-defined and being set to 0.0 in labels with no predicted samples.\n",
      "  'precision', 'predicted', average, warn_for)\n",
      "C:\\Users\\sukit\\Anaconda2\\envs\\py3\\lib\\site-packages\\sklearn\\metrics\\classification.py:1143: UndefinedMetricWarning: F-score is ill-defined and being set to 0.0 in labels with no predicted samples.\n",
      "  'precision', 'predicted', average, warn_for)\n",
      "C:\\Users\\sukit\\Anaconda2\\envs\\py3\\lib\\site-packages\\sklearn\\metrics\\classification.py:1143: UndefinedMetricWarning: F-score is ill-defined and being set to 0.0 in labels with no predicted samples.\n",
      "  'precision', 'predicted', average, warn_for)\n",
      "C:\\Users\\sukit\\Anaconda2\\envs\\py3\\lib\\site-packages\\sklearn\\metrics\\classification.py:1143: UndefinedMetricWarning: F-score is ill-defined and being set to 0.0 in labels with no predicted samples.\n",
      "  'precision', 'predicted', average, warn_for)\n",
      "C:\\Users\\sukit\\Anaconda2\\envs\\py3\\lib\\site-packages\\sklearn\\metrics\\classification.py:1143: UndefinedMetricWarning: F-score is ill-defined and being set to 0.0 in labels with no predicted samples.\n",
      "  'precision', 'predicted', average, warn_for)\n",
      "C:\\Users\\sukit\\Anaconda2\\envs\\py3\\lib\\site-packages\\sklearn\\metrics\\classification.py:1143: UndefinedMetricWarning: F-score is ill-defined and being set to 0.0 in labels with no predicted samples.\n",
      "  'precision', 'predicted', average, warn_for)\n",
      "C:\\Users\\sukit\\Anaconda2\\envs\\py3\\lib\\site-packages\\sklearn\\metrics\\classification.py:1143: UndefinedMetricWarning: F-score is ill-defined and being set to 0.0 in labels with no predicted samples.\n",
      "  'precision', 'predicted', average, warn_for)\n",
      "C:\\Users\\sukit\\Anaconda2\\envs\\py3\\lib\\site-packages\\sklearn\\metrics\\classification.py:1143: UndefinedMetricWarning: F-score is ill-defined and being set to 0.0 in labels with no predicted samples.\n",
      "  'precision', 'predicted', average, warn_for)\n",
      "C:\\Users\\sukit\\Anaconda2\\envs\\py3\\lib\\site-packages\\sklearn\\metrics\\classification.py:1143: UndefinedMetricWarning: F-score is ill-defined and being set to 0.0 in labels with no predicted samples.\n",
      "  'precision', 'predicted', average, warn_for)\n",
      "C:\\Users\\sukit\\Anaconda2\\envs\\py3\\lib\\site-packages\\sklearn\\metrics\\classification.py:1143: UndefinedMetricWarning: F-score is ill-defined and being set to 0.0 in labels with no predicted samples.\n",
      "  'precision', 'predicted', average, warn_for)\n",
      "C:\\Users\\sukit\\Anaconda2\\envs\\py3\\lib\\site-packages\\sklearn\\metrics\\classification.py:1143: UndefinedMetricWarning: F-score is ill-defined and being set to 0.0 in labels with no predicted samples.\n",
      "  'precision', 'predicted', average, warn_for)\n",
      "C:\\Users\\sukit\\Anaconda2\\envs\\py3\\lib\\site-packages\\sklearn\\metrics\\classification.py:1143: UndefinedMetricWarning: F-score is ill-defined and being set to 0.0 in labels with no predicted samples.\n",
      "  'precision', 'predicted', average, warn_for)\n",
      "C:\\Users\\sukit\\Anaconda2\\envs\\py3\\lib\\site-packages\\sklearn\\metrics\\classification.py:1143: UndefinedMetricWarning: F-score is ill-defined and being set to 0.0 in labels with no predicted samples.\n",
      "  'precision', 'predicted', average, warn_for)\n",
      "C:\\Users\\sukit\\Anaconda2\\envs\\py3\\lib\\site-packages\\sklearn\\metrics\\classification.py:1143: UndefinedMetricWarning: F-score is ill-defined and being set to 0.0 in labels with no predicted samples.\n",
      "  'precision', 'predicted', average, warn_for)\n",
      "C:\\Users\\sukit\\Anaconda2\\envs\\py3\\lib\\site-packages\\sklearn\\metrics\\classification.py:1143: UndefinedMetricWarning: F-score is ill-defined and being set to 0.0 in labels with no predicted samples.\n",
      "  'precision', 'predicted', average, warn_for)\n",
      "C:\\Users\\sukit\\Anaconda2\\envs\\py3\\lib\\site-packages\\sklearn\\metrics\\classification.py:1143: UndefinedMetricWarning: F-score is ill-defined and being set to 0.0 in labels with no predicted samples.\n",
      "  'precision', 'predicted', average, warn_for)\n",
      "C:\\Users\\sukit\\Anaconda2\\envs\\py3\\lib\\site-packages\\sklearn\\metrics\\classification.py:1143: UndefinedMetricWarning: F-score is ill-defined and being set to 0.0 in labels with no predicted samples.\n",
      "  'precision', 'predicted', average, warn_for)\n",
      "C:\\Users\\sukit\\Anaconda2\\envs\\py3\\lib\\site-packages\\sklearn\\metrics\\classification.py:1143: UndefinedMetricWarning: F-score is ill-defined and being set to 0.0 in labels with no predicted samples.\n",
      "  'precision', 'predicted', average, warn_for)\n",
      "C:\\Users\\sukit\\Anaconda2\\envs\\py3\\lib\\site-packages\\sklearn\\metrics\\classification.py:1143: UndefinedMetricWarning: F-score is ill-defined and being set to 0.0 in labels with no predicted samples.\n",
      "  'precision', 'predicted', average, warn_for)\n",
      "C:\\Users\\sukit\\Anaconda2\\envs\\py3\\lib\\site-packages\\sklearn\\metrics\\classification.py:1143: UndefinedMetricWarning: F-score is ill-defined and being set to 0.0 in labels with no predicted samples.\n",
      "  'precision', 'predicted', average, warn_for)\n",
      "C:\\Users\\sukit\\Anaconda2\\envs\\py3\\lib\\site-packages\\sklearn\\metrics\\classification.py:1143: UndefinedMetricWarning: F-score is ill-defined and being set to 0.0 in labels with no predicted samples.\n",
      "  'precision', 'predicted', average, warn_for)\n",
      "C:\\Users\\sukit\\Anaconda2\\envs\\py3\\lib\\site-packages\\sklearn\\metrics\\classification.py:1143: UndefinedMetricWarning: F-score is ill-defined and being set to 0.0 in labels with no predicted samples.\n",
      "  'precision', 'predicted', average, warn_for)\n"
     ]
    },
    {
     "name": "stderr",
     "output_type": "stream",
     "text": [
      "C:\\Users\\sukit\\Anaconda2\\envs\\py3\\lib\\site-packages\\sklearn\\metrics\\classification.py:1143: UndefinedMetricWarning: F-score is ill-defined and being set to 0.0 in labels with no predicted samples.\n",
      "  'precision', 'predicted', average, warn_for)\n",
      "C:\\Users\\sukit\\Anaconda2\\envs\\py3\\lib\\site-packages\\sklearn\\metrics\\classification.py:1143: UndefinedMetricWarning: F-score is ill-defined and being set to 0.0 in labels with no predicted samples.\n",
      "  'precision', 'predicted', average, warn_for)\n",
      "C:\\Users\\sukit\\Anaconda2\\envs\\py3\\lib\\site-packages\\sklearn\\metrics\\classification.py:1143: UndefinedMetricWarning: F-score is ill-defined and being set to 0.0 in labels with no predicted samples.\n",
      "  'precision', 'predicted', average, warn_for)\n",
      "C:\\Users\\sukit\\Anaconda2\\envs\\py3\\lib\\site-packages\\sklearn\\metrics\\classification.py:1143: UndefinedMetricWarning: F-score is ill-defined and being set to 0.0 in labels with no predicted samples.\n",
      "  'precision', 'predicted', average, warn_for)\n",
      "C:\\Users\\sukit\\Anaconda2\\envs\\py3\\lib\\site-packages\\sklearn\\metrics\\classification.py:1143: UndefinedMetricWarning: F-score is ill-defined and being set to 0.0 in labels with no predicted samples.\n",
      "  'precision', 'predicted', average, warn_for)\n",
      "C:\\Users\\sukit\\Anaconda2\\envs\\py3\\lib\\site-packages\\sklearn\\metrics\\classification.py:1143: UndefinedMetricWarning: F-score is ill-defined and being set to 0.0 in labels with no predicted samples.\n",
      "  'precision', 'predicted', average, warn_for)\n",
      "C:\\Users\\sukit\\Anaconda2\\envs\\py3\\lib\\site-packages\\sklearn\\metrics\\classification.py:1143: UndefinedMetricWarning: F-score is ill-defined and being set to 0.0 in labels with no predicted samples.\n",
      "  'precision', 'predicted', average, warn_for)\n",
      "C:\\Users\\sukit\\Anaconda2\\envs\\py3\\lib\\site-packages\\sklearn\\metrics\\classification.py:1143: UndefinedMetricWarning: F-score is ill-defined and being set to 0.0 in labels with no predicted samples.\n",
      "  'precision', 'predicted', average, warn_for)\n",
      "C:\\Users\\sukit\\Anaconda2\\envs\\py3\\lib\\site-packages\\sklearn\\metrics\\classification.py:1143: UndefinedMetricWarning: F-score is ill-defined and being set to 0.0 in labels with no predicted samples.\n",
      "  'precision', 'predicted', average, warn_for)\n",
      "C:\\Users\\sukit\\Anaconda2\\envs\\py3\\lib\\site-packages\\sklearn\\metrics\\classification.py:1143: UndefinedMetricWarning: F-score is ill-defined and being set to 0.0 in labels with no predicted samples.\n",
      "  'precision', 'predicted', average, warn_for)\n",
      "C:\\Users\\sukit\\Anaconda2\\envs\\py3\\lib\\site-packages\\sklearn\\metrics\\classification.py:1143: UndefinedMetricWarning: F-score is ill-defined and being set to 0.0 in labels with no predicted samples.\n",
      "  'precision', 'predicted', average, warn_for)\n",
      "C:\\Users\\sukit\\Anaconda2\\envs\\py3\\lib\\site-packages\\sklearn\\metrics\\classification.py:1143: UndefinedMetricWarning: F-score is ill-defined and being set to 0.0 in labels with no predicted samples.\n",
      "  'precision', 'predicted', average, warn_for)\n",
      "C:\\Users\\sukit\\Anaconda2\\envs\\py3\\lib\\site-packages\\sklearn\\metrics\\classification.py:1143: UndefinedMetricWarning: F-score is ill-defined and being set to 0.0 in labels with no predicted samples.\n",
      "  'precision', 'predicted', average, warn_for)\n",
      "C:\\Users\\sukit\\Anaconda2\\envs\\py3\\lib\\site-packages\\sklearn\\metrics\\classification.py:1143: UndefinedMetricWarning: F-score is ill-defined and being set to 0.0 in labels with no predicted samples.\n",
      "  'precision', 'predicted', average, warn_for)\n",
      "C:\\Users\\sukit\\Anaconda2\\envs\\py3\\lib\\site-packages\\sklearn\\metrics\\classification.py:1143: UndefinedMetricWarning: F-score is ill-defined and being set to 0.0 in labels with no predicted samples.\n",
      "  'precision', 'predicted', average, warn_for)\n",
      "C:\\Users\\sukit\\Anaconda2\\envs\\py3\\lib\\site-packages\\sklearn\\metrics\\classification.py:1143: UndefinedMetricWarning: F-score is ill-defined and being set to 0.0 in labels with no predicted samples.\n",
      "  'precision', 'predicted', average, warn_for)\n",
      "C:\\Users\\sukit\\Anaconda2\\envs\\py3\\lib\\site-packages\\sklearn\\metrics\\classification.py:1143: UndefinedMetricWarning: F-score is ill-defined and being set to 0.0 in labels with no predicted samples.\n",
      "  'precision', 'predicted', average, warn_for)\n",
      "C:\\Users\\sukit\\Anaconda2\\envs\\py3\\lib\\site-packages\\sklearn\\metrics\\classification.py:1143: UndefinedMetricWarning: F-score is ill-defined and being set to 0.0 in labels with no predicted samples.\n",
      "  'precision', 'predicted', average, warn_for)\n",
      "C:\\Users\\sukit\\Anaconda2\\envs\\py3\\lib\\site-packages\\sklearn\\metrics\\classification.py:1143: UndefinedMetricWarning: F-score is ill-defined and being set to 0.0 in labels with no predicted samples.\n",
      "  'precision', 'predicted', average, warn_for)\n",
      "C:\\Users\\sukit\\Anaconda2\\envs\\py3\\lib\\site-packages\\sklearn\\metrics\\classification.py:1143: UndefinedMetricWarning: F-score is ill-defined and being set to 0.0 in labels with no predicted samples.\n",
      "  'precision', 'predicted', average, warn_for)\n",
      "C:\\Users\\sukit\\Anaconda2\\envs\\py3\\lib\\site-packages\\sklearn\\metrics\\classification.py:1143: UndefinedMetricWarning: F-score is ill-defined and being set to 0.0 in labels with no predicted samples.\n",
      "  'precision', 'predicted', average, warn_for)\n",
      "C:\\Users\\sukit\\Anaconda2\\envs\\py3\\lib\\site-packages\\sklearn\\metrics\\classification.py:1143: UndefinedMetricWarning: F-score is ill-defined and being set to 0.0 in labels with no predicted samples.\n",
      "  'precision', 'predicted', average, warn_for)\n",
      "C:\\Users\\sukit\\Anaconda2\\envs\\py3\\lib\\site-packages\\sklearn\\metrics\\classification.py:1143: UndefinedMetricWarning: F-score is ill-defined and being set to 0.0 in labels with no predicted samples.\n",
      "  'precision', 'predicted', average, warn_for)\n",
      "C:\\Users\\sukit\\Anaconda2\\envs\\py3\\lib\\site-packages\\sklearn\\metrics\\classification.py:1143: UndefinedMetricWarning: F-score is ill-defined and being set to 0.0 in labels with no predicted samples.\n",
      "  'precision', 'predicted', average, warn_for)\n",
      "C:\\Users\\sukit\\Anaconda2\\envs\\py3\\lib\\site-packages\\sklearn\\metrics\\classification.py:1143: UndefinedMetricWarning: F-score is ill-defined and being set to 0.0 in labels with no predicted samples.\n",
      "  'precision', 'predicted', average, warn_for)\n",
      "C:\\Users\\sukit\\Anaconda2\\envs\\py3\\lib\\site-packages\\sklearn\\metrics\\classification.py:1143: UndefinedMetricWarning: F-score is ill-defined and being set to 0.0 in labels with no predicted samples.\n",
      "  'precision', 'predicted', average, warn_for)\n",
      "C:\\Users\\sukit\\Anaconda2\\envs\\py3\\lib\\site-packages\\sklearn\\metrics\\classification.py:1143: UndefinedMetricWarning: F-score is ill-defined and being set to 0.0 in labels with no predicted samples.\n",
      "  'precision', 'predicted', average, warn_for)\n",
      "C:\\Users\\sukit\\Anaconda2\\envs\\py3\\lib\\site-packages\\sklearn\\metrics\\classification.py:1143: UndefinedMetricWarning: F-score is ill-defined and being set to 0.0 in labels with no predicted samples.\n",
      "  'precision', 'predicted', average, warn_for)\n",
      "C:\\Users\\sukit\\Anaconda2\\envs\\py3\\lib\\site-packages\\sklearn\\metrics\\classification.py:1143: UndefinedMetricWarning: F-score is ill-defined and being set to 0.0 in labels with no predicted samples.\n",
      "  'precision', 'predicted', average, warn_for)\n",
      "C:\\Users\\sukit\\Anaconda2\\envs\\py3\\lib\\site-packages\\sklearn\\metrics\\classification.py:1143: UndefinedMetricWarning: F-score is ill-defined and being set to 0.0 in labels with no predicted samples.\n",
      "  'precision', 'predicted', average, warn_for)\n",
      "C:\\Users\\sukit\\Anaconda2\\envs\\py3\\lib\\site-packages\\sklearn\\metrics\\classification.py:1143: UndefinedMetricWarning: F-score is ill-defined and being set to 0.0 in labels with no predicted samples.\n",
      "  'precision', 'predicted', average, warn_for)\n",
      "C:\\Users\\sukit\\Anaconda2\\envs\\py3\\lib\\site-packages\\sklearn\\metrics\\classification.py:1143: UndefinedMetricWarning: F-score is ill-defined and being set to 0.0 in labels with no predicted samples.\n",
      "  'precision', 'predicted', average, warn_for)\n",
      "C:\\Users\\sukit\\Anaconda2\\envs\\py3\\lib\\site-packages\\sklearn\\metrics\\classification.py:1143: UndefinedMetricWarning: F-score is ill-defined and being set to 0.0 in labels with no predicted samples.\n",
      "  'precision', 'predicted', average, warn_for)\n",
      "C:\\Users\\sukit\\Anaconda2\\envs\\py3\\lib\\site-packages\\sklearn\\metrics\\classification.py:1143: UndefinedMetricWarning: F-score is ill-defined and being set to 0.0 in labels with no predicted samples.\n",
      "  'precision', 'predicted', average, warn_for)\n",
      "C:\\Users\\sukit\\Anaconda2\\envs\\py3\\lib\\site-packages\\sklearn\\metrics\\classification.py:1143: UndefinedMetricWarning: F-score is ill-defined and being set to 0.0 in labels with no predicted samples.\n",
      "  'precision', 'predicted', average, warn_for)\n",
      "C:\\Users\\sukit\\Anaconda2\\envs\\py3\\lib\\site-packages\\sklearn\\metrics\\classification.py:1143: UndefinedMetricWarning: F-score is ill-defined and being set to 0.0 in labels with no predicted samples.\n",
      "  'precision', 'predicted', average, warn_for)\n",
      "C:\\Users\\sukit\\Anaconda2\\envs\\py3\\lib\\site-packages\\sklearn\\metrics\\classification.py:1143: UndefinedMetricWarning: F-score is ill-defined and being set to 0.0 in labels with no predicted samples.\n",
      "  'precision', 'predicted', average, warn_for)\n",
      "C:\\Users\\sukit\\Anaconda2\\envs\\py3\\lib\\site-packages\\sklearn\\metrics\\classification.py:1143: UndefinedMetricWarning: F-score is ill-defined and being set to 0.0 in labels with no predicted samples.\n",
      "  'precision', 'predicted', average, warn_for)\n",
      "C:\\Users\\sukit\\Anaconda2\\envs\\py3\\lib\\site-packages\\sklearn\\metrics\\classification.py:1143: UndefinedMetricWarning: F-score is ill-defined and being set to 0.0 in labels with no predicted samples.\n",
      "  'precision', 'predicted', average, warn_for)\n",
      "C:\\Users\\sukit\\Anaconda2\\envs\\py3\\lib\\site-packages\\sklearn\\metrics\\classification.py:1143: UndefinedMetricWarning: F-score is ill-defined and being set to 0.0 in labels with no predicted samples.\n",
      "  'precision', 'predicted', average, warn_for)\n",
      "C:\\Users\\sukit\\Anaconda2\\envs\\py3\\lib\\site-packages\\sklearn\\metrics\\classification.py:1143: UndefinedMetricWarning: F-score is ill-defined and being set to 0.0 in labels with no predicted samples.\n",
      "  'precision', 'predicted', average, warn_for)\n"
     ]
    },
    {
     "name": "stderr",
     "output_type": "stream",
     "text": [
      "C:\\Users\\sukit\\Anaconda2\\envs\\py3\\lib\\site-packages\\sklearn\\metrics\\classification.py:1143: UndefinedMetricWarning: F-score is ill-defined and being set to 0.0 in labels with no predicted samples.\n",
      "  'precision', 'predicted', average, warn_for)\n",
      "C:\\Users\\sukit\\Anaconda2\\envs\\py3\\lib\\site-packages\\sklearn\\metrics\\classification.py:1143: UndefinedMetricWarning: F-score is ill-defined and being set to 0.0 in labels with no predicted samples.\n",
      "  'precision', 'predicted', average, warn_for)\n",
      "C:\\Users\\sukit\\Anaconda2\\envs\\py3\\lib\\site-packages\\sklearn\\metrics\\classification.py:1143: UndefinedMetricWarning: F-score is ill-defined and being set to 0.0 in labels with no predicted samples.\n",
      "  'precision', 'predicted', average, warn_for)\n",
      "C:\\Users\\sukit\\Anaconda2\\envs\\py3\\lib\\site-packages\\sklearn\\metrics\\classification.py:1143: UndefinedMetricWarning: F-score is ill-defined and being set to 0.0 in labels with no predicted samples.\n",
      "  'precision', 'predicted', average, warn_for)\n",
      "C:\\Users\\sukit\\Anaconda2\\envs\\py3\\lib\\site-packages\\sklearn\\metrics\\classification.py:1143: UndefinedMetricWarning: F-score is ill-defined and being set to 0.0 in labels with no predicted samples.\n",
      "  'precision', 'predicted', average, warn_for)\n",
      "C:\\Users\\sukit\\Anaconda2\\envs\\py3\\lib\\site-packages\\sklearn\\metrics\\classification.py:1143: UndefinedMetricWarning: F-score is ill-defined and being set to 0.0 in labels with no predicted samples.\n",
      "  'precision', 'predicted', average, warn_for)\n",
      "C:\\Users\\sukit\\Anaconda2\\envs\\py3\\lib\\site-packages\\sklearn\\metrics\\classification.py:1143: UndefinedMetricWarning: F-score is ill-defined and being set to 0.0 in labels with no predicted samples.\n",
      "  'precision', 'predicted', average, warn_for)\n",
      "C:\\Users\\sukit\\Anaconda2\\envs\\py3\\lib\\site-packages\\sklearn\\metrics\\classification.py:1143: UndefinedMetricWarning: F-score is ill-defined and being set to 0.0 in labels with no predicted samples.\n",
      "  'precision', 'predicted', average, warn_for)\n",
      "C:\\Users\\sukit\\Anaconda2\\envs\\py3\\lib\\site-packages\\sklearn\\metrics\\classification.py:1143: UndefinedMetricWarning: F-score is ill-defined and being set to 0.0 in labels with no predicted samples.\n",
      "  'precision', 'predicted', average, warn_for)\n",
      "C:\\Users\\sukit\\Anaconda2\\envs\\py3\\lib\\site-packages\\sklearn\\metrics\\classification.py:1143: UndefinedMetricWarning: F-score is ill-defined and being set to 0.0 in labels with no predicted samples.\n",
      "  'precision', 'predicted', average, warn_for)\n",
      "C:\\Users\\sukit\\Anaconda2\\envs\\py3\\lib\\site-packages\\sklearn\\metrics\\classification.py:1143: UndefinedMetricWarning: F-score is ill-defined and being set to 0.0 in labels with no predicted samples.\n",
      "  'precision', 'predicted', average, warn_for)\n",
      "C:\\Users\\sukit\\Anaconda2\\envs\\py3\\lib\\site-packages\\sklearn\\metrics\\classification.py:1143: UndefinedMetricWarning: F-score is ill-defined and being set to 0.0 in labels with no predicted samples.\n",
      "  'precision', 'predicted', average, warn_for)\n",
      "C:\\Users\\sukit\\Anaconda2\\envs\\py3\\lib\\site-packages\\sklearn\\metrics\\classification.py:1143: UndefinedMetricWarning: F-score is ill-defined and being set to 0.0 in labels with no predicted samples.\n",
      "  'precision', 'predicted', average, warn_for)\n",
      "C:\\Users\\sukit\\Anaconda2\\envs\\py3\\lib\\site-packages\\sklearn\\metrics\\classification.py:1143: UndefinedMetricWarning: F-score is ill-defined and being set to 0.0 in labels with no predicted samples.\n",
      "  'precision', 'predicted', average, warn_for)\n",
      "C:\\Users\\sukit\\Anaconda2\\envs\\py3\\lib\\site-packages\\sklearn\\metrics\\classification.py:1143: UndefinedMetricWarning: F-score is ill-defined and being set to 0.0 in labels with no predicted samples.\n",
      "  'precision', 'predicted', average, warn_for)\n",
      "C:\\Users\\sukit\\Anaconda2\\envs\\py3\\lib\\site-packages\\sklearn\\metrics\\classification.py:1143: UndefinedMetricWarning: F-score is ill-defined and being set to 0.0 in labels with no predicted samples.\n",
      "  'precision', 'predicted', average, warn_for)\n",
      "C:\\Users\\sukit\\Anaconda2\\envs\\py3\\lib\\site-packages\\sklearn\\metrics\\classification.py:1143: UndefinedMetricWarning: F-score is ill-defined and being set to 0.0 in labels with no predicted samples.\n",
      "  'precision', 'predicted', average, warn_for)\n",
      "C:\\Users\\sukit\\Anaconda2\\envs\\py3\\lib\\site-packages\\sklearn\\metrics\\classification.py:1143: UndefinedMetricWarning: F-score is ill-defined and being set to 0.0 in labels with no predicted samples.\n",
      "  'precision', 'predicted', average, warn_for)\n",
      "C:\\Users\\sukit\\Anaconda2\\envs\\py3\\lib\\site-packages\\sklearn\\metrics\\classification.py:1143: UndefinedMetricWarning: F-score is ill-defined and being set to 0.0 in labels with no predicted samples.\n",
      "  'precision', 'predicted', average, warn_for)\n",
      "C:\\Users\\sukit\\Anaconda2\\envs\\py3\\lib\\site-packages\\sklearn\\metrics\\classification.py:1143: UndefinedMetricWarning: F-score is ill-defined and being set to 0.0 in labels with no predicted samples.\n",
      "  'precision', 'predicted', average, warn_for)\n",
      "C:\\Users\\sukit\\Anaconda2\\envs\\py3\\lib\\site-packages\\sklearn\\metrics\\classification.py:1143: UndefinedMetricWarning: F-score is ill-defined and being set to 0.0 in labels with no predicted samples.\n",
      "  'precision', 'predicted', average, warn_for)\n",
      "C:\\Users\\sukit\\Anaconda2\\envs\\py3\\lib\\site-packages\\sklearn\\metrics\\classification.py:1143: UndefinedMetricWarning: F-score is ill-defined and being set to 0.0 in labels with no predicted samples.\n",
      "  'precision', 'predicted', average, warn_for)\n",
      "C:\\Users\\sukit\\Anaconda2\\envs\\py3\\lib\\site-packages\\sklearn\\metrics\\classification.py:1143: UndefinedMetricWarning: F-score is ill-defined and being set to 0.0 in labels with no predicted samples.\n",
      "  'precision', 'predicted', average, warn_for)\n",
      "C:\\Users\\sukit\\Anaconda2\\envs\\py3\\lib\\site-packages\\sklearn\\metrics\\classification.py:1143: UndefinedMetricWarning: F-score is ill-defined and being set to 0.0 in labels with no predicted samples.\n",
      "  'precision', 'predicted', average, warn_for)\n",
      "C:\\Users\\sukit\\Anaconda2\\envs\\py3\\lib\\site-packages\\sklearn\\metrics\\classification.py:1143: UndefinedMetricWarning: F-score is ill-defined and being set to 0.0 in labels with no predicted samples.\n",
      "  'precision', 'predicted', average, warn_for)\n",
      "C:\\Users\\sukit\\Anaconda2\\envs\\py3\\lib\\site-packages\\sklearn\\metrics\\classification.py:1143: UndefinedMetricWarning: F-score is ill-defined and being set to 0.0 in labels with no predicted samples.\n",
      "  'precision', 'predicted', average, warn_for)\n",
      "C:\\Users\\sukit\\Anaconda2\\envs\\py3\\lib\\site-packages\\sklearn\\metrics\\classification.py:1143: UndefinedMetricWarning: F-score is ill-defined and being set to 0.0 in labels with no predicted samples.\n",
      "  'precision', 'predicted', average, warn_for)\n",
      "C:\\Users\\sukit\\Anaconda2\\envs\\py3\\lib\\site-packages\\sklearn\\metrics\\classification.py:1143: UndefinedMetricWarning: F-score is ill-defined and being set to 0.0 in labels with no predicted samples.\n",
      "  'precision', 'predicted', average, warn_for)\n",
      "C:\\Users\\sukit\\Anaconda2\\envs\\py3\\lib\\site-packages\\sklearn\\metrics\\classification.py:1143: UndefinedMetricWarning: F-score is ill-defined and being set to 0.0 in labels with no predicted samples.\n",
      "  'precision', 'predicted', average, warn_for)\n",
      "C:\\Users\\sukit\\Anaconda2\\envs\\py3\\lib\\site-packages\\sklearn\\metrics\\classification.py:1143: UndefinedMetricWarning: F-score is ill-defined and being set to 0.0 in labels with no predicted samples.\n",
      "  'precision', 'predicted', average, warn_for)\n",
      "C:\\Users\\sukit\\Anaconda2\\envs\\py3\\lib\\site-packages\\sklearn\\metrics\\classification.py:1143: UndefinedMetricWarning: F-score is ill-defined and being set to 0.0 in labels with no predicted samples.\n",
      "  'precision', 'predicted', average, warn_for)\n",
      "C:\\Users\\sukit\\Anaconda2\\envs\\py3\\lib\\site-packages\\sklearn\\metrics\\classification.py:1143: UndefinedMetricWarning: F-score is ill-defined and being set to 0.0 in labels with no predicted samples.\n",
      "  'precision', 'predicted', average, warn_for)\n",
      "C:\\Users\\sukit\\Anaconda2\\envs\\py3\\lib\\site-packages\\sklearn\\metrics\\classification.py:1143: UndefinedMetricWarning: F-score is ill-defined and being set to 0.0 in labels with no predicted samples.\n",
      "  'precision', 'predicted', average, warn_for)\n",
      "C:\\Users\\sukit\\Anaconda2\\envs\\py3\\lib\\site-packages\\sklearn\\metrics\\classification.py:1143: UndefinedMetricWarning: F-score is ill-defined and being set to 0.0 in labels with no predicted samples.\n",
      "  'precision', 'predicted', average, warn_for)\n",
      "C:\\Users\\sukit\\Anaconda2\\envs\\py3\\lib\\site-packages\\sklearn\\metrics\\classification.py:1143: UndefinedMetricWarning: F-score is ill-defined and being set to 0.0 in labels with no predicted samples.\n",
      "  'precision', 'predicted', average, warn_for)\n"
     ]
    },
    {
     "name": "stderr",
     "output_type": "stream",
     "text": [
      "C:\\Users\\sukit\\Anaconda2\\envs\\py3\\lib\\site-packages\\sklearn\\metrics\\classification.py:1143: UndefinedMetricWarning: F-score is ill-defined and being set to 0.0 in labels with no predicted samples.\n",
      "  'precision', 'predicted', average, warn_for)\n",
      "C:\\Users\\sukit\\Anaconda2\\envs\\py3\\lib\\site-packages\\sklearn\\metrics\\classification.py:1143: UndefinedMetricWarning: F-score is ill-defined and being set to 0.0 in labels with no predicted samples.\n",
      "  'precision', 'predicted', average, warn_for)\n",
      "C:\\Users\\sukit\\Anaconda2\\envs\\py3\\lib\\site-packages\\sklearn\\metrics\\classification.py:1143: UndefinedMetricWarning: F-score is ill-defined and being set to 0.0 in labels with no predicted samples.\n",
      "  'precision', 'predicted', average, warn_for)\n",
      "C:\\Users\\sukit\\Anaconda2\\envs\\py3\\lib\\site-packages\\sklearn\\metrics\\classification.py:1143: UndefinedMetricWarning: F-score is ill-defined and being set to 0.0 in labels with no predicted samples.\n",
      "  'precision', 'predicted', average, warn_for)\n",
      "C:\\Users\\sukit\\Anaconda2\\envs\\py3\\lib\\site-packages\\sklearn\\metrics\\classification.py:1143: UndefinedMetricWarning: F-score is ill-defined and being set to 0.0 in labels with no predicted samples.\n",
      "  'precision', 'predicted', average, warn_for)\n",
      "C:\\Users\\sukit\\Anaconda2\\envs\\py3\\lib\\site-packages\\sklearn\\metrics\\classification.py:1143: UndefinedMetricWarning: F-score is ill-defined and being set to 0.0 in labels with no predicted samples.\n",
      "  'precision', 'predicted', average, warn_for)\n",
      "C:\\Users\\sukit\\Anaconda2\\envs\\py3\\lib\\site-packages\\sklearn\\metrics\\classification.py:1143: UndefinedMetricWarning: F-score is ill-defined and being set to 0.0 in labels with no predicted samples.\n",
      "  'precision', 'predicted', average, warn_for)\n",
      "C:\\Users\\sukit\\Anaconda2\\envs\\py3\\lib\\site-packages\\sklearn\\metrics\\classification.py:1143: UndefinedMetricWarning: F-score is ill-defined and being set to 0.0 in labels with no predicted samples.\n",
      "  'precision', 'predicted', average, warn_for)\n",
      "C:\\Users\\sukit\\Anaconda2\\envs\\py3\\lib\\site-packages\\sklearn\\metrics\\classification.py:1143: UndefinedMetricWarning: F-score is ill-defined and being set to 0.0 in labels with no predicted samples.\n",
      "  'precision', 'predicted', average, warn_for)\n",
      "C:\\Users\\sukit\\Anaconda2\\envs\\py3\\lib\\site-packages\\sklearn\\metrics\\classification.py:1143: UndefinedMetricWarning: F-score is ill-defined and being set to 0.0 in labels with no predicted samples.\n",
      "  'precision', 'predicted', average, warn_for)\n",
      "C:\\Users\\sukit\\Anaconda2\\envs\\py3\\lib\\site-packages\\sklearn\\metrics\\classification.py:1143: UndefinedMetricWarning: F-score is ill-defined and being set to 0.0 in labels with no predicted samples.\n",
      "  'precision', 'predicted', average, warn_for)\n",
      "C:\\Users\\sukit\\Anaconda2\\envs\\py3\\lib\\site-packages\\sklearn\\metrics\\classification.py:1143: UndefinedMetricWarning: F-score is ill-defined and being set to 0.0 in labels with no predicted samples.\n",
      "  'precision', 'predicted', average, warn_for)\n",
      "C:\\Users\\sukit\\Anaconda2\\envs\\py3\\lib\\site-packages\\sklearn\\metrics\\classification.py:1143: UndefinedMetricWarning: F-score is ill-defined and being set to 0.0 in labels with no predicted samples.\n",
      "  'precision', 'predicted', average, warn_for)\n",
      "C:\\Users\\sukit\\Anaconda2\\envs\\py3\\lib\\site-packages\\sklearn\\metrics\\classification.py:1143: UndefinedMetricWarning: F-score is ill-defined and being set to 0.0 in labels with no predicted samples.\n",
      "  'precision', 'predicted', average, warn_for)\n",
      "C:\\Users\\sukit\\Anaconda2\\envs\\py3\\lib\\site-packages\\sklearn\\metrics\\classification.py:1143: UndefinedMetricWarning: F-score is ill-defined and being set to 0.0 in labels with no predicted samples.\n",
      "  'precision', 'predicted', average, warn_for)\n",
      "C:\\Users\\sukit\\Anaconda2\\envs\\py3\\lib\\site-packages\\sklearn\\metrics\\classification.py:1143: UndefinedMetricWarning: F-score is ill-defined and being set to 0.0 in labels with no predicted samples.\n",
      "  'precision', 'predicted', average, warn_for)\n",
      "C:\\Users\\sukit\\Anaconda2\\envs\\py3\\lib\\site-packages\\sklearn\\metrics\\classification.py:1143: UndefinedMetricWarning: F-score is ill-defined and being set to 0.0 in labels with no predicted samples.\n",
      "  'precision', 'predicted', average, warn_for)\n",
      "C:\\Users\\sukit\\Anaconda2\\envs\\py3\\lib\\site-packages\\sklearn\\metrics\\classification.py:1143: UndefinedMetricWarning: F-score is ill-defined and being set to 0.0 in labels with no predicted samples.\n",
      "  'precision', 'predicted', average, warn_for)\n",
      "C:\\Users\\sukit\\Anaconda2\\envs\\py3\\lib\\site-packages\\sklearn\\metrics\\classification.py:1143: UndefinedMetricWarning: F-score is ill-defined and being set to 0.0 in labels with no predicted samples.\n",
      "  'precision', 'predicted', average, warn_for)\n",
      "C:\\Users\\sukit\\Anaconda2\\envs\\py3\\lib\\site-packages\\sklearn\\metrics\\classification.py:1143: UndefinedMetricWarning: F-score is ill-defined and being set to 0.0 in labels with no predicted samples.\n",
      "  'precision', 'predicted', average, warn_for)\n",
      "C:\\Users\\sukit\\Anaconda2\\envs\\py3\\lib\\site-packages\\sklearn\\metrics\\classification.py:1143: UndefinedMetricWarning: F-score is ill-defined and being set to 0.0 in labels with no predicted samples.\n",
      "  'precision', 'predicted', average, warn_for)\n",
      "C:\\Users\\sukit\\Anaconda2\\envs\\py3\\lib\\site-packages\\sklearn\\metrics\\classification.py:1143: UndefinedMetricWarning: F-score is ill-defined and being set to 0.0 in labels with no predicted samples.\n",
      "  'precision', 'predicted', average, warn_for)\n",
      "C:\\Users\\sukit\\Anaconda2\\envs\\py3\\lib\\site-packages\\sklearn\\metrics\\classification.py:1143: UndefinedMetricWarning: F-score is ill-defined and being set to 0.0 in labels with no predicted samples.\n",
      "  'precision', 'predicted', average, warn_for)\n",
      "C:\\Users\\sukit\\Anaconda2\\envs\\py3\\lib\\site-packages\\sklearn\\metrics\\classification.py:1143: UndefinedMetricWarning: F-score is ill-defined and being set to 0.0 in labels with no predicted samples.\n",
      "  'precision', 'predicted', average, warn_for)\n",
      "C:\\Users\\sukit\\Anaconda2\\envs\\py3\\lib\\site-packages\\sklearn\\metrics\\classification.py:1143: UndefinedMetricWarning: F-score is ill-defined and being set to 0.0 in labels with no predicted samples.\n",
      "  'precision', 'predicted', average, warn_for)\n",
      "C:\\Users\\sukit\\Anaconda2\\envs\\py3\\lib\\site-packages\\sklearn\\metrics\\classification.py:1143: UndefinedMetricWarning: F-score is ill-defined and being set to 0.0 in labels with no predicted samples.\n",
      "  'precision', 'predicted', average, warn_for)\n",
      "C:\\Users\\sukit\\Anaconda2\\envs\\py3\\lib\\site-packages\\sklearn\\metrics\\classification.py:1143: UndefinedMetricWarning: F-score is ill-defined and being set to 0.0 in labels with no predicted samples.\n",
      "  'precision', 'predicted', average, warn_for)\n",
      "C:\\Users\\sukit\\Anaconda2\\envs\\py3\\lib\\site-packages\\sklearn\\metrics\\classification.py:1143: UndefinedMetricWarning: F-score is ill-defined and being set to 0.0 in labels with no predicted samples.\n",
      "  'precision', 'predicted', average, warn_for)\n",
      "C:\\Users\\sukit\\Anaconda2\\envs\\py3\\lib\\site-packages\\sklearn\\metrics\\classification.py:1143: UndefinedMetricWarning: F-score is ill-defined and being set to 0.0 in labels with no predicted samples.\n",
      "  'precision', 'predicted', average, warn_for)\n",
      "C:\\Users\\sukit\\Anaconda2\\envs\\py3\\lib\\site-packages\\sklearn\\metrics\\classification.py:1143: UndefinedMetricWarning: F-score is ill-defined and being set to 0.0 in labels with no predicted samples.\n",
      "  'precision', 'predicted', average, warn_for)\n",
      "C:\\Users\\sukit\\Anaconda2\\envs\\py3\\lib\\site-packages\\sklearn\\metrics\\classification.py:1143: UndefinedMetricWarning: F-score is ill-defined and being set to 0.0 in labels with no predicted samples.\n",
      "  'precision', 'predicted', average, warn_for)\n",
      "C:\\Users\\sukit\\Anaconda2\\envs\\py3\\lib\\site-packages\\sklearn\\metrics\\classification.py:1143: UndefinedMetricWarning: F-score is ill-defined and being set to 0.0 in labels with no predicted samples.\n",
      "  'precision', 'predicted', average, warn_for)\n",
      "C:\\Users\\sukit\\Anaconda2\\envs\\py3\\lib\\site-packages\\sklearn\\metrics\\classification.py:1143: UndefinedMetricWarning: F-score is ill-defined and being set to 0.0 in labels with no predicted samples.\n",
      "  'precision', 'predicted', average, warn_for)\n",
      "C:\\Users\\sukit\\Anaconda2\\envs\\py3\\lib\\site-packages\\sklearn\\metrics\\classification.py:1143: UndefinedMetricWarning: F-score is ill-defined and being set to 0.0 in labels with no predicted samples.\n",
      "  'precision', 'predicted', average, warn_for)\n",
      "C:\\Users\\sukit\\Anaconda2\\envs\\py3\\lib\\site-packages\\sklearn\\metrics\\classification.py:1143: UndefinedMetricWarning: F-score is ill-defined and being set to 0.0 in labels with no predicted samples.\n",
      "  'precision', 'predicted', average, warn_for)\n"
     ]
    },
    {
     "name": "stderr",
     "output_type": "stream",
     "text": [
      "C:\\Users\\sukit\\Anaconda2\\envs\\py3\\lib\\site-packages\\sklearn\\metrics\\classification.py:1143: UndefinedMetricWarning: F-score is ill-defined and being set to 0.0 in labels with no predicted samples.\n",
      "  'precision', 'predicted', average, warn_for)\n",
      "C:\\Users\\sukit\\Anaconda2\\envs\\py3\\lib\\site-packages\\sklearn\\metrics\\classification.py:1143: UndefinedMetricWarning: F-score is ill-defined and being set to 0.0 in labels with no predicted samples.\n",
      "  'precision', 'predicted', average, warn_for)\n",
      "C:\\Users\\sukit\\Anaconda2\\envs\\py3\\lib\\site-packages\\sklearn\\metrics\\classification.py:1143: UndefinedMetricWarning: F-score is ill-defined and being set to 0.0 in labels with no predicted samples.\n",
      "  'precision', 'predicted', average, warn_for)\n",
      "C:\\Users\\sukit\\Anaconda2\\envs\\py3\\lib\\site-packages\\sklearn\\metrics\\classification.py:1143: UndefinedMetricWarning: F-score is ill-defined and being set to 0.0 in labels with no predicted samples.\n",
      "  'precision', 'predicted', average, warn_for)\n",
      "C:\\Users\\sukit\\Anaconda2\\envs\\py3\\lib\\site-packages\\sklearn\\metrics\\classification.py:1143: UndefinedMetricWarning: F-score is ill-defined and being set to 0.0 in labels with no predicted samples.\n",
      "  'precision', 'predicted', average, warn_for)\n",
      "C:\\Users\\sukit\\Anaconda2\\envs\\py3\\lib\\site-packages\\sklearn\\metrics\\classification.py:1143: UndefinedMetricWarning: F-score is ill-defined and being set to 0.0 in labels with no predicted samples.\n",
      "  'precision', 'predicted', average, warn_for)\n",
      "C:\\Users\\sukit\\Anaconda2\\envs\\py3\\lib\\site-packages\\sklearn\\metrics\\classification.py:1143: UndefinedMetricWarning: F-score is ill-defined and being set to 0.0 in labels with no predicted samples.\n",
      "  'precision', 'predicted', average, warn_for)\n",
      "C:\\Users\\sukit\\Anaconda2\\envs\\py3\\lib\\site-packages\\sklearn\\metrics\\classification.py:1143: UndefinedMetricWarning: F-score is ill-defined and being set to 0.0 in labels with no predicted samples.\n",
      "  'precision', 'predicted', average, warn_for)\n",
      "C:\\Users\\sukit\\Anaconda2\\envs\\py3\\lib\\site-packages\\sklearn\\metrics\\classification.py:1143: UndefinedMetricWarning: F-score is ill-defined and being set to 0.0 in labels with no predicted samples.\n",
      "  'precision', 'predicted', average, warn_for)\n",
      "C:\\Users\\sukit\\Anaconda2\\envs\\py3\\lib\\site-packages\\sklearn\\metrics\\classification.py:1143: UndefinedMetricWarning: F-score is ill-defined and being set to 0.0 in labels with no predicted samples.\n",
      "  'precision', 'predicted', average, warn_for)\n",
      "C:\\Users\\sukit\\Anaconda2\\envs\\py3\\lib\\site-packages\\sklearn\\metrics\\classification.py:1143: UndefinedMetricWarning: F-score is ill-defined and being set to 0.0 in labels with no predicted samples.\n",
      "  'precision', 'predicted', average, warn_for)\n",
      "C:\\Users\\sukit\\Anaconda2\\envs\\py3\\lib\\site-packages\\sklearn\\metrics\\classification.py:1143: UndefinedMetricWarning: F-score is ill-defined and being set to 0.0 in labels with no predicted samples.\n",
      "  'precision', 'predicted', average, warn_for)\n",
      "C:\\Users\\sukit\\Anaconda2\\envs\\py3\\lib\\site-packages\\sklearn\\metrics\\classification.py:1143: UndefinedMetricWarning: F-score is ill-defined and being set to 0.0 in labels with no predicted samples.\n",
      "  'precision', 'predicted', average, warn_for)\n",
      "C:\\Users\\sukit\\Anaconda2\\envs\\py3\\lib\\site-packages\\sklearn\\metrics\\classification.py:1143: UndefinedMetricWarning: F-score is ill-defined and being set to 0.0 in labels with no predicted samples.\n",
      "  'precision', 'predicted', average, warn_for)\n",
      "C:\\Users\\sukit\\Anaconda2\\envs\\py3\\lib\\site-packages\\sklearn\\metrics\\classification.py:1143: UndefinedMetricWarning: F-score is ill-defined and being set to 0.0 in labels with no predicted samples.\n",
      "  'precision', 'predicted', average, warn_for)\n",
      "C:\\Users\\sukit\\Anaconda2\\envs\\py3\\lib\\site-packages\\sklearn\\metrics\\classification.py:1143: UndefinedMetricWarning: F-score is ill-defined and being set to 0.0 in labels with no predicted samples.\n",
      "  'precision', 'predicted', average, warn_for)\n",
      "C:\\Users\\sukit\\Anaconda2\\envs\\py3\\lib\\site-packages\\sklearn\\metrics\\classification.py:1143: UndefinedMetricWarning: F-score is ill-defined and being set to 0.0 in labels with no predicted samples.\n",
      "  'precision', 'predicted', average, warn_for)\n",
      "C:\\Users\\sukit\\Anaconda2\\envs\\py3\\lib\\site-packages\\sklearn\\metrics\\classification.py:1143: UndefinedMetricWarning: F-score is ill-defined and being set to 0.0 in labels with no predicted samples.\n",
      "  'precision', 'predicted', average, warn_for)\n",
      "C:\\Users\\sukit\\Anaconda2\\envs\\py3\\lib\\site-packages\\sklearn\\metrics\\classification.py:1143: UndefinedMetricWarning: F-score is ill-defined and being set to 0.0 in labels with no predicted samples.\n",
      "  'precision', 'predicted', average, warn_for)\n",
      "C:\\Users\\sukit\\Anaconda2\\envs\\py3\\lib\\site-packages\\sklearn\\metrics\\classification.py:1143: UndefinedMetricWarning: F-score is ill-defined and being set to 0.0 in labels with no predicted samples.\n",
      "  'precision', 'predicted', average, warn_for)\n",
      "C:\\Users\\sukit\\Anaconda2\\envs\\py3\\lib\\site-packages\\sklearn\\metrics\\classification.py:1143: UndefinedMetricWarning: F-score is ill-defined and being set to 0.0 in labels with no predicted samples.\n",
      "  'precision', 'predicted', average, warn_for)\n",
      "C:\\Users\\sukit\\Anaconda2\\envs\\py3\\lib\\site-packages\\sklearn\\metrics\\classification.py:1143: UndefinedMetricWarning: F-score is ill-defined and being set to 0.0 in labels with no predicted samples.\n",
      "  'precision', 'predicted', average, warn_for)\n",
      "C:\\Users\\sukit\\Anaconda2\\envs\\py3\\lib\\site-packages\\sklearn\\metrics\\classification.py:1143: UndefinedMetricWarning: F-score is ill-defined and being set to 0.0 in labels with no predicted samples.\n",
      "  'precision', 'predicted', average, warn_for)\n",
      "C:\\Users\\sukit\\Anaconda2\\envs\\py3\\lib\\site-packages\\sklearn\\metrics\\classification.py:1143: UndefinedMetricWarning: F-score is ill-defined and being set to 0.0 in labels with no predicted samples.\n",
      "  'precision', 'predicted', average, warn_for)\n",
      "C:\\Users\\sukit\\Anaconda2\\envs\\py3\\lib\\site-packages\\sklearn\\metrics\\classification.py:1143: UndefinedMetricWarning: F-score is ill-defined and being set to 0.0 in labels with no predicted samples.\n",
      "  'precision', 'predicted', average, warn_for)\n",
      "C:\\Users\\sukit\\Anaconda2\\envs\\py3\\lib\\site-packages\\sklearn\\metrics\\classification.py:1143: UndefinedMetricWarning: F-score is ill-defined and being set to 0.0 in labels with no predicted samples.\n",
      "  'precision', 'predicted', average, warn_for)\n",
      "C:\\Users\\sukit\\Anaconda2\\envs\\py3\\lib\\site-packages\\sklearn\\metrics\\classification.py:1143: UndefinedMetricWarning: F-score is ill-defined and being set to 0.0 in labels with no predicted samples.\n",
      "  'precision', 'predicted', average, warn_for)\n",
      "C:\\Users\\sukit\\Anaconda2\\envs\\py3\\lib\\site-packages\\sklearn\\metrics\\classification.py:1143: UndefinedMetricWarning: F-score is ill-defined and being set to 0.0 in labels with no predicted samples.\n",
      "  'precision', 'predicted', average, warn_for)\n",
      "C:\\Users\\sukit\\Anaconda2\\envs\\py3\\lib\\site-packages\\sklearn\\metrics\\classification.py:1143: UndefinedMetricWarning: F-score is ill-defined and being set to 0.0 in labels with no predicted samples.\n",
      "  'precision', 'predicted', average, warn_for)\n",
      "C:\\Users\\sukit\\Anaconda2\\envs\\py3\\lib\\site-packages\\sklearn\\metrics\\classification.py:1143: UndefinedMetricWarning: F-score is ill-defined and being set to 0.0 in labels with no predicted samples.\n",
      "  'precision', 'predicted', average, warn_for)\n",
      "C:\\Users\\sukit\\Anaconda2\\envs\\py3\\lib\\site-packages\\sklearn\\metrics\\classification.py:1143: UndefinedMetricWarning: F-score is ill-defined and being set to 0.0 in labels with no predicted samples.\n",
      "  'precision', 'predicted', average, warn_for)\n",
      "C:\\Users\\sukit\\Anaconda2\\envs\\py3\\lib\\site-packages\\sklearn\\metrics\\classification.py:1143: UndefinedMetricWarning: F-score is ill-defined and being set to 0.0 in labels with no predicted samples.\n",
      "  'precision', 'predicted', average, warn_for)\n",
      "C:\\Users\\sukit\\Anaconda2\\envs\\py3\\lib\\site-packages\\sklearn\\metrics\\classification.py:1143: UndefinedMetricWarning: F-score is ill-defined and being set to 0.0 in labels with no predicted samples.\n",
      "  'precision', 'predicted', average, warn_for)\n",
      "C:\\Users\\sukit\\Anaconda2\\envs\\py3\\lib\\site-packages\\sklearn\\metrics\\classification.py:1143: UndefinedMetricWarning: F-score is ill-defined and being set to 0.0 in labels with no predicted samples.\n",
      "  'precision', 'predicted', average, warn_for)\n",
      "C:\\Users\\sukit\\Anaconda2\\envs\\py3\\lib\\site-packages\\sklearn\\metrics\\classification.py:1143: UndefinedMetricWarning: F-score is ill-defined and being set to 0.0 in labels with no predicted samples.\n",
      "  'precision', 'predicted', average, warn_for)\n",
      "C:\\Users\\sukit\\Anaconda2\\envs\\py3\\lib\\site-packages\\sklearn\\metrics\\classification.py:1143: UndefinedMetricWarning: F-score is ill-defined and being set to 0.0 in labels with no predicted samples.\n",
      "  'precision', 'predicted', average, warn_for)\n",
      "C:\\Users\\sukit\\Anaconda2\\envs\\py3\\lib\\site-packages\\sklearn\\metrics\\classification.py:1143: UndefinedMetricWarning: F-score is ill-defined and being set to 0.0 in labels with no predicted samples.\n",
      "  'precision', 'predicted', average, warn_for)\n",
      "C:\\Users\\sukit\\Anaconda2\\envs\\py3\\lib\\site-packages\\sklearn\\metrics\\classification.py:1143: UndefinedMetricWarning: F-score is ill-defined and being set to 0.0 in labels with no predicted samples.\n",
      "  'precision', 'predicted', average, warn_for)\n",
      "C:\\Users\\sukit\\Anaconda2\\envs\\py3\\lib\\site-packages\\sklearn\\metrics\\classification.py:1143: UndefinedMetricWarning: F-score is ill-defined and being set to 0.0 in labels with no predicted samples.\n",
      "  'precision', 'predicted', average, warn_for)\n"
     ]
    },
    {
     "name": "stderr",
     "output_type": "stream",
     "text": [
      "C:\\Users\\sukit\\Anaconda2\\envs\\py3\\lib\\site-packages\\sklearn\\metrics\\classification.py:1143: UndefinedMetricWarning: F-score is ill-defined and being set to 0.0 in labels with no predicted samples.\n",
      "  'precision', 'predicted', average, warn_for)\n",
      "C:\\Users\\sukit\\Anaconda2\\envs\\py3\\lib\\site-packages\\sklearn\\metrics\\classification.py:1143: UndefinedMetricWarning: F-score is ill-defined and being set to 0.0 in labels with no predicted samples.\n",
      "  'precision', 'predicted', average, warn_for)\n",
      "C:\\Users\\sukit\\Anaconda2\\envs\\py3\\lib\\site-packages\\sklearn\\metrics\\classification.py:1143: UndefinedMetricWarning: F-score is ill-defined and being set to 0.0 in labels with no predicted samples.\n",
      "  'precision', 'predicted', average, warn_for)\n",
      "C:\\Users\\sukit\\Anaconda2\\envs\\py3\\lib\\site-packages\\sklearn\\metrics\\classification.py:1143: UndefinedMetricWarning: F-score is ill-defined and being set to 0.0 in labels with no predicted samples.\n",
      "  'precision', 'predicted', average, warn_for)\n",
      "C:\\Users\\sukit\\Anaconda2\\envs\\py3\\lib\\site-packages\\sklearn\\metrics\\classification.py:1143: UndefinedMetricWarning: F-score is ill-defined and being set to 0.0 in labels with no predicted samples.\n",
      "  'precision', 'predicted', average, warn_for)\n",
      "C:\\Users\\sukit\\Anaconda2\\envs\\py3\\lib\\site-packages\\sklearn\\metrics\\classification.py:1143: UndefinedMetricWarning: F-score is ill-defined and being set to 0.0 in labels with no predicted samples.\n",
      "  'precision', 'predicted', average, warn_for)\n",
      "C:\\Users\\sukit\\Anaconda2\\envs\\py3\\lib\\site-packages\\sklearn\\metrics\\classification.py:1143: UndefinedMetricWarning: F-score is ill-defined and being set to 0.0 in labels with no predicted samples.\n",
      "  'precision', 'predicted', average, warn_for)\n",
      "C:\\Users\\sukit\\Anaconda2\\envs\\py3\\lib\\site-packages\\sklearn\\metrics\\classification.py:1143: UndefinedMetricWarning: F-score is ill-defined and being set to 0.0 in labels with no predicted samples.\n",
      "  'precision', 'predicted', average, warn_for)\n",
      "C:\\Users\\sukit\\Anaconda2\\envs\\py3\\lib\\site-packages\\sklearn\\metrics\\classification.py:1143: UndefinedMetricWarning: F-score is ill-defined and being set to 0.0 in labels with no predicted samples.\n",
      "  'precision', 'predicted', average, warn_for)\n",
      "C:\\Users\\sukit\\Anaconda2\\envs\\py3\\lib\\site-packages\\sklearn\\metrics\\classification.py:1143: UndefinedMetricWarning: F-score is ill-defined and being set to 0.0 in labels with no predicted samples.\n",
      "  'precision', 'predicted', average, warn_for)\n",
      "C:\\Users\\sukit\\Anaconda2\\envs\\py3\\lib\\site-packages\\sklearn\\metrics\\classification.py:1143: UndefinedMetricWarning: F-score is ill-defined and being set to 0.0 in labels with no predicted samples.\n",
      "  'precision', 'predicted', average, warn_for)\n",
      "C:\\Users\\sukit\\Anaconda2\\envs\\py3\\lib\\site-packages\\sklearn\\metrics\\classification.py:1143: UndefinedMetricWarning: F-score is ill-defined and being set to 0.0 in labels with no predicted samples.\n",
      "  'precision', 'predicted', average, warn_for)\n",
      "C:\\Users\\sukit\\Anaconda2\\envs\\py3\\lib\\site-packages\\sklearn\\metrics\\classification.py:1143: UndefinedMetricWarning: F-score is ill-defined and being set to 0.0 in labels with no predicted samples.\n",
      "  'precision', 'predicted', average, warn_for)\n",
      "C:\\Users\\sukit\\Anaconda2\\envs\\py3\\lib\\site-packages\\sklearn\\metrics\\classification.py:1143: UndefinedMetricWarning: F-score is ill-defined and being set to 0.0 in labels with no predicted samples.\n",
      "  'precision', 'predicted', average, warn_for)\n",
      "C:\\Users\\sukit\\Anaconda2\\envs\\py3\\lib\\site-packages\\sklearn\\metrics\\classification.py:1143: UndefinedMetricWarning: F-score is ill-defined and being set to 0.0 in labels with no predicted samples.\n",
      "  'precision', 'predicted', average, warn_for)\n",
      "C:\\Users\\sukit\\Anaconda2\\envs\\py3\\lib\\site-packages\\sklearn\\metrics\\classification.py:1143: UndefinedMetricWarning: F-score is ill-defined and being set to 0.0 in labels with no predicted samples.\n",
      "  'precision', 'predicted', average, warn_for)\n",
      "C:\\Users\\sukit\\Anaconda2\\envs\\py3\\lib\\site-packages\\sklearn\\metrics\\classification.py:1143: UndefinedMetricWarning: F-score is ill-defined and being set to 0.0 in labels with no predicted samples.\n",
      "  'precision', 'predicted', average, warn_for)\n",
      "C:\\Users\\sukit\\Anaconda2\\envs\\py3\\lib\\site-packages\\sklearn\\metrics\\classification.py:1143: UndefinedMetricWarning: F-score is ill-defined and being set to 0.0 in labels with no predicted samples.\n",
      "  'precision', 'predicted', average, warn_for)\n",
      "C:\\Users\\sukit\\Anaconda2\\envs\\py3\\lib\\site-packages\\sklearn\\metrics\\classification.py:1143: UndefinedMetricWarning: F-score is ill-defined and being set to 0.0 in labels with no predicted samples.\n",
      "  'precision', 'predicted', average, warn_for)\n",
      "C:\\Users\\sukit\\Anaconda2\\envs\\py3\\lib\\site-packages\\sklearn\\metrics\\classification.py:1143: UndefinedMetricWarning: F-score is ill-defined and being set to 0.0 in labels with no predicted samples.\n",
      "  'precision', 'predicted', average, warn_for)\n",
      "C:\\Users\\sukit\\Anaconda2\\envs\\py3\\lib\\site-packages\\sklearn\\metrics\\classification.py:1143: UndefinedMetricWarning: F-score is ill-defined and being set to 0.0 in labels with no predicted samples.\n",
      "  'precision', 'predicted', average, warn_for)\n",
      "C:\\Users\\sukit\\Anaconda2\\envs\\py3\\lib\\site-packages\\sklearn\\metrics\\classification.py:1143: UndefinedMetricWarning: F-score is ill-defined and being set to 0.0 in labels with no predicted samples.\n",
      "  'precision', 'predicted', average, warn_for)\n",
      "C:\\Users\\sukit\\Anaconda2\\envs\\py3\\lib\\site-packages\\sklearn\\metrics\\classification.py:1143: UndefinedMetricWarning: F-score is ill-defined and being set to 0.0 in labels with no predicted samples.\n",
      "  'precision', 'predicted', average, warn_for)\n",
      "C:\\Users\\sukit\\Anaconda2\\envs\\py3\\lib\\site-packages\\sklearn\\metrics\\classification.py:1143: UndefinedMetricWarning: F-score is ill-defined and being set to 0.0 in labels with no predicted samples.\n",
      "  'precision', 'predicted', average, warn_for)\n",
      "C:\\Users\\sukit\\Anaconda2\\envs\\py3\\lib\\site-packages\\sklearn\\metrics\\classification.py:1143: UndefinedMetricWarning: F-score is ill-defined and being set to 0.0 in labels with no predicted samples.\n",
      "  'precision', 'predicted', average, warn_for)\n",
      "C:\\Users\\sukit\\Anaconda2\\envs\\py3\\lib\\site-packages\\sklearn\\metrics\\classification.py:1143: UndefinedMetricWarning: F-score is ill-defined and being set to 0.0 in labels with no predicted samples.\n",
      "  'precision', 'predicted', average, warn_for)\n",
      "C:\\Users\\sukit\\Anaconda2\\envs\\py3\\lib\\site-packages\\sklearn\\metrics\\classification.py:1143: UndefinedMetricWarning: F-score is ill-defined and being set to 0.0 in labels with no predicted samples.\n",
      "  'precision', 'predicted', average, warn_for)\n",
      "C:\\Users\\sukit\\Anaconda2\\envs\\py3\\lib\\site-packages\\sklearn\\metrics\\classification.py:1143: UndefinedMetricWarning: F-score is ill-defined and being set to 0.0 in labels with no predicted samples.\n",
      "  'precision', 'predicted', average, warn_for)\n",
      "C:\\Users\\sukit\\Anaconda2\\envs\\py3\\lib\\site-packages\\sklearn\\metrics\\classification.py:1143: UndefinedMetricWarning: F-score is ill-defined and being set to 0.0 in labels with no predicted samples.\n",
      "  'precision', 'predicted', average, warn_for)\n",
      "C:\\Users\\sukit\\Anaconda2\\envs\\py3\\lib\\site-packages\\sklearn\\metrics\\classification.py:1143: UndefinedMetricWarning: F-score is ill-defined and being set to 0.0 in labels with no predicted samples.\n",
      "  'precision', 'predicted', average, warn_for)\n",
      "C:\\Users\\sukit\\Anaconda2\\envs\\py3\\lib\\site-packages\\sklearn\\metrics\\classification.py:1143: UndefinedMetricWarning: F-score is ill-defined and being set to 0.0 in labels with no predicted samples.\n",
      "  'precision', 'predicted', average, warn_for)\n",
      "C:\\Users\\sukit\\Anaconda2\\envs\\py3\\lib\\site-packages\\sklearn\\metrics\\classification.py:1143: UndefinedMetricWarning: F-score is ill-defined and being set to 0.0 in labels with no predicted samples.\n",
      "  'precision', 'predicted', average, warn_for)\n",
      "C:\\Users\\sukit\\Anaconda2\\envs\\py3\\lib\\site-packages\\sklearn\\metrics\\classification.py:1143: UndefinedMetricWarning: F-score is ill-defined and being set to 0.0 in labels with no predicted samples.\n",
      "  'precision', 'predicted', average, warn_for)\n",
      "C:\\Users\\sukit\\Anaconda2\\envs\\py3\\lib\\site-packages\\sklearn\\metrics\\classification.py:1143: UndefinedMetricWarning: F-score is ill-defined and being set to 0.0 in labels with no predicted samples.\n",
      "  'precision', 'predicted', average, warn_for)\n"
     ]
    },
    {
     "name": "stdout",
     "output_type": "stream",
     "text": [
      "clf__alpha : 0.5\n",
      "tfidf__max_df : 0.995\n",
      "tfidf__min_df : 3\n",
      "tfidf__stop_words : english\n",
      "best f1 score: 0.6700712153057082\n",
      "clf__alpha : 0.5\n",
      "tfidf__max_df : 0.995\n",
      "tfidf__min_df : 2\n",
      "tfidf__stop_words : None\n",
      "best f1 score: 0.7691840515799927\n",
      "clf__alpha : 1.0\n",
      "tfidf__max_df : 0.995\n",
      "tfidf__min_df : 2\n",
      "tfidf__stop_words : english\n",
      "best f1 score: 0.8255765748894235\n"
     ]
    },
    {
     "name": "stderr",
     "output_type": "stream",
     "text": [
      "C:\\Users\\sukit\\Anaconda2\\envs\\py3\\lib\\site-packages\\sklearn\\metrics\\classification.py:1143: UndefinedMetricWarning: F-score is ill-defined and being set to 0.0 in labels with no predicted samples.\n",
      "  'precision', 'predicted', average, warn_for)\n",
      "C:\\Users\\sukit\\Anaconda2\\envs\\py3\\lib\\site-packages\\sklearn\\metrics\\classification.py:1143: UndefinedMetricWarning: F-score is ill-defined and being set to 0.0 in labels with no predicted samples.\n",
      "  'precision', 'predicted', average, warn_for)\n",
      "C:\\Users\\sukit\\Anaconda2\\envs\\py3\\lib\\site-packages\\sklearn\\metrics\\classification.py:1143: UndefinedMetricWarning: F-score is ill-defined and being set to 0.0 in labels with no predicted samples.\n",
      "  'precision', 'predicted', average, warn_for)\n",
      "C:\\Users\\sukit\\Anaconda2\\envs\\py3\\lib\\site-packages\\sklearn\\metrics\\classification.py:1143: UndefinedMetricWarning: F-score is ill-defined and being set to 0.0 in labels with no predicted samples.\n",
      "  'precision', 'predicted', average, warn_for)\n",
      "C:\\Users\\sukit\\Anaconda2\\envs\\py3\\lib\\site-packages\\sklearn\\metrics\\classification.py:1143: UndefinedMetricWarning: F-score is ill-defined and being set to 0.0 in labels with no predicted samples.\n",
      "  'precision', 'predicted', average, warn_for)\n",
      "C:\\Users\\sukit\\Anaconda2\\envs\\py3\\lib\\site-packages\\sklearn\\metrics\\classification.py:1143: UndefinedMetricWarning: F-score is ill-defined and being set to 0.0 in labels with no predicted samples.\n",
      "  'precision', 'predicted', average, warn_for)\n",
      "C:\\Users\\sukit\\Anaconda2\\envs\\py3\\lib\\site-packages\\sklearn\\metrics\\classification.py:1143: UndefinedMetricWarning: F-score is ill-defined and being set to 0.0 in labels with no predicted samples.\n",
      "  'precision', 'predicted', average, warn_for)\n",
      "C:\\Users\\sukit\\Anaconda2\\envs\\py3\\lib\\site-packages\\sklearn\\metrics\\classification.py:1143: UndefinedMetricWarning: F-score is ill-defined and being set to 0.0 in labels with no predicted samples.\n",
      "  'precision', 'predicted', average, warn_for)\n",
      "C:\\Users\\sukit\\Anaconda2\\envs\\py3\\lib\\site-packages\\sklearn\\metrics\\classification.py:1143: UndefinedMetricWarning: F-score is ill-defined and being set to 0.0 in labels with no predicted samples.\n",
      "  'precision', 'predicted', average, warn_for)\n",
      "C:\\Users\\sukit\\Anaconda2\\envs\\py3\\lib\\site-packages\\sklearn\\metrics\\classification.py:1143: UndefinedMetricWarning: F-score is ill-defined and being set to 0.0 in labels with no predicted samples.\n",
      "  'precision', 'predicted', average, warn_for)\n",
      "C:\\Users\\sukit\\Anaconda2\\envs\\py3\\lib\\site-packages\\sklearn\\metrics\\classification.py:1143: UndefinedMetricWarning: F-score is ill-defined and being set to 0.0 in labels with no predicted samples.\n",
      "  'precision', 'predicted', average, warn_for)\n",
      "C:\\Users\\sukit\\Anaconda2\\envs\\py3\\lib\\site-packages\\sklearn\\metrics\\classification.py:1143: UndefinedMetricWarning: F-score is ill-defined and being set to 0.0 in labels with no predicted samples.\n",
      "  'precision', 'predicted', average, warn_for)\n",
      "C:\\Users\\sukit\\Anaconda2\\envs\\py3\\lib\\site-packages\\sklearn\\metrics\\classification.py:1143: UndefinedMetricWarning: F-score is ill-defined and being set to 0.0 in labels with no predicted samples.\n",
      "  'precision', 'predicted', average, warn_for)\n",
      "C:\\Users\\sukit\\Anaconda2\\envs\\py3\\lib\\site-packages\\sklearn\\metrics\\classification.py:1143: UndefinedMetricWarning: F-score is ill-defined and being set to 0.0 in labels with no predicted samples.\n",
      "  'precision', 'predicted', average, warn_for)\n",
      "C:\\Users\\sukit\\Anaconda2\\envs\\py3\\lib\\site-packages\\sklearn\\metrics\\classification.py:1143: UndefinedMetricWarning: F-score is ill-defined and being set to 0.0 in labels with no predicted samples.\n",
      "  'precision', 'predicted', average, warn_for)\n",
      "C:\\Users\\sukit\\Anaconda2\\envs\\py3\\lib\\site-packages\\sklearn\\metrics\\classification.py:1143: UndefinedMetricWarning: F-score is ill-defined and being set to 0.0 in labels with no predicted samples.\n",
      "  'precision', 'predicted', average, warn_for)\n",
      "C:\\Users\\sukit\\Anaconda2\\envs\\py3\\lib\\site-packages\\sklearn\\metrics\\classification.py:1143: UndefinedMetricWarning: F-score is ill-defined and being set to 0.0 in labels with no predicted samples.\n",
      "  'precision', 'predicted', average, warn_for)\n",
      "C:\\Users\\sukit\\Anaconda2\\envs\\py3\\lib\\site-packages\\sklearn\\metrics\\classification.py:1143: UndefinedMetricWarning: F-score is ill-defined and being set to 0.0 in labels with no predicted samples.\n",
      "  'precision', 'predicted', average, warn_for)\n",
      "C:\\Users\\sukit\\Anaconda2\\envs\\py3\\lib\\site-packages\\sklearn\\metrics\\classification.py:1143: UndefinedMetricWarning: F-score is ill-defined and being set to 0.0 in labels with no predicted samples.\n",
      "  'precision', 'predicted', average, warn_for)\n",
      "C:\\Users\\sukit\\Anaconda2\\envs\\py3\\lib\\site-packages\\sklearn\\metrics\\classification.py:1143: UndefinedMetricWarning: F-score is ill-defined and being set to 0.0 in labels with no predicted samples.\n",
      "  'precision', 'predicted', average, warn_for)\n",
      "C:\\Users\\sukit\\Anaconda2\\envs\\py3\\lib\\site-packages\\sklearn\\metrics\\classification.py:1143: UndefinedMetricWarning: F-score is ill-defined and being set to 0.0 in labels with no predicted samples.\n",
      "  'precision', 'predicted', average, warn_for)\n",
      "C:\\Users\\sukit\\Anaconda2\\envs\\py3\\lib\\site-packages\\sklearn\\metrics\\classification.py:1143: UndefinedMetricWarning: F-score is ill-defined and being set to 0.0 in labels with no predicted samples.\n",
      "  'precision', 'predicted', average, warn_for)\n",
      "C:\\Users\\sukit\\Anaconda2\\envs\\py3\\lib\\site-packages\\sklearn\\metrics\\classification.py:1143: UndefinedMetricWarning: F-score is ill-defined and being set to 0.0 in labels with no predicted samples.\n",
      "  'precision', 'predicted', average, warn_for)\n",
      "C:\\Users\\sukit\\Anaconda2\\envs\\py3\\lib\\site-packages\\sklearn\\metrics\\classification.py:1143: UndefinedMetricWarning: F-score is ill-defined and being set to 0.0 in labels with no predicted samples.\n",
      "  'precision', 'predicted', average, warn_for)\n",
      "C:\\Users\\sukit\\Anaconda2\\envs\\py3\\lib\\site-packages\\sklearn\\metrics\\classification.py:1143: UndefinedMetricWarning: F-score is ill-defined and being set to 0.0 in labels with no predicted samples.\n",
      "  'precision', 'predicted', average, warn_for)\n",
      "C:\\Users\\sukit\\Anaconda2\\envs\\py3\\lib\\site-packages\\sklearn\\metrics\\classification.py:1143: UndefinedMetricWarning: F-score is ill-defined and being set to 0.0 in labels with no predicted samples.\n",
      "  'precision', 'predicted', average, warn_for)\n",
      "C:\\Users\\sukit\\Anaconda2\\envs\\py3\\lib\\site-packages\\sklearn\\metrics\\classification.py:1143: UndefinedMetricWarning: F-score is ill-defined and being set to 0.0 in labels with no predicted samples.\n",
      "  'precision', 'predicted', average, warn_for)\n",
      "C:\\Users\\sukit\\Anaconda2\\envs\\py3\\lib\\site-packages\\sklearn\\metrics\\classification.py:1143: UndefinedMetricWarning: F-score is ill-defined and being set to 0.0 in labels with no predicted samples.\n",
      "  'precision', 'predicted', average, warn_for)\n",
      "C:\\Users\\sukit\\Anaconda2\\envs\\py3\\lib\\site-packages\\sklearn\\metrics\\classification.py:1143: UndefinedMetricWarning: F-score is ill-defined and being set to 0.0 in labels with no predicted samples.\n",
      "  'precision', 'predicted', average, warn_for)\n",
      "C:\\Users\\sukit\\Anaconda2\\envs\\py3\\lib\\site-packages\\sklearn\\metrics\\classification.py:1143: UndefinedMetricWarning: F-score is ill-defined and being set to 0.0 in labels with no predicted samples.\n",
      "  'precision', 'predicted', average, warn_for)\n",
      "C:\\Users\\sukit\\Anaconda2\\envs\\py3\\lib\\site-packages\\sklearn\\metrics\\classification.py:1143: UndefinedMetricWarning: F-score is ill-defined and being set to 0.0 in labels with no predicted samples.\n",
      "  'precision', 'predicted', average, warn_for)\n",
      "C:\\Users\\sukit\\Anaconda2\\envs\\py3\\lib\\site-packages\\sklearn\\metrics\\classification.py:1143: UndefinedMetricWarning: F-score is ill-defined and being set to 0.0 in labels with no predicted samples.\n",
      "  'precision', 'predicted', average, warn_for)\n",
      "C:\\Users\\sukit\\Anaconda2\\envs\\py3\\lib\\site-packages\\sklearn\\metrics\\classification.py:1143: UndefinedMetricWarning: F-score is ill-defined and being set to 0.0 in labels with no predicted samples.\n",
      "  'precision', 'predicted', average, warn_for)\n",
      "C:\\Users\\sukit\\Anaconda2\\envs\\py3\\lib\\site-packages\\sklearn\\metrics\\classification.py:1143: UndefinedMetricWarning: F-score is ill-defined and being set to 0.0 in labels with no predicted samples.\n",
      "  'precision', 'predicted', average, warn_for)\n"
     ]
    },
    {
     "name": "stderr",
     "output_type": "stream",
     "text": [
      "C:\\Users\\sukit\\Anaconda2\\envs\\py3\\lib\\site-packages\\sklearn\\metrics\\classification.py:1143: UndefinedMetricWarning: F-score is ill-defined and being set to 0.0 in labels with no predicted samples.\n",
      "  'precision', 'predicted', average, warn_for)\n",
      "C:\\Users\\sukit\\Anaconda2\\envs\\py3\\lib\\site-packages\\sklearn\\metrics\\classification.py:1143: UndefinedMetricWarning: F-score is ill-defined and being set to 0.0 in labels with no predicted samples.\n",
      "  'precision', 'predicted', average, warn_for)\n",
      "C:\\Users\\sukit\\Anaconda2\\envs\\py3\\lib\\site-packages\\sklearn\\metrics\\classification.py:1143: UndefinedMetricWarning: F-score is ill-defined and being set to 0.0 in labels with no predicted samples.\n",
      "  'precision', 'predicted', average, warn_for)\n",
      "C:\\Users\\sukit\\Anaconda2\\envs\\py3\\lib\\site-packages\\sklearn\\metrics\\classification.py:1143: UndefinedMetricWarning: F-score is ill-defined and being set to 0.0 in labels with no predicted samples.\n",
      "  'precision', 'predicted', average, warn_for)\n",
      "C:\\Users\\sukit\\Anaconda2\\envs\\py3\\lib\\site-packages\\sklearn\\metrics\\classification.py:1143: UndefinedMetricWarning: F-score is ill-defined and being set to 0.0 in labels with no predicted samples.\n",
      "  'precision', 'predicted', average, warn_for)\n",
      "C:\\Users\\sukit\\Anaconda2\\envs\\py3\\lib\\site-packages\\sklearn\\metrics\\classification.py:1143: UndefinedMetricWarning: F-score is ill-defined and being set to 0.0 in labels with no predicted samples.\n",
      "  'precision', 'predicted', average, warn_for)\n",
      "C:\\Users\\sukit\\Anaconda2\\envs\\py3\\lib\\site-packages\\sklearn\\metrics\\classification.py:1143: UndefinedMetricWarning: F-score is ill-defined and being set to 0.0 in labels with no predicted samples.\n",
      "  'precision', 'predicted', average, warn_for)\n",
      "C:\\Users\\sukit\\Anaconda2\\envs\\py3\\lib\\site-packages\\sklearn\\metrics\\classification.py:1143: UndefinedMetricWarning: F-score is ill-defined and being set to 0.0 in labels with no predicted samples.\n",
      "  'precision', 'predicted', average, warn_for)\n",
      "C:\\Users\\sukit\\Anaconda2\\envs\\py3\\lib\\site-packages\\sklearn\\metrics\\classification.py:1143: UndefinedMetricWarning: F-score is ill-defined and being set to 0.0 in labels with no predicted samples.\n",
      "  'precision', 'predicted', average, warn_for)\n",
      "C:\\Users\\sukit\\Anaconda2\\envs\\py3\\lib\\site-packages\\sklearn\\metrics\\classification.py:1143: UndefinedMetricWarning: F-score is ill-defined and being set to 0.0 in labels with no predicted samples.\n",
      "  'precision', 'predicted', average, warn_for)\n",
      "C:\\Users\\sukit\\Anaconda2\\envs\\py3\\lib\\site-packages\\sklearn\\metrics\\classification.py:1143: UndefinedMetricWarning: F-score is ill-defined and being set to 0.0 in labels with no predicted samples.\n",
      "  'precision', 'predicted', average, warn_for)\n",
      "C:\\Users\\sukit\\Anaconda2\\envs\\py3\\lib\\site-packages\\sklearn\\metrics\\classification.py:1143: UndefinedMetricWarning: F-score is ill-defined and being set to 0.0 in labels with no predicted samples.\n",
      "  'precision', 'predicted', average, warn_for)\n",
      "C:\\Users\\sukit\\Anaconda2\\envs\\py3\\lib\\site-packages\\sklearn\\metrics\\classification.py:1143: UndefinedMetricWarning: F-score is ill-defined and being set to 0.0 in labels with no predicted samples.\n",
      "  'precision', 'predicted', average, warn_for)\n",
      "C:\\Users\\sukit\\Anaconda2\\envs\\py3\\lib\\site-packages\\sklearn\\metrics\\classification.py:1143: UndefinedMetricWarning: F-score is ill-defined and being set to 0.0 in labels with no predicted samples.\n",
      "  'precision', 'predicted', average, warn_for)\n",
      "C:\\Users\\sukit\\Anaconda2\\envs\\py3\\lib\\site-packages\\sklearn\\metrics\\classification.py:1143: UndefinedMetricWarning: F-score is ill-defined and being set to 0.0 in labels with no predicted samples.\n",
      "  'precision', 'predicted', average, warn_for)\n",
      "C:\\Users\\sukit\\Anaconda2\\envs\\py3\\lib\\site-packages\\sklearn\\metrics\\classification.py:1143: UndefinedMetricWarning: F-score is ill-defined and being set to 0.0 in labels with no predicted samples.\n",
      "  'precision', 'predicted', average, warn_for)\n",
      "C:\\Users\\sukit\\Anaconda2\\envs\\py3\\lib\\site-packages\\sklearn\\metrics\\classification.py:1143: UndefinedMetricWarning: F-score is ill-defined and being set to 0.0 in labels with no predicted samples.\n",
      "  'precision', 'predicted', average, warn_for)\n",
      "C:\\Users\\sukit\\Anaconda2\\envs\\py3\\lib\\site-packages\\sklearn\\metrics\\classification.py:1143: UndefinedMetricWarning: F-score is ill-defined and being set to 0.0 in labels with no predicted samples.\n",
      "  'precision', 'predicted', average, warn_for)\n",
      "C:\\Users\\sukit\\Anaconda2\\envs\\py3\\lib\\site-packages\\sklearn\\metrics\\classification.py:1143: UndefinedMetricWarning: F-score is ill-defined and being set to 0.0 in labels with no predicted samples.\n",
      "  'precision', 'predicted', average, warn_for)\n",
      "C:\\Users\\sukit\\Anaconda2\\envs\\py3\\lib\\site-packages\\sklearn\\metrics\\classification.py:1143: UndefinedMetricWarning: F-score is ill-defined and being set to 0.0 in labels with no predicted samples.\n",
      "  'precision', 'predicted', average, warn_for)\n",
      "C:\\Users\\sukit\\Anaconda2\\envs\\py3\\lib\\site-packages\\sklearn\\metrics\\classification.py:1143: UndefinedMetricWarning: F-score is ill-defined and being set to 0.0 in labels with no predicted samples.\n",
      "  'precision', 'predicted', average, warn_for)\n",
      "C:\\Users\\sukit\\Anaconda2\\envs\\py3\\lib\\site-packages\\sklearn\\metrics\\classification.py:1143: UndefinedMetricWarning: F-score is ill-defined and being set to 0.0 in labels with no predicted samples.\n",
      "  'precision', 'predicted', average, warn_for)\n",
      "C:\\Users\\sukit\\Anaconda2\\envs\\py3\\lib\\site-packages\\sklearn\\metrics\\classification.py:1143: UndefinedMetricWarning: F-score is ill-defined and being set to 0.0 in labels with no predicted samples.\n",
      "  'precision', 'predicted', average, warn_for)\n",
      "C:\\Users\\sukit\\Anaconda2\\envs\\py3\\lib\\site-packages\\sklearn\\metrics\\classification.py:1143: UndefinedMetricWarning: F-score is ill-defined and being set to 0.0 in labels with no predicted samples.\n",
      "  'precision', 'predicted', average, warn_for)\n",
      "C:\\Users\\sukit\\Anaconda2\\envs\\py3\\lib\\site-packages\\sklearn\\metrics\\classification.py:1143: UndefinedMetricWarning: F-score is ill-defined and being set to 0.0 in labels with no predicted samples.\n",
      "  'precision', 'predicted', average, warn_for)\n",
      "C:\\Users\\sukit\\Anaconda2\\envs\\py3\\lib\\site-packages\\sklearn\\metrics\\classification.py:1143: UndefinedMetricWarning: F-score is ill-defined and being set to 0.0 in labels with no predicted samples.\n",
      "  'precision', 'predicted', average, warn_for)\n",
      "C:\\Users\\sukit\\Anaconda2\\envs\\py3\\lib\\site-packages\\sklearn\\metrics\\classification.py:1143: UndefinedMetricWarning: F-score is ill-defined and being set to 0.0 in labels with no predicted samples.\n",
      "  'precision', 'predicted', average, warn_for)\n",
      "C:\\Users\\sukit\\Anaconda2\\envs\\py3\\lib\\site-packages\\sklearn\\metrics\\classification.py:1143: UndefinedMetricWarning: F-score is ill-defined and being set to 0.0 in labels with no predicted samples.\n",
      "  'precision', 'predicted', average, warn_for)\n",
      "C:\\Users\\sukit\\Anaconda2\\envs\\py3\\lib\\site-packages\\sklearn\\metrics\\classification.py:1143: UndefinedMetricWarning: F-score is ill-defined and being set to 0.0 in labels with no predicted samples.\n",
      "  'precision', 'predicted', average, warn_for)\n",
      "C:\\Users\\sukit\\Anaconda2\\envs\\py3\\lib\\site-packages\\sklearn\\metrics\\classification.py:1143: UndefinedMetricWarning: F-score is ill-defined and being set to 0.0 in labels with no predicted samples.\n",
      "  'precision', 'predicted', average, warn_for)\n",
      "C:\\Users\\sukit\\Anaconda2\\envs\\py3\\lib\\site-packages\\sklearn\\metrics\\classification.py:1143: UndefinedMetricWarning: F-score is ill-defined and being set to 0.0 in labels with no predicted samples.\n",
      "  'precision', 'predicted', average, warn_for)\n",
      "C:\\Users\\sukit\\Anaconda2\\envs\\py3\\lib\\site-packages\\sklearn\\metrics\\classification.py:1143: UndefinedMetricWarning: F-score is ill-defined and being set to 0.0 in labels with no predicted samples.\n",
      "  'precision', 'predicted', average, warn_for)\n",
      "C:\\Users\\sukit\\Anaconda2\\envs\\py3\\lib\\site-packages\\sklearn\\metrics\\classification.py:1143: UndefinedMetricWarning: F-score is ill-defined and being set to 0.0 in labels with no predicted samples.\n",
      "  'precision', 'predicted', average, warn_for)\n",
      "C:\\Users\\sukit\\Anaconda2\\envs\\py3\\lib\\site-packages\\sklearn\\metrics\\classification.py:1143: UndefinedMetricWarning: F-score is ill-defined and being set to 0.0 in labels with no predicted samples.\n",
      "  'precision', 'predicted', average, warn_for)\n",
      "C:\\Users\\sukit\\Anaconda2\\envs\\py3\\lib\\site-packages\\sklearn\\metrics\\classification.py:1143: UndefinedMetricWarning: F-score is ill-defined and being set to 0.0 in labels with no predicted samples.\n",
      "  'precision', 'predicted', average, warn_for)\n",
      "C:\\Users\\sukit\\Anaconda2\\envs\\py3\\lib\\site-packages\\sklearn\\metrics\\classification.py:1143: UndefinedMetricWarning: F-score is ill-defined and being set to 0.0 in labels with no predicted samples.\n",
      "  'precision', 'predicted', average, warn_for)\n",
      "C:\\Users\\sukit\\Anaconda2\\envs\\py3\\lib\\site-packages\\sklearn\\metrics\\classification.py:1143: UndefinedMetricWarning: F-score is ill-defined and being set to 0.0 in labels with no predicted samples.\n",
      "  'precision', 'predicted', average, warn_for)\n",
      "C:\\Users\\sukit\\Anaconda2\\envs\\py3\\lib\\site-packages\\sklearn\\metrics\\classification.py:1143: UndefinedMetricWarning: F-score is ill-defined and being set to 0.0 in labels with no predicted samples.\n",
      "  'precision', 'predicted', average, warn_for)\n",
      "C:\\Users\\sukit\\Anaconda2\\envs\\py3\\lib\\site-packages\\sklearn\\metrics\\classification.py:1143: UndefinedMetricWarning: F-score is ill-defined and being set to 0.0 in labels with no predicted samples.\n",
      "  'precision', 'predicted', average, warn_for)\n"
     ]
    },
    {
     "name": "stderr",
     "output_type": "stream",
     "text": [
      "C:\\Users\\sukit\\Anaconda2\\envs\\py3\\lib\\site-packages\\sklearn\\metrics\\classification.py:1143: UndefinedMetricWarning: F-score is ill-defined and being set to 0.0 in labels with no predicted samples.\n",
      "  'precision', 'predicted', average, warn_for)\n",
      "C:\\Users\\sukit\\Anaconda2\\envs\\py3\\lib\\site-packages\\sklearn\\metrics\\classification.py:1143: UndefinedMetricWarning: F-score is ill-defined and being set to 0.0 in labels with no predicted samples.\n",
      "  'precision', 'predicted', average, warn_for)\n",
      "C:\\Users\\sukit\\Anaconda2\\envs\\py3\\lib\\site-packages\\sklearn\\metrics\\classification.py:1143: UndefinedMetricWarning: F-score is ill-defined and being set to 0.0 in labels with no predicted samples.\n",
      "  'precision', 'predicted', average, warn_for)\n",
      "C:\\Users\\sukit\\Anaconda2\\envs\\py3\\lib\\site-packages\\sklearn\\metrics\\classification.py:1143: UndefinedMetricWarning: F-score is ill-defined and being set to 0.0 in labels with no predicted samples.\n",
      "  'precision', 'predicted', average, warn_for)\n",
      "C:\\Users\\sukit\\Anaconda2\\envs\\py3\\lib\\site-packages\\sklearn\\metrics\\classification.py:1143: UndefinedMetricWarning: F-score is ill-defined and being set to 0.0 in labels with no predicted samples.\n",
      "  'precision', 'predicted', average, warn_for)\n",
      "C:\\Users\\sukit\\Anaconda2\\envs\\py3\\lib\\site-packages\\sklearn\\metrics\\classification.py:1143: UndefinedMetricWarning: F-score is ill-defined and being set to 0.0 in labels with no predicted samples.\n",
      "  'precision', 'predicted', average, warn_for)\n",
      "C:\\Users\\sukit\\Anaconda2\\envs\\py3\\lib\\site-packages\\sklearn\\metrics\\classification.py:1143: UndefinedMetricWarning: F-score is ill-defined and being set to 0.0 in labels with no predicted samples.\n",
      "  'precision', 'predicted', average, warn_for)\n",
      "C:\\Users\\sukit\\Anaconda2\\envs\\py3\\lib\\site-packages\\sklearn\\metrics\\classification.py:1143: UndefinedMetricWarning: F-score is ill-defined and being set to 0.0 in labels with no predicted samples.\n",
      "  'precision', 'predicted', average, warn_for)\n",
      "C:\\Users\\sukit\\Anaconda2\\envs\\py3\\lib\\site-packages\\sklearn\\metrics\\classification.py:1143: UndefinedMetricWarning: F-score is ill-defined and being set to 0.0 in labels with no predicted samples.\n",
      "  'precision', 'predicted', average, warn_for)\n",
      "C:\\Users\\sukit\\Anaconda2\\envs\\py3\\lib\\site-packages\\sklearn\\metrics\\classification.py:1143: UndefinedMetricWarning: F-score is ill-defined and being set to 0.0 in labels with no predicted samples.\n",
      "  'precision', 'predicted', average, warn_for)\n",
      "C:\\Users\\sukit\\Anaconda2\\envs\\py3\\lib\\site-packages\\sklearn\\metrics\\classification.py:1143: UndefinedMetricWarning: F-score is ill-defined and being set to 0.0 in labels with no predicted samples.\n",
      "  'precision', 'predicted', average, warn_for)\n",
      "C:\\Users\\sukit\\Anaconda2\\envs\\py3\\lib\\site-packages\\sklearn\\metrics\\classification.py:1143: UndefinedMetricWarning: F-score is ill-defined and being set to 0.0 in labels with no predicted samples.\n",
      "  'precision', 'predicted', average, warn_for)\n",
      "C:\\Users\\sukit\\Anaconda2\\envs\\py3\\lib\\site-packages\\sklearn\\metrics\\classification.py:1143: UndefinedMetricWarning: F-score is ill-defined and being set to 0.0 in labels with no predicted samples.\n",
      "  'precision', 'predicted', average, warn_for)\n",
      "C:\\Users\\sukit\\Anaconda2\\envs\\py3\\lib\\site-packages\\sklearn\\metrics\\classification.py:1143: UndefinedMetricWarning: F-score is ill-defined and being set to 0.0 in labels with no predicted samples.\n",
      "  'precision', 'predicted', average, warn_for)\n",
      "C:\\Users\\sukit\\Anaconda2\\envs\\py3\\lib\\site-packages\\sklearn\\metrics\\classification.py:1143: UndefinedMetricWarning: F-score is ill-defined and being set to 0.0 in labels with no predicted samples.\n",
      "  'precision', 'predicted', average, warn_for)\n",
      "C:\\Users\\sukit\\Anaconda2\\envs\\py3\\lib\\site-packages\\sklearn\\metrics\\classification.py:1143: UndefinedMetricWarning: F-score is ill-defined and being set to 0.0 in labels with no predicted samples.\n",
      "  'precision', 'predicted', average, warn_for)\n",
      "C:\\Users\\sukit\\Anaconda2\\envs\\py3\\lib\\site-packages\\sklearn\\metrics\\classification.py:1143: UndefinedMetricWarning: F-score is ill-defined and being set to 0.0 in labels with no predicted samples.\n",
      "  'precision', 'predicted', average, warn_for)\n",
      "C:\\Users\\sukit\\Anaconda2\\envs\\py3\\lib\\site-packages\\sklearn\\metrics\\classification.py:1143: UndefinedMetricWarning: F-score is ill-defined and being set to 0.0 in labels with no predicted samples.\n",
      "  'precision', 'predicted', average, warn_for)\n",
      "C:\\Users\\sukit\\Anaconda2\\envs\\py3\\lib\\site-packages\\sklearn\\metrics\\classification.py:1143: UndefinedMetricWarning: F-score is ill-defined and being set to 0.0 in labels with no predicted samples.\n",
      "  'precision', 'predicted', average, warn_for)\n",
      "C:\\Users\\sukit\\Anaconda2\\envs\\py3\\lib\\site-packages\\sklearn\\metrics\\classification.py:1143: UndefinedMetricWarning: F-score is ill-defined and being set to 0.0 in labels with no predicted samples.\n",
      "  'precision', 'predicted', average, warn_for)\n",
      "C:\\Users\\sukit\\Anaconda2\\envs\\py3\\lib\\site-packages\\sklearn\\metrics\\classification.py:1143: UndefinedMetricWarning: F-score is ill-defined and being set to 0.0 in labels with no predicted samples.\n",
      "  'precision', 'predicted', average, warn_for)\n",
      "C:\\Users\\sukit\\Anaconda2\\envs\\py3\\lib\\site-packages\\sklearn\\metrics\\classification.py:1143: UndefinedMetricWarning: F-score is ill-defined and being set to 0.0 in labels with no predicted samples.\n",
      "  'precision', 'predicted', average, warn_for)\n",
      "C:\\Users\\sukit\\Anaconda2\\envs\\py3\\lib\\site-packages\\sklearn\\metrics\\classification.py:1143: UndefinedMetricWarning: F-score is ill-defined and being set to 0.0 in labels with no predicted samples.\n",
      "  'precision', 'predicted', average, warn_for)\n",
      "C:\\Users\\sukit\\Anaconda2\\envs\\py3\\lib\\site-packages\\sklearn\\metrics\\classification.py:1143: UndefinedMetricWarning: F-score is ill-defined and being set to 0.0 in labels with no predicted samples.\n",
      "  'precision', 'predicted', average, warn_for)\n",
      "C:\\Users\\sukit\\Anaconda2\\envs\\py3\\lib\\site-packages\\sklearn\\metrics\\classification.py:1143: UndefinedMetricWarning: F-score is ill-defined and being set to 0.0 in labels with no predicted samples.\n",
      "  'precision', 'predicted', average, warn_for)\n",
      "C:\\Users\\sukit\\Anaconda2\\envs\\py3\\lib\\site-packages\\sklearn\\metrics\\classification.py:1143: UndefinedMetricWarning: F-score is ill-defined and being set to 0.0 in labels with no predicted samples.\n",
      "  'precision', 'predicted', average, warn_for)\n",
      "C:\\Users\\sukit\\Anaconda2\\envs\\py3\\lib\\site-packages\\sklearn\\metrics\\classification.py:1143: UndefinedMetricWarning: F-score is ill-defined and being set to 0.0 in labels with no predicted samples.\n",
      "  'precision', 'predicted', average, warn_for)\n",
      "C:\\Users\\sukit\\Anaconda2\\envs\\py3\\lib\\site-packages\\sklearn\\metrics\\classification.py:1143: UndefinedMetricWarning: F-score is ill-defined and being set to 0.0 in labels with no predicted samples.\n",
      "  'precision', 'predicted', average, warn_for)\n",
      "C:\\Users\\sukit\\Anaconda2\\envs\\py3\\lib\\site-packages\\sklearn\\metrics\\classification.py:1143: UndefinedMetricWarning: F-score is ill-defined and being set to 0.0 in labels with no predicted samples.\n",
      "  'precision', 'predicted', average, warn_for)\n",
      "C:\\Users\\sukit\\Anaconda2\\envs\\py3\\lib\\site-packages\\sklearn\\metrics\\classification.py:1143: UndefinedMetricWarning: F-score is ill-defined and being set to 0.0 in labels with no predicted samples.\n",
      "  'precision', 'predicted', average, warn_for)\n",
      "C:\\Users\\sukit\\Anaconda2\\envs\\py3\\lib\\site-packages\\sklearn\\metrics\\classification.py:1143: UndefinedMetricWarning: F-score is ill-defined and being set to 0.0 in labels with no predicted samples.\n",
      "  'precision', 'predicted', average, warn_for)\n",
      "C:\\Users\\sukit\\Anaconda2\\envs\\py3\\lib\\site-packages\\sklearn\\metrics\\classification.py:1143: UndefinedMetricWarning: F-score is ill-defined and being set to 0.0 in labels with no predicted samples.\n",
      "  'precision', 'predicted', average, warn_for)\n",
      "C:\\Users\\sukit\\Anaconda2\\envs\\py3\\lib\\site-packages\\sklearn\\metrics\\classification.py:1143: UndefinedMetricWarning: F-score is ill-defined and being set to 0.0 in labels with no predicted samples.\n",
      "  'precision', 'predicted', average, warn_for)\n",
      "C:\\Users\\sukit\\Anaconda2\\envs\\py3\\lib\\site-packages\\sklearn\\metrics\\classification.py:1143: UndefinedMetricWarning: F-score is ill-defined and being set to 0.0 in labels with no predicted samples.\n",
      "  'precision', 'predicted', average, warn_for)\n",
      "C:\\Users\\sukit\\Anaconda2\\envs\\py3\\lib\\site-packages\\sklearn\\metrics\\classification.py:1143: UndefinedMetricWarning: F-score is ill-defined and being set to 0.0 in labels with no predicted samples.\n",
      "  'precision', 'predicted', average, warn_for)\n"
     ]
    },
    {
     "name": "stderr",
     "output_type": "stream",
     "text": [
      "C:\\Users\\sukit\\Anaconda2\\envs\\py3\\lib\\site-packages\\sklearn\\metrics\\classification.py:1143: UndefinedMetricWarning: F-score is ill-defined and being set to 0.0 in labels with no predicted samples.\n",
      "  'precision', 'predicted', average, warn_for)\n",
      "C:\\Users\\sukit\\Anaconda2\\envs\\py3\\lib\\site-packages\\sklearn\\metrics\\classification.py:1143: UndefinedMetricWarning: F-score is ill-defined and being set to 0.0 in labels with no predicted samples.\n",
      "  'precision', 'predicted', average, warn_for)\n",
      "C:\\Users\\sukit\\Anaconda2\\envs\\py3\\lib\\site-packages\\sklearn\\metrics\\classification.py:1143: UndefinedMetricWarning: F-score is ill-defined and being set to 0.0 in labels with no predicted samples.\n",
      "  'precision', 'predicted', average, warn_for)\n",
      "C:\\Users\\sukit\\Anaconda2\\envs\\py3\\lib\\site-packages\\sklearn\\metrics\\classification.py:1143: UndefinedMetricWarning: F-score is ill-defined and being set to 0.0 in labels with no predicted samples.\n",
      "  'precision', 'predicted', average, warn_for)\n",
      "C:\\Users\\sukit\\Anaconda2\\envs\\py3\\lib\\site-packages\\sklearn\\metrics\\classification.py:1143: UndefinedMetricWarning: F-score is ill-defined and being set to 0.0 in labels with no predicted samples.\n",
      "  'precision', 'predicted', average, warn_for)\n",
      "C:\\Users\\sukit\\Anaconda2\\envs\\py3\\lib\\site-packages\\sklearn\\metrics\\classification.py:1143: UndefinedMetricWarning: F-score is ill-defined and being set to 0.0 in labels with no predicted samples.\n",
      "  'precision', 'predicted', average, warn_for)\n",
      "C:\\Users\\sukit\\Anaconda2\\envs\\py3\\lib\\site-packages\\sklearn\\metrics\\classification.py:1143: UndefinedMetricWarning: F-score is ill-defined and being set to 0.0 in labels with no predicted samples.\n",
      "  'precision', 'predicted', average, warn_for)\n",
      "C:\\Users\\sukit\\Anaconda2\\envs\\py3\\lib\\site-packages\\sklearn\\metrics\\classification.py:1143: UndefinedMetricWarning: F-score is ill-defined and being set to 0.0 in labels with no predicted samples.\n",
      "  'precision', 'predicted', average, warn_for)\n",
      "C:\\Users\\sukit\\Anaconda2\\envs\\py3\\lib\\site-packages\\sklearn\\metrics\\classification.py:1143: UndefinedMetricWarning: F-score is ill-defined and being set to 0.0 in labels with no predicted samples.\n",
      "  'precision', 'predicted', average, warn_for)\n",
      "C:\\Users\\sukit\\Anaconda2\\envs\\py3\\lib\\site-packages\\sklearn\\metrics\\classification.py:1143: UndefinedMetricWarning: F-score is ill-defined and being set to 0.0 in labels with no predicted samples.\n",
      "  'precision', 'predicted', average, warn_for)\n",
      "C:\\Users\\sukit\\Anaconda2\\envs\\py3\\lib\\site-packages\\sklearn\\metrics\\classification.py:1143: UndefinedMetricWarning: F-score is ill-defined and being set to 0.0 in labels with no predicted samples.\n",
      "  'precision', 'predicted', average, warn_for)\n",
      "C:\\Users\\sukit\\Anaconda2\\envs\\py3\\lib\\site-packages\\sklearn\\metrics\\classification.py:1143: UndefinedMetricWarning: F-score is ill-defined and being set to 0.0 in labels with no predicted samples.\n",
      "  'precision', 'predicted', average, warn_for)\n",
      "C:\\Users\\sukit\\Anaconda2\\envs\\py3\\lib\\site-packages\\sklearn\\metrics\\classification.py:1143: UndefinedMetricWarning: F-score is ill-defined and being set to 0.0 in labels with no predicted samples.\n",
      "  'precision', 'predicted', average, warn_for)\n",
      "C:\\Users\\sukit\\Anaconda2\\envs\\py3\\lib\\site-packages\\sklearn\\metrics\\classification.py:1143: UndefinedMetricWarning: F-score is ill-defined and being set to 0.0 in labels with no predicted samples.\n",
      "  'precision', 'predicted', average, warn_for)\n",
      "C:\\Users\\sukit\\Anaconda2\\envs\\py3\\lib\\site-packages\\sklearn\\metrics\\classification.py:1143: UndefinedMetricWarning: F-score is ill-defined and being set to 0.0 in labels with no predicted samples.\n",
      "  'precision', 'predicted', average, warn_for)\n",
      "C:\\Users\\sukit\\Anaconda2\\envs\\py3\\lib\\site-packages\\sklearn\\metrics\\classification.py:1143: UndefinedMetricWarning: F-score is ill-defined and being set to 0.0 in labels with no predicted samples.\n",
      "  'precision', 'predicted', average, warn_for)\n",
      "C:\\Users\\sukit\\Anaconda2\\envs\\py3\\lib\\site-packages\\sklearn\\metrics\\classification.py:1143: UndefinedMetricWarning: F-score is ill-defined and being set to 0.0 in labels with no predicted samples.\n",
      "  'precision', 'predicted', average, warn_for)\n",
      "C:\\Users\\sukit\\Anaconda2\\envs\\py3\\lib\\site-packages\\sklearn\\metrics\\classification.py:1143: UndefinedMetricWarning: F-score is ill-defined and being set to 0.0 in labels with no predicted samples.\n",
      "  'precision', 'predicted', average, warn_for)\n",
      "C:\\Users\\sukit\\Anaconda2\\envs\\py3\\lib\\site-packages\\sklearn\\metrics\\classification.py:1143: UndefinedMetricWarning: F-score is ill-defined and being set to 0.0 in labels with no predicted samples.\n",
      "  'precision', 'predicted', average, warn_for)\n",
      "C:\\Users\\sukit\\Anaconda2\\envs\\py3\\lib\\site-packages\\sklearn\\metrics\\classification.py:1143: UndefinedMetricWarning: F-score is ill-defined and being set to 0.0 in labels with no predicted samples.\n",
      "  'precision', 'predicted', average, warn_for)\n",
      "C:\\Users\\sukit\\Anaconda2\\envs\\py3\\lib\\site-packages\\sklearn\\metrics\\classification.py:1143: UndefinedMetricWarning: F-score is ill-defined and being set to 0.0 in labels with no predicted samples.\n",
      "  'precision', 'predicted', average, warn_for)\n",
      "C:\\Users\\sukit\\Anaconda2\\envs\\py3\\lib\\site-packages\\sklearn\\metrics\\classification.py:1143: UndefinedMetricWarning: F-score is ill-defined and being set to 0.0 in labels with no predicted samples.\n",
      "  'precision', 'predicted', average, warn_for)\n",
      "C:\\Users\\sukit\\Anaconda2\\envs\\py3\\lib\\site-packages\\sklearn\\metrics\\classification.py:1143: UndefinedMetricWarning: F-score is ill-defined and being set to 0.0 in labels with no predicted samples.\n",
      "  'precision', 'predicted', average, warn_for)\n",
      "C:\\Users\\sukit\\Anaconda2\\envs\\py3\\lib\\site-packages\\sklearn\\metrics\\classification.py:1143: UndefinedMetricWarning: F-score is ill-defined and being set to 0.0 in labels with no predicted samples.\n",
      "  'precision', 'predicted', average, warn_for)\n",
      "C:\\Users\\sukit\\Anaconda2\\envs\\py3\\lib\\site-packages\\sklearn\\metrics\\classification.py:1143: UndefinedMetricWarning: F-score is ill-defined and being set to 0.0 in labels with no predicted samples.\n",
      "  'precision', 'predicted', average, warn_for)\n",
      "C:\\Users\\sukit\\Anaconda2\\envs\\py3\\lib\\site-packages\\sklearn\\metrics\\classification.py:1143: UndefinedMetricWarning: F-score is ill-defined and being set to 0.0 in labels with no predicted samples.\n",
      "  'precision', 'predicted', average, warn_for)\n",
      "C:\\Users\\sukit\\Anaconda2\\envs\\py3\\lib\\site-packages\\sklearn\\metrics\\classification.py:1143: UndefinedMetricWarning: F-score is ill-defined and being set to 0.0 in labels with no predicted samples.\n",
      "  'precision', 'predicted', average, warn_for)\n",
      "C:\\Users\\sukit\\Anaconda2\\envs\\py3\\lib\\site-packages\\sklearn\\metrics\\classification.py:1143: UndefinedMetricWarning: F-score is ill-defined and being set to 0.0 in labels with no predicted samples.\n",
      "  'precision', 'predicted', average, warn_for)\n",
      "C:\\Users\\sukit\\Anaconda2\\envs\\py3\\lib\\site-packages\\sklearn\\metrics\\classification.py:1143: UndefinedMetricWarning: F-score is ill-defined and being set to 0.0 in labels with no predicted samples.\n",
      "  'precision', 'predicted', average, warn_for)\n",
      "C:\\Users\\sukit\\Anaconda2\\envs\\py3\\lib\\site-packages\\sklearn\\metrics\\classification.py:1143: UndefinedMetricWarning: F-score is ill-defined and being set to 0.0 in labels with no predicted samples.\n",
      "  'precision', 'predicted', average, warn_for)\n",
      "C:\\Users\\sukit\\Anaconda2\\envs\\py3\\lib\\site-packages\\sklearn\\metrics\\classification.py:1143: UndefinedMetricWarning: F-score is ill-defined and being set to 0.0 in labels with no predicted samples.\n",
      "  'precision', 'predicted', average, warn_for)\n",
      "C:\\Users\\sukit\\Anaconda2\\envs\\py3\\lib\\site-packages\\sklearn\\metrics\\classification.py:1143: UndefinedMetricWarning: F-score is ill-defined and being set to 0.0 in labels with no predicted samples.\n",
      "  'precision', 'predicted', average, warn_for)\n",
      "C:\\Users\\sukit\\Anaconda2\\envs\\py3\\lib\\site-packages\\sklearn\\metrics\\classification.py:1143: UndefinedMetricWarning: F-score is ill-defined and being set to 0.0 in labels with no predicted samples.\n",
      "  'precision', 'predicted', average, warn_for)\n",
      "C:\\Users\\sukit\\Anaconda2\\envs\\py3\\lib\\site-packages\\sklearn\\metrics\\classification.py:1143: UndefinedMetricWarning: F-score is ill-defined and being set to 0.0 in labels with no predicted samples.\n",
      "  'precision', 'predicted', average, warn_for)\n",
      "C:\\Users\\sukit\\Anaconda2\\envs\\py3\\lib\\site-packages\\sklearn\\metrics\\classification.py:1143: UndefinedMetricWarning: F-score is ill-defined and being set to 0.0 in labels with no predicted samples.\n",
      "  'precision', 'predicted', average, warn_for)\n",
      "C:\\Users\\sukit\\Anaconda2\\envs\\py3\\lib\\site-packages\\sklearn\\metrics\\classification.py:1143: UndefinedMetricWarning: F-score is ill-defined and being set to 0.0 in labels with no predicted samples.\n",
      "  'precision', 'predicted', average, warn_for)\n",
      "C:\\Users\\sukit\\Anaconda2\\envs\\py3\\lib\\site-packages\\sklearn\\metrics\\classification.py:1143: UndefinedMetricWarning: F-score is ill-defined and being set to 0.0 in labels with no predicted samples.\n",
      "  'precision', 'predicted', average, warn_for)\n",
      "C:\\Users\\sukit\\Anaconda2\\envs\\py3\\lib\\site-packages\\sklearn\\metrics\\classification.py:1143: UndefinedMetricWarning: F-score is ill-defined and being set to 0.0 in labels with no predicted samples.\n",
      "  'precision', 'predicted', average, warn_for)\n",
      "C:\\Users\\sukit\\Anaconda2\\envs\\py3\\lib\\site-packages\\sklearn\\metrics\\classification.py:1143: UndefinedMetricWarning: F-score is ill-defined and being set to 0.0 in labels with no predicted samples.\n",
      "  'precision', 'predicted', average, warn_for)\n",
      "C:\\Users\\sukit\\Anaconda2\\envs\\py3\\lib\\site-packages\\sklearn\\metrics\\classification.py:1143: UndefinedMetricWarning: F-score is ill-defined and being set to 0.0 in labels with no predicted samples.\n",
      "  'precision', 'predicted', average, warn_for)\n",
      "C:\\Users\\sukit\\Anaconda2\\envs\\py3\\lib\\site-packages\\sklearn\\metrics\\classification.py:1143: UndefinedMetricWarning: F-score is ill-defined and being set to 0.0 in labels with no predicted samples.\n",
      "  'precision', 'predicted', average, warn_for)\n"
     ]
    },
    {
     "name": "stderr",
     "output_type": "stream",
     "text": [
      "C:\\Users\\sukit\\Anaconda2\\envs\\py3\\lib\\site-packages\\sklearn\\metrics\\classification.py:1143: UndefinedMetricWarning: F-score is ill-defined and being set to 0.0 in labels with no predicted samples.\n",
      "  'precision', 'predicted', average, warn_for)\n",
      "C:\\Users\\sukit\\Anaconda2\\envs\\py3\\lib\\site-packages\\sklearn\\metrics\\classification.py:1143: UndefinedMetricWarning: F-score is ill-defined and being set to 0.0 in labels with no predicted samples.\n",
      "  'precision', 'predicted', average, warn_for)\n",
      "C:\\Users\\sukit\\Anaconda2\\envs\\py3\\lib\\site-packages\\sklearn\\metrics\\classification.py:1143: UndefinedMetricWarning: F-score is ill-defined and being set to 0.0 in labels with no predicted samples.\n",
      "  'precision', 'predicted', average, warn_for)\n",
      "C:\\Users\\sukit\\Anaconda2\\envs\\py3\\lib\\site-packages\\sklearn\\metrics\\classification.py:1143: UndefinedMetricWarning: F-score is ill-defined and being set to 0.0 in labels with no predicted samples.\n",
      "  'precision', 'predicted', average, warn_for)\n",
      "C:\\Users\\sukit\\Anaconda2\\envs\\py3\\lib\\site-packages\\sklearn\\metrics\\classification.py:1143: UndefinedMetricWarning: F-score is ill-defined and being set to 0.0 in labels with no predicted samples.\n",
      "  'precision', 'predicted', average, warn_for)\n",
      "C:\\Users\\sukit\\Anaconda2\\envs\\py3\\lib\\site-packages\\sklearn\\metrics\\classification.py:1143: UndefinedMetricWarning: F-score is ill-defined and being set to 0.0 in labels with no predicted samples.\n",
      "  'precision', 'predicted', average, warn_for)\n",
      "C:\\Users\\sukit\\Anaconda2\\envs\\py3\\lib\\site-packages\\sklearn\\metrics\\classification.py:1143: UndefinedMetricWarning: F-score is ill-defined and being set to 0.0 in labels with no predicted samples.\n",
      "  'precision', 'predicted', average, warn_for)\n",
      "C:\\Users\\sukit\\Anaconda2\\envs\\py3\\lib\\site-packages\\sklearn\\metrics\\classification.py:1143: UndefinedMetricWarning: F-score is ill-defined and being set to 0.0 in labels with no predicted samples.\n",
      "  'precision', 'predicted', average, warn_for)\n",
      "C:\\Users\\sukit\\Anaconda2\\envs\\py3\\lib\\site-packages\\sklearn\\metrics\\classification.py:1143: UndefinedMetricWarning: F-score is ill-defined and being set to 0.0 in labels with no predicted samples.\n",
      "  'precision', 'predicted', average, warn_for)\n",
      "C:\\Users\\sukit\\Anaconda2\\envs\\py3\\lib\\site-packages\\sklearn\\metrics\\classification.py:1143: UndefinedMetricWarning: F-score is ill-defined and being set to 0.0 in labels with no predicted samples.\n",
      "  'precision', 'predicted', average, warn_for)\n",
      "C:\\Users\\sukit\\Anaconda2\\envs\\py3\\lib\\site-packages\\sklearn\\metrics\\classification.py:1143: UndefinedMetricWarning: F-score is ill-defined and being set to 0.0 in labels with no predicted samples.\n",
      "  'precision', 'predicted', average, warn_for)\n",
      "C:\\Users\\sukit\\Anaconda2\\envs\\py3\\lib\\site-packages\\sklearn\\metrics\\classification.py:1143: UndefinedMetricWarning: F-score is ill-defined and being set to 0.0 in labels with no predicted samples.\n",
      "  'precision', 'predicted', average, warn_for)\n",
      "C:\\Users\\sukit\\Anaconda2\\envs\\py3\\lib\\site-packages\\sklearn\\metrics\\classification.py:1143: UndefinedMetricWarning: F-score is ill-defined and being set to 0.0 in labels with no predicted samples.\n",
      "  'precision', 'predicted', average, warn_for)\n",
      "C:\\Users\\sukit\\Anaconda2\\envs\\py3\\lib\\site-packages\\sklearn\\metrics\\classification.py:1143: UndefinedMetricWarning: F-score is ill-defined and being set to 0.0 in labels with no predicted samples.\n",
      "  'precision', 'predicted', average, warn_for)\n",
      "C:\\Users\\sukit\\Anaconda2\\envs\\py3\\lib\\site-packages\\sklearn\\metrics\\classification.py:1143: UndefinedMetricWarning: F-score is ill-defined and being set to 0.0 in labels with no predicted samples.\n",
      "  'precision', 'predicted', average, warn_for)\n",
      "C:\\Users\\sukit\\Anaconda2\\envs\\py3\\lib\\site-packages\\sklearn\\metrics\\classification.py:1143: UndefinedMetricWarning: F-score is ill-defined and being set to 0.0 in labels with no predicted samples.\n",
      "  'precision', 'predicted', average, warn_for)\n",
      "C:\\Users\\sukit\\Anaconda2\\envs\\py3\\lib\\site-packages\\sklearn\\metrics\\classification.py:1143: UndefinedMetricWarning: F-score is ill-defined and being set to 0.0 in labels with no predicted samples.\n",
      "  'precision', 'predicted', average, warn_for)\n",
      "C:\\Users\\sukit\\Anaconda2\\envs\\py3\\lib\\site-packages\\sklearn\\metrics\\classification.py:1143: UndefinedMetricWarning: F-score is ill-defined and being set to 0.0 in labels with no predicted samples.\n",
      "  'precision', 'predicted', average, warn_for)\n",
      "C:\\Users\\sukit\\Anaconda2\\envs\\py3\\lib\\site-packages\\sklearn\\metrics\\classification.py:1143: UndefinedMetricWarning: F-score is ill-defined and being set to 0.0 in labels with no predicted samples.\n",
      "  'precision', 'predicted', average, warn_for)\n",
      "C:\\Users\\sukit\\Anaconda2\\envs\\py3\\lib\\site-packages\\sklearn\\metrics\\classification.py:1143: UndefinedMetricWarning: F-score is ill-defined and being set to 0.0 in labels with no predicted samples.\n",
      "  'precision', 'predicted', average, warn_for)\n",
      "C:\\Users\\sukit\\Anaconda2\\envs\\py3\\lib\\site-packages\\sklearn\\metrics\\classification.py:1143: UndefinedMetricWarning: F-score is ill-defined and being set to 0.0 in labels with no predicted samples.\n",
      "  'precision', 'predicted', average, warn_for)\n",
      "C:\\Users\\sukit\\Anaconda2\\envs\\py3\\lib\\site-packages\\sklearn\\metrics\\classification.py:1143: UndefinedMetricWarning: F-score is ill-defined and being set to 0.0 in labels with no predicted samples.\n",
      "  'precision', 'predicted', average, warn_for)\n",
      "C:\\Users\\sukit\\Anaconda2\\envs\\py3\\lib\\site-packages\\sklearn\\metrics\\classification.py:1143: UndefinedMetricWarning: F-score is ill-defined and being set to 0.0 in labels with no predicted samples.\n",
      "  'precision', 'predicted', average, warn_for)\n",
      "C:\\Users\\sukit\\Anaconda2\\envs\\py3\\lib\\site-packages\\sklearn\\metrics\\classification.py:1143: UndefinedMetricWarning: F-score is ill-defined and being set to 0.0 in labels with no predicted samples.\n",
      "  'precision', 'predicted', average, warn_for)\n",
      "C:\\Users\\sukit\\Anaconda2\\envs\\py3\\lib\\site-packages\\sklearn\\metrics\\classification.py:1143: UndefinedMetricWarning: F-score is ill-defined and being set to 0.0 in labels with no predicted samples.\n",
      "  'precision', 'predicted', average, warn_for)\n",
      "C:\\Users\\sukit\\Anaconda2\\envs\\py3\\lib\\site-packages\\sklearn\\metrics\\classification.py:1143: UndefinedMetricWarning: F-score is ill-defined and being set to 0.0 in labels with no predicted samples.\n",
      "  'precision', 'predicted', average, warn_for)\n",
      "C:\\Users\\sukit\\Anaconda2\\envs\\py3\\lib\\site-packages\\sklearn\\metrics\\classification.py:1143: UndefinedMetricWarning: F-score is ill-defined and being set to 0.0 in labels with no predicted samples.\n",
      "  'precision', 'predicted', average, warn_for)\n",
      "C:\\Users\\sukit\\Anaconda2\\envs\\py3\\lib\\site-packages\\sklearn\\metrics\\classification.py:1143: UndefinedMetricWarning: F-score is ill-defined and being set to 0.0 in labels with no predicted samples.\n",
      "  'precision', 'predicted', average, warn_for)\n",
      "C:\\Users\\sukit\\Anaconda2\\envs\\py3\\lib\\site-packages\\sklearn\\metrics\\classification.py:1143: UndefinedMetricWarning: F-score is ill-defined and being set to 0.0 in labels with no predicted samples.\n",
      "  'precision', 'predicted', average, warn_for)\n",
      "C:\\Users\\sukit\\Anaconda2\\envs\\py3\\lib\\site-packages\\sklearn\\metrics\\classification.py:1143: UndefinedMetricWarning: F-score is ill-defined and being set to 0.0 in labels with no predicted samples.\n",
      "  'precision', 'predicted', average, warn_for)\n",
      "C:\\Users\\sukit\\Anaconda2\\envs\\py3\\lib\\site-packages\\sklearn\\metrics\\classification.py:1143: UndefinedMetricWarning: F-score is ill-defined and being set to 0.0 in labels with no predicted samples.\n",
      "  'precision', 'predicted', average, warn_for)\n",
      "C:\\Users\\sukit\\Anaconda2\\envs\\py3\\lib\\site-packages\\sklearn\\metrics\\classification.py:1143: UndefinedMetricWarning: F-score is ill-defined and being set to 0.0 in labels with no predicted samples.\n",
      "  'precision', 'predicted', average, warn_for)\n",
      "C:\\Users\\sukit\\Anaconda2\\envs\\py3\\lib\\site-packages\\sklearn\\metrics\\classification.py:1143: UndefinedMetricWarning: F-score is ill-defined and being set to 0.0 in labels with no predicted samples.\n",
      "  'precision', 'predicted', average, warn_for)\n",
      "C:\\Users\\sukit\\Anaconda2\\envs\\py3\\lib\\site-packages\\sklearn\\metrics\\classification.py:1143: UndefinedMetricWarning: F-score is ill-defined and being set to 0.0 in labels with no predicted samples.\n",
      "  'precision', 'predicted', average, warn_for)\n",
      "C:\\Users\\sukit\\Anaconda2\\envs\\py3\\lib\\site-packages\\sklearn\\metrics\\classification.py:1143: UndefinedMetricWarning: F-score is ill-defined and being set to 0.0 in labels with no predicted samples.\n",
      "  'precision', 'predicted', average, warn_for)\n",
      "C:\\Users\\sukit\\Anaconda2\\envs\\py3\\lib\\site-packages\\sklearn\\metrics\\classification.py:1143: UndefinedMetricWarning: F-score is ill-defined and being set to 0.0 in labels with no predicted samples.\n",
      "  'precision', 'predicted', average, warn_for)\n",
      "C:\\Users\\sukit\\Anaconda2\\envs\\py3\\lib\\site-packages\\sklearn\\metrics\\classification.py:1143: UndefinedMetricWarning: F-score is ill-defined and being set to 0.0 in labels with no predicted samples.\n",
      "  'precision', 'predicted', average, warn_for)\n",
      "C:\\Users\\sukit\\Anaconda2\\envs\\py3\\lib\\site-packages\\sklearn\\metrics\\classification.py:1143: UndefinedMetricWarning: F-score is ill-defined and being set to 0.0 in labels with no predicted samples.\n",
      "  'precision', 'predicted', average, warn_for)\n",
      "C:\\Users\\sukit\\Anaconda2\\envs\\py3\\lib\\site-packages\\sklearn\\metrics\\classification.py:1143: UndefinedMetricWarning: F-score is ill-defined and being set to 0.0 in labels with no predicted samples.\n",
      "  'precision', 'predicted', average, warn_for)\n"
     ]
    },
    {
     "name": "stderr",
     "output_type": "stream",
     "text": [
      "C:\\Users\\sukit\\Anaconda2\\envs\\py3\\lib\\site-packages\\sklearn\\metrics\\classification.py:1143: UndefinedMetricWarning: F-score is ill-defined and being set to 0.0 in labels with no predicted samples.\n",
      "  'precision', 'predicted', average, warn_for)\n",
      "C:\\Users\\sukit\\Anaconda2\\envs\\py3\\lib\\site-packages\\sklearn\\metrics\\classification.py:1143: UndefinedMetricWarning: F-score is ill-defined and being set to 0.0 in labels with no predicted samples.\n",
      "  'precision', 'predicted', average, warn_for)\n",
      "C:\\Users\\sukit\\Anaconda2\\envs\\py3\\lib\\site-packages\\sklearn\\metrics\\classification.py:1143: UndefinedMetricWarning: F-score is ill-defined and being set to 0.0 in labels with no predicted samples.\n",
      "  'precision', 'predicted', average, warn_for)\n",
      "C:\\Users\\sukit\\Anaconda2\\envs\\py3\\lib\\site-packages\\sklearn\\metrics\\classification.py:1143: UndefinedMetricWarning: F-score is ill-defined and being set to 0.0 in labels with no predicted samples.\n",
      "  'precision', 'predicted', average, warn_for)\n",
      "C:\\Users\\sukit\\Anaconda2\\envs\\py3\\lib\\site-packages\\sklearn\\metrics\\classification.py:1143: UndefinedMetricWarning: F-score is ill-defined and being set to 0.0 in labels with no predicted samples.\n",
      "  'precision', 'predicted', average, warn_for)\n",
      "C:\\Users\\sukit\\Anaconda2\\envs\\py3\\lib\\site-packages\\sklearn\\metrics\\classification.py:1143: UndefinedMetricWarning: F-score is ill-defined and being set to 0.0 in labels with no predicted samples.\n",
      "  'precision', 'predicted', average, warn_for)\n",
      "C:\\Users\\sukit\\Anaconda2\\envs\\py3\\lib\\site-packages\\sklearn\\metrics\\classification.py:1143: UndefinedMetricWarning: F-score is ill-defined and being set to 0.0 in labels with no predicted samples.\n",
      "  'precision', 'predicted', average, warn_for)\n",
      "C:\\Users\\sukit\\Anaconda2\\envs\\py3\\lib\\site-packages\\sklearn\\metrics\\classification.py:1143: UndefinedMetricWarning: F-score is ill-defined and being set to 0.0 in labels with no predicted samples.\n",
      "  'precision', 'predicted', average, warn_for)\n",
      "C:\\Users\\sukit\\Anaconda2\\envs\\py3\\lib\\site-packages\\sklearn\\metrics\\classification.py:1143: UndefinedMetricWarning: F-score is ill-defined and being set to 0.0 in labels with no predicted samples.\n",
      "  'precision', 'predicted', average, warn_for)\n",
      "C:\\Users\\sukit\\Anaconda2\\envs\\py3\\lib\\site-packages\\sklearn\\metrics\\classification.py:1143: UndefinedMetricWarning: F-score is ill-defined and being set to 0.0 in labels with no predicted samples.\n",
      "  'precision', 'predicted', average, warn_for)\n",
      "C:\\Users\\sukit\\Anaconda2\\envs\\py3\\lib\\site-packages\\sklearn\\metrics\\classification.py:1143: UndefinedMetricWarning: F-score is ill-defined and being set to 0.0 in labels with no predicted samples.\n",
      "  'precision', 'predicted', average, warn_for)\n",
      "C:\\Users\\sukit\\Anaconda2\\envs\\py3\\lib\\site-packages\\sklearn\\metrics\\classification.py:1143: UndefinedMetricWarning: F-score is ill-defined and being set to 0.0 in labels with no predicted samples.\n",
      "  'precision', 'predicted', average, warn_for)\n",
      "C:\\Users\\sukit\\Anaconda2\\envs\\py3\\lib\\site-packages\\sklearn\\metrics\\classification.py:1143: UndefinedMetricWarning: F-score is ill-defined and being set to 0.0 in labels with no predicted samples.\n",
      "  'precision', 'predicted', average, warn_for)\n",
      "C:\\Users\\sukit\\Anaconda2\\envs\\py3\\lib\\site-packages\\sklearn\\metrics\\classification.py:1143: UndefinedMetricWarning: F-score is ill-defined and being set to 0.0 in labels with no predicted samples.\n",
      "  'precision', 'predicted', average, warn_for)\n",
      "C:\\Users\\sukit\\Anaconda2\\envs\\py3\\lib\\site-packages\\sklearn\\metrics\\classification.py:1143: UndefinedMetricWarning: F-score is ill-defined and being set to 0.0 in labels with no predicted samples.\n",
      "  'precision', 'predicted', average, warn_for)\n",
      "C:\\Users\\sukit\\Anaconda2\\envs\\py3\\lib\\site-packages\\sklearn\\metrics\\classification.py:1143: UndefinedMetricWarning: F-score is ill-defined and being set to 0.0 in labels with no predicted samples.\n",
      "  'precision', 'predicted', average, warn_for)\n",
      "C:\\Users\\sukit\\Anaconda2\\envs\\py3\\lib\\site-packages\\sklearn\\metrics\\classification.py:1143: UndefinedMetricWarning: F-score is ill-defined and being set to 0.0 in labels with no predicted samples.\n",
      "  'precision', 'predicted', average, warn_for)\n",
      "C:\\Users\\sukit\\Anaconda2\\envs\\py3\\lib\\site-packages\\sklearn\\metrics\\classification.py:1143: UndefinedMetricWarning: F-score is ill-defined and being set to 0.0 in labels with no predicted samples.\n",
      "  'precision', 'predicted', average, warn_for)\n",
      "C:\\Users\\sukit\\Anaconda2\\envs\\py3\\lib\\site-packages\\sklearn\\metrics\\classification.py:1143: UndefinedMetricWarning: F-score is ill-defined and being set to 0.0 in labels with no predicted samples.\n",
      "  'precision', 'predicted', average, warn_for)\n",
      "C:\\Users\\sukit\\Anaconda2\\envs\\py3\\lib\\site-packages\\sklearn\\metrics\\classification.py:1143: UndefinedMetricWarning: F-score is ill-defined and being set to 0.0 in labels with no predicted samples.\n",
      "  'precision', 'predicted', average, warn_for)\n",
      "C:\\Users\\sukit\\Anaconda2\\envs\\py3\\lib\\site-packages\\sklearn\\metrics\\classification.py:1143: UndefinedMetricWarning: F-score is ill-defined and being set to 0.0 in labels with no predicted samples.\n",
      "  'precision', 'predicted', average, warn_for)\n",
      "C:\\Users\\sukit\\Anaconda2\\envs\\py3\\lib\\site-packages\\sklearn\\metrics\\classification.py:1143: UndefinedMetricWarning: F-score is ill-defined and being set to 0.0 in labels with no predicted samples.\n",
      "  'precision', 'predicted', average, warn_for)\n",
      "C:\\Users\\sukit\\Anaconda2\\envs\\py3\\lib\\site-packages\\sklearn\\metrics\\classification.py:1143: UndefinedMetricWarning: F-score is ill-defined and being set to 0.0 in labels with no predicted samples.\n",
      "  'precision', 'predicted', average, warn_for)\n",
      "C:\\Users\\sukit\\Anaconda2\\envs\\py3\\lib\\site-packages\\sklearn\\metrics\\classification.py:1143: UndefinedMetricWarning: F-score is ill-defined and being set to 0.0 in labels with no predicted samples.\n",
      "  'precision', 'predicted', average, warn_for)\n",
      "C:\\Users\\sukit\\Anaconda2\\envs\\py3\\lib\\site-packages\\sklearn\\metrics\\classification.py:1143: UndefinedMetricWarning: F-score is ill-defined and being set to 0.0 in labels with no predicted samples.\n",
      "  'precision', 'predicted', average, warn_for)\n",
      "C:\\Users\\sukit\\Anaconda2\\envs\\py3\\lib\\site-packages\\sklearn\\metrics\\classification.py:1143: UndefinedMetricWarning: F-score is ill-defined and being set to 0.0 in labels with no predicted samples.\n",
      "  'precision', 'predicted', average, warn_for)\n",
      "C:\\Users\\sukit\\Anaconda2\\envs\\py3\\lib\\site-packages\\sklearn\\metrics\\classification.py:1143: UndefinedMetricWarning: F-score is ill-defined and being set to 0.0 in labels with no predicted samples.\n",
      "  'precision', 'predicted', average, warn_for)\n",
      "C:\\Users\\sukit\\Anaconda2\\envs\\py3\\lib\\site-packages\\sklearn\\metrics\\classification.py:1143: UndefinedMetricWarning: F-score is ill-defined and being set to 0.0 in labels with no predicted samples.\n",
      "  'precision', 'predicted', average, warn_for)\n",
      "C:\\Users\\sukit\\Anaconda2\\envs\\py3\\lib\\site-packages\\sklearn\\metrics\\classification.py:1143: UndefinedMetricWarning: F-score is ill-defined and being set to 0.0 in labels with no predicted samples.\n",
      "  'precision', 'predicted', average, warn_for)\n",
      "C:\\Users\\sukit\\Anaconda2\\envs\\py3\\lib\\site-packages\\sklearn\\metrics\\classification.py:1143: UndefinedMetricWarning: F-score is ill-defined and being set to 0.0 in labels with no predicted samples.\n",
      "  'precision', 'predicted', average, warn_for)\n",
      "C:\\Users\\sukit\\Anaconda2\\envs\\py3\\lib\\site-packages\\sklearn\\metrics\\classification.py:1143: UndefinedMetricWarning: F-score is ill-defined and being set to 0.0 in labels with no predicted samples.\n",
      "  'precision', 'predicted', average, warn_for)\n",
      "C:\\Users\\sukit\\Anaconda2\\envs\\py3\\lib\\site-packages\\sklearn\\metrics\\classification.py:1143: UndefinedMetricWarning: F-score is ill-defined and being set to 0.0 in labels with no predicted samples.\n",
      "  'precision', 'predicted', average, warn_for)\n",
      "C:\\Users\\sukit\\Anaconda2\\envs\\py3\\lib\\site-packages\\sklearn\\metrics\\classification.py:1143: UndefinedMetricWarning: F-score is ill-defined and being set to 0.0 in labels with no predicted samples.\n",
      "  'precision', 'predicted', average, warn_for)\n",
      "C:\\Users\\sukit\\Anaconda2\\envs\\py3\\lib\\site-packages\\sklearn\\metrics\\classification.py:1143: UndefinedMetricWarning: F-score is ill-defined and being set to 0.0 in labels with no predicted samples.\n",
      "  'precision', 'predicted', average, warn_for)\n",
      "C:\\Users\\sukit\\Anaconda2\\envs\\py3\\lib\\site-packages\\sklearn\\metrics\\classification.py:1143: UndefinedMetricWarning: F-score is ill-defined and being set to 0.0 in labels with no predicted samples.\n",
      "  'precision', 'predicted', average, warn_for)\n",
      "C:\\Users\\sukit\\Anaconda2\\envs\\py3\\lib\\site-packages\\sklearn\\metrics\\classification.py:1143: UndefinedMetricWarning: F-score is ill-defined and being set to 0.0 in labels with no predicted samples.\n",
      "  'precision', 'predicted', average, warn_for)\n",
      "C:\\Users\\sukit\\Anaconda2\\envs\\py3\\lib\\site-packages\\sklearn\\metrics\\classification.py:1143: UndefinedMetricWarning: F-score is ill-defined and being set to 0.0 in labels with no predicted samples.\n",
      "  'precision', 'predicted', average, warn_for)\n",
      "C:\\Users\\sukit\\Anaconda2\\envs\\py3\\lib\\site-packages\\sklearn\\metrics\\classification.py:1143: UndefinedMetricWarning: F-score is ill-defined and being set to 0.0 in labels with no predicted samples.\n",
      "  'precision', 'predicted', average, warn_for)\n"
     ]
    },
    {
     "name": "stderr",
     "output_type": "stream",
     "text": [
      "C:\\Users\\sukit\\Anaconda2\\envs\\py3\\lib\\site-packages\\sklearn\\metrics\\classification.py:1143: UndefinedMetricWarning: F-score is ill-defined and being set to 0.0 in labels with no predicted samples.\n",
      "  'precision', 'predicted', average, warn_for)\n",
      "C:\\Users\\sukit\\Anaconda2\\envs\\py3\\lib\\site-packages\\sklearn\\metrics\\classification.py:1143: UndefinedMetricWarning: F-score is ill-defined and being set to 0.0 in labels with no predicted samples.\n",
      "  'precision', 'predicted', average, warn_for)\n"
     ]
    },
    {
     "name": "stdout",
     "output_type": "stream",
     "text": [
      "clf__alpha : 0.5\n",
      "tfidf__max_df : 0.995\n",
      "tfidf__min_df : 3\n",
      "tfidf__stop_words : english\n",
      "best f1 score: 0.668024906667693\n"
     ]
    },
    {
     "name": "stderr",
     "output_type": "stream",
     "text": [
      "C:\\Users\\sukit\\Anaconda2\\envs\\py3\\lib\\site-packages\\sklearn\\metrics\\classification.py:1143: UndefinedMetricWarning: F-score is ill-defined and being set to 0.0 in labels with no predicted samples.\n",
      "  'precision', 'predicted', average, warn_for)\n",
      "C:\\Users\\sukit\\Anaconda2\\envs\\py3\\lib\\site-packages\\sklearn\\metrics\\classification.py:1143: UndefinedMetricWarning: F-score is ill-defined and being set to 0.0 in labels with no predicted samples.\n",
      "  'precision', 'predicted', average, warn_for)\n",
      "C:\\Users\\sukit\\Anaconda2\\envs\\py3\\lib\\site-packages\\sklearn\\metrics\\classification.py:1143: UndefinedMetricWarning: F-score is ill-defined and being set to 0.0 in labels with no predicted samples.\n",
      "  'precision', 'predicted', average, warn_for)\n"
     ]
    },
    {
     "name": "stdout",
     "output_type": "stream",
     "text": [
      "clf__alpha : 0.5\n",
      "tfidf__max_df : 0.995\n",
      "tfidf__min_df : 3\n",
      "tfidf__stop_words : english\n",
      "best f1 score: 0.7959727136933766\n"
     ]
    }
   ],
   "source": [
    "predicted_ambience =  NB_topic_classification(categ_data.review, ambience)\n",
    "predicted_miscellaneous=  NB_topic_classification(categ_data.review, miscellaneous)\n",
    "predicted_food =  NB_topic_classification(categ_data.review, food)\n",
    "predicted_price =  NB_topic_classification(categ_data.review, price)\n",
    "predicted_service =  NB_topic_classification(categ_data.review, service)"
   ]
  },
  {
   "cell_type": "code",
   "execution_count": 57,
   "metadata": {},
   "outputs": [
    {
     "name": "stdout",
     "output_type": "stream",
     "text": [
      "                         precision    recall  f1-score   support\n",
      "\n",
      "               ambience       0.95      0.30      0.45       121\n",
      "anecdotes/miscellaneous       0.78      0.56      0.65       289\n",
      "                   food       0.86      0.70      0.77       301\n",
      "                  price       0.97      0.41      0.58        80\n",
      "                service       0.88      0.56      0.68       145\n",
      "\n",
      "              micro avg       0.85      0.56      0.67       936\n",
      "              macro avg       0.89      0.50      0.63       936\n",
      "           weighted avg       0.86      0.56      0.66       936\n",
      "            samples avg       0.62      0.59      0.60       936\n",
      "\n"
     ]
    },
    {
     "name": "stderr",
     "output_type": "stream",
     "text": [
      "C:\\Users\\sukit\\Anaconda2\\envs\\py3\\lib\\site-packages\\sklearn\\metrics\\classification.py:1143: UndefinedMetricWarning: Precision and F-score are ill-defined and being set to 0.0 in samples with no predicted labels.\n",
      "  'precision', 'predicted', average, warn_for)\n"
     ]
    }
   ],
   "source": [
    "X_train, X_test, y_train, y_test = train_test_split(categ_data.review, Y , \\\n",
    "                                                    test_size=0.25, random_state=0)\n",
    "\n",
    "zip_all = list(zip(predicted_ambience, predicted_miscellaneous, predicted_food, predicted_price, predicted_service))\n",
    "\n",
    "print(classification_report\\\n",
    "      (y_test, np.array(list(zip_all)), target_names=mlb.classes_)) "
   ]
  },
  {
   "cell_type": "markdown",
   "metadata": {},
   "source": [
    "## Topic Classification using Support Vector Machine"
   ]
  },
  {
   "cell_type": "code",
   "execution_count": 56,
   "metadata": {},
   "outputs": [],
   "source": [
    "\n",
    "def SVM_topic_classification(review_data, feature):\n",
    "    \n",
    "\n",
    "    X_train, X_test, y_train, y_test = train_test_split(review_data, feature , \\\n",
    "                                                        test_size=0.25, random_state=0)\n",
    "\n",
    "    text_clf = Pipeline([('tfidf', TfidfVectorizer()), ('clf', svm.SVC())])\n",
    "\n",
    "    parameters = {'tfidf__min_df':[1, 2, 3],\n",
    "                  'tfidf__max_df': [0.995 , 0.999 , 1.0],\n",
    "                  'tfidf__stop_words':[None,\"english\"],\n",
    "                  'clf__C':[ 1, 2, 5],\n",
    "                 'clf__kernel':['linear']}\n",
    "\n",
    "    metric =  \"f1_macro\"\n",
    "\n",
    "    gs_clf = GridSearchCV(text_clf, param_grid=parameters, scoring=metric, cv=5)\n",
    "\n",
    "\n",
    "    gs_clf = gs_clf.fit(X_train, y_train)\n",
    "\n",
    "    for param_name in gs_clf.best_params_:\n",
    "        print(\"{} : {}\".format(param_name , gs_clf.best_params_[param_name]))\n",
    "    print(\"best f1 score:\", gs_clf.best_score_)\n",
    "\n",
    "    clf_C = gs_clf.best_params_[\"clf__C\"]\n",
    "    clf_kernel = gs_clf.best_params_[\"clf__kernel\"]\n",
    "    tfidf_min_df = gs_clf.best_params_[\"tfidf__min_df\"]\n",
    "    tfidf_max_df = gs_clf.best_params_[\"tfidf__max_df\"]\n",
    "    tfidf_stop_words = gs_clf.best_params_[\"tfidf__stop_words\"]\n",
    "\n",
    "    classifier = Pipeline([\n",
    "        ('tfidf', TfidfVectorizer(stop_words=tfidf_stop_words,\\\n",
    "                                  min_df=tfidf_min_df, max_df = tfidf_max_df)),\n",
    "        ('clf', svm.SVC(C = clf_C, kernel = clf_kernel))])\n",
    "\n",
    "    clf = classifier.fit(X_train,  y_train)\n",
    "\n",
    "    labels=sorted(np.unique(feature))\n",
    "    labels = list(map(str, labels))\n",
    "\n",
    "    predicted = classifier.predict(X_test)\n",
    "    \n",
    "    return predicted\n"
   ]
  },
  {
   "cell_type": "code",
   "execution_count": 58,
   "metadata": {},
   "outputs": [
    {
     "name": "stdout",
     "output_type": "stream",
     "text": [
      "clf__C : 2\n",
      "clf__kernel : linear\n",
      "tfidf__max_df : 0.995\n",
      "tfidf__min_df : 1\n",
      "tfidf__stop_words : english\n",
      "best f1 score: 0.8115904458156638\n",
      "clf__C : 1\n",
      "clf__kernel : linear\n",
      "tfidf__max_df : 0.995\n",
      "tfidf__min_df : 1\n",
      "tfidf__stop_words : None\n",
      "best f1 score: 0.7991135102581619\n",
      "clf__C : 1\n",
      "clf__kernel : linear\n",
      "tfidf__max_df : 0.995\n",
      "tfidf__min_df : 1\n",
      "tfidf__stop_words : None\n",
      "best f1 score: 0.8666034900184318\n",
      "clf__C : 2\n",
      "clf__kernel : linear\n",
      "tfidf__max_df : 0.995\n",
      "tfidf__min_df : 1\n",
      "tfidf__stop_words : english\n",
      "best f1 score: 0.8534716551437846\n",
      "clf__C : 2\n",
      "clf__kernel : linear\n",
      "tfidf__max_df : 0.995\n",
      "tfidf__min_df : 1\n",
      "tfidf__stop_words : english\n",
      "best f1 score: 0.8787895157563381\n"
     ]
    }
   ],
   "source": [
    "predicted_ambience =  SVM_topic_classification(categ_data.review, ambience)\n",
    "predicted_miscellaneous=  SVM_topic_classification(categ_data.review, miscellaneous)\n",
    "predicted_food =  SVM_topic_classification(categ_data.review, food)\n",
    "predicted_price =  SVM_topic_classification(categ_data.review, price)\n",
    "predicted_service =  SVM_topic_classification(categ_data.review, service)"
   ]
  },
  {
   "cell_type": "code",
   "execution_count": 59,
   "metadata": {},
   "outputs": [
    {
     "name": "stdout",
     "output_type": "stream",
     "text": [
      "                         precision    recall  f1-score   support\n",
      "\n",
      "               ambience       0.83      0.56      0.67       121\n",
      "anecdotes/miscellaneous       0.77      0.69      0.73       289\n",
      "                   food       0.86      0.76      0.81       301\n",
      "                  price       0.89      0.79      0.83        80\n",
      "                service       0.84      0.74      0.79       145\n",
      "\n",
      "              micro avg       0.83      0.71      0.77       936\n",
      "              macro avg       0.84      0.71      0.77       936\n",
      "           weighted avg       0.83      0.71      0.76       936\n",
      "            samples avg       0.72      0.71      0.70       936\n",
      "\n"
     ]
    },
    {
     "name": "stderr",
     "output_type": "stream",
     "text": [
      "C:\\Users\\sukit\\Anaconda2\\envs\\py3\\lib\\site-packages\\sklearn\\metrics\\classification.py:1143: UndefinedMetricWarning: Precision and F-score are ill-defined and being set to 0.0 in samples with no predicted labels.\n",
      "  'precision', 'predicted', average, warn_for)\n"
     ]
    }
   ],
   "source": [
    "X_train, X_test, y_train, y_test = train_test_split(categ_data.review, Y , \\\n",
    "                                                    test_size=0.25, random_state=0)\n",
    "\n",
    "zip_all = list(zip(predicted_ambience, predicted_miscellaneous, predicted_food, predicted_price, predicted_service))\n",
    "\n",
    "print(classification_report\\\n",
    "      (y_test, np.array(list(zip_all)), target_names=mlb.classes_)) "
   ]
  },
  {
   "cell_type": "markdown",
   "metadata": {},
   "source": [
    "## Topic Classification using K-Nearest Neighbour"
   ]
  },
  {
   "cell_type": "code",
   "execution_count": 61,
   "metadata": {},
   "outputs": [],
   "source": [
    "\n",
    "def KNN_topic_classification(review_data, feature):\n",
    "    \n",
    "\n",
    "    X_train, X_test, y_train, y_test = train_test_split(review_data, feature , \\\n",
    "                                                        test_size=0.25, random_state=0)\n",
    "\n",
    "    text_clf = Pipeline([('tfidf', TfidfVectorizer()), ('clf', KNeighborsClassifier())])\n",
    "    \n",
    "    k_range = list(range(1, 10))\n",
    "\n",
    "    parameters = {'tfidf__min_df':[1, 2, 3],\n",
    "                  'tfidf__stop_words':[None,\"english\"],\n",
    "                  'clf__n_neighbors': k_range}\n",
    "\n",
    "    metric =  \"f1_macro\"\n",
    "\n",
    "    gs_clf = GridSearchCV(text_clf, param_grid=parameters, scoring=metric, cv=5)\n",
    "\n",
    "\n",
    "    gs_clf = gs_clf.fit(X_train, y_train)\n",
    "\n",
    "    for param_name in gs_clf.best_params_:\n",
    "        print(\"{} : {}\".format(param_name , gs_clf.best_params_[param_name]))\n",
    "    print(\"best f1 score:\", gs_clf.best_score_)\n",
    "\n",
    "    clf_k = gs_clf.best_params_[\"clf__n_neighbors\"]\n",
    "    tfidf_min_df = gs_clf.best_params_[\"tfidf__min_df\"]\n",
    "    tfidf_stop_words = gs_clf.best_params_[\"tfidf__stop_words\"]\n",
    "\n",
    "    classifier = Pipeline([\n",
    "        ('tfidf', TfidfVectorizer(stop_words=tfidf_stop_words,\\\n",
    "                                  min_df=tfidf_min_df)),\n",
    "        ('clf', KNeighborsClassifier(n_neighbors= clf_k))])\n",
    "\n",
    "    clf = classifier.fit(X_train,  y_train)\n",
    "\n",
    "    labels=sorted(np.unique(feature))\n",
    "    labels = list(map(str, labels))\n",
    "\n",
    "    predicted = classifier.predict(X_test)\n",
    "    \n",
    "    return predicted"
   ]
  },
  {
   "cell_type": "code",
   "execution_count": 62,
   "metadata": {},
   "outputs": [
    {
     "name": "stderr",
     "output_type": "stream",
     "text": [
      "C:\\Users\\sukit\\Anaconda2\\envs\\py3\\lib\\site-packages\\sklearn\\metrics\\classification.py:1143: UndefinedMetricWarning: F-score is ill-defined and being set to 0.0 in labels with no predicted samples.\n",
      "  'precision', 'predicted', average, warn_for)\n",
      "C:\\Users\\sukit\\Anaconda2\\envs\\py3\\lib\\site-packages\\sklearn\\metrics\\classification.py:1143: UndefinedMetricWarning: F-score is ill-defined and being set to 0.0 in labels with no predicted samples.\n",
      "  'precision', 'predicted', average, warn_for)\n",
      "C:\\Users\\sukit\\Anaconda2\\envs\\py3\\lib\\site-packages\\sklearn\\metrics\\classification.py:1143: UndefinedMetricWarning: F-score is ill-defined and being set to 0.0 in labels with no predicted samples.\n",
      "  'precision', 'predicted', average, warn_for)\n",
      "C:\\Users\\sukit\\Anaconda2\\envs\\py3\\lib\\site-packages\\sklearn\\metrics\\classification.py:1143: UndefinedMetricWarning: F-score is ill-defined and being set to 0.0 in labels with no predicted samples.\n",
      "  'precision', 'predicted', average, warn_for)\n",
      "C:\\Users\\sukit\\Anaconda2\\envs\\py3\\lib\\site-packages\\sklearn\\metrics\\classification.py:1143: UndefinedMetricWarning: F-score is ill-defined and being set to 0.0 in labels with no predicted samples.\n",
      "  'precision', 'predicted', average, warn_for)\n",
      "C:\\Users\\sukit\\Anaconda2\\envs\\py3\\lib\\site-packages\\sklearn\\metrics\\classification.py:1143: UndefinedMetricWarning: F-score is ill-defined and being set to 0.0 in labels with no predicted samples.\n",
      "  'precision', 'predicted', average, warn_for)\n",
      "C:\\Users\\sukit\\Anaconda2\\envs\\py3\\lib\\site-packages\\sklearn\\metrics\\classification.py:1143: UndefinedMetricWarning: F-score is ill-defined and being set to 0.0 in labels with no predicted samples.\n",
      "  'precision', 'predicted', average, warn_for)\n",
      "C:\\Users\\sukit\\Anaconda2\\envs\\py3\\lib\\site-packages\\sklearn\\metrics\\classification.py:1143: UndefinedMetricWarning: F-score is ill-defined and being set to 0.0 in labels with no predicted samples.\n",
      "  'precision', 'predicted', average, warn_for)\n",
      "C:\\Users\\sukit\\Anaconda2\\envs\\py3\\lib\\site-packages\\sklearn\\metrics\\classification.py:1143: UndefinedMetricWarning: F-score is ill-defined and being set to 0.0 in labels with no predicted samples.\n",
      "  'precision', 'predicted', average, warn_for)\n",
      "C:\\Users\\sukit\\Anaconda2\\envs\\py3\\lib\\site-packages\\sklearn\\metrics\\classification.py:1143: UndefinedMetricWarning: F-score is ill-defined and being set to 0.0 in labels with no predicted samples.\n",
      "  'precision', 'predicted', average, warn_for)\n",
      "C:\\Users\\sukit\\Anaconda2\\envs\\py3\\lib\\site-packages\\sklearn\\metrics\\classification.py:1143: UndefinedMetricWarning: F-score is ill-defined and being set to 0.0 in labels with no predicted samples.\n",
      "  'precision', 'predicted', average, warn_for)\n",
      "C:\\Users\\sukit\\Anaconda2\\envs\\py3\\lib\\site-packages\\sklearn\\metrics\\classification.py:1143: UndefinedMetricWarning: F-score is ill-defined and being set to 0.0 in labels with no predicted samples.\n",
      "  'precision', 'predicted', average, warn_for)\n",
      "C:\\Users\\sukit\\Anaconda2\\envs\\py3\\lib\\site-packages\\sklearn\\metrics\\classification.py:1143: UndefinedMetricWarning: F-score is ill-defined and being set to 0.0 in labels with no predicted samples.\n",
      "  'precision', 'predicted', average, warn_for)\n",
      "C:\\Users\\sukit\\Anaconda2\\envs\\py3\\lib\\site-packages\\sklearn\\metrics\\classification.py:1143: UndefinedMetricWarning: F-score is ill-defined and being set to 0.0 in labels with no predicted samples.\n",
      "  'precision', 'predicted', average, warn_for)\n",
      "C:\\Users\\sukit\\Anaconda2\\envs\\py3\\lib\\site-packages\\sklearn\\metrics\\classification.py:1143: UndefinedMetricWarning: F-score is ill-defined and being set to 0.0 in labels with no predicted samples.\n",
      "  'precision', 'predicted', average, warn_for)\n",
      "C:\\Users\\sukit\\Anaconda2\\envs\\py3\\lib\\site-packages\\sklearn\\metrics\\classification.py:1143: UndefinedMetricWarning: F-score is ill-defined and being set to 0.0 in labels with no predicted samples.\n",
      "  'precision', 'predicted', average, warn_for)\n",
      "C:\\Users\\sukit\\Anaconda2\\envs\\py3\\lib\\site-packages\\sklearn\\metrics\\classification.py:1143: UndefinedMetricWarning: F-score is ill-defined and being set to 0.0 in labels with no predicted samples.\n",
      "  'precision', 'predicted', average, warn_for)\n",
      "C:\\Users\\sukit\\Anaconda2\\envs\\py3\\lib\\site-packages\\sklearn\\metrics\\classification.py:1143: UndefinedMetricWarning: F-score is ill-defined and being set to 0.0 in labels with no predicted samples.\n",
      "  'precision', 'predicted', average, warn_for)\n",
      "C:\\Users\\sukit\\Anaconda2\\envs\\py3\\lib\\site-packages\\sklearn\\metrics\\classification.py:1143: UndefinedMetricWarning: F-score is ill-defined and being set to 0.0 in labels with no predicted samples.\n",
      "  'precision', 'predicted', average, warn_for)\n",
      "C:\\Users\\sukit\\Anaconda2\\envs\\py3\\lib\\site-packages\\sklearn\\metrics\\classification.py:1143: UndefinedMetricWarning: F-score is ill-defined and being set to 0.0 in labels with no predicted samples.\n",
      "  'precision', 'predicted', average, warn_for)\n",
      "C:\\Users\\sukit\\Anaconda2\\envs\\py3\\lib\\site-packages\\sklearn\\metrics\\classification.py:1143: UndefinedMetricWarning: F-score is ill-defined and being set to 0.0 in labels with no predicted samples.\n",
      "  'precision', 'predicted', average, warn_for)\n",
      "C:\\Users\\sukit\\Anaconda2\\envs\\py3\\lib\\site-packages\\sklearn\\metrics\\classification.py:1143: UndefinedMetricWarning: F-score is ill-defined and being set to 0.0 in labels with no predicted samples.\n",
      "  'precision', 'predicted', average, warn_for)\n",
      "C:\\Users\\sukit\\Anaconda2\\envs\\py3\\lib\\site-packages\\sklearn\\metrics\\classification.py:1143: UndefinedMetricWarning: F-score is ill-defined and being set to 0.0 in labels with no predicted samples.\n",
      "  'precision', 'predicted', average, warn_for)\n",
      "C:\\Users\\sukit\\Anaconda2\\envs\\py3\\lib\\site-packages\\sklearn\\metrics\\classification.py:1143: UndefinedMetricWarning: F-score is ill-defined and being set to 0.0 in labels with no predicted samples.\n",
      "  'precision', 'predicted', average, warn_for)\n",
      "C:\\Users\\sukit\\Anaconda2\\envs\\py3\\lib\\site-packages\\sklearn\\metrics\\classification.py:1143: UndefinedMetricWarning: F-score is ill-defined and being set to 0.0 in labels with no predicted samples.\n",
      "  'precision', 'predicted', average, warn_for)\n",
      "C:\\Users\\sukit\\Anaconda2\\envs\\py3\\lib\\site-packages\\sklearn\\metrics\\classification.py:1143: UndefinedMetricWarning: F-score is ill-defined and being set to 0.0 in labels with no predicted samples.\n",
      "  'precision', 'predicted', average, warn_for)\n",
      "C:\\Users\\sukit\\Anaconda2\\envs\\py3\\lib\\site-packages\\sklearn\\metrics\\classification.py:1143: UndefinedMetricWarning: F-score is ill-defined and being set to 0.0 in labels with no predicted samples.\n",
      "  'precision', 'predicted', average, warn_for)\n",
      "C:\\Users\\sukit\\Anaconda2\\envs\\py3\\lib\\site-packages\\sklearn\\metrics\\classification.py:1143: UndefinedMetricWarning: F-score is ill-defined and being set to 0.0 in labels with no predicted samples.\n",
      "  'precision', 'predicted', average, warn_for)\n",
      "C:\\Users\\sukit\\Anaconda2\\envs\\py3\\lib\\site-packages\\sklearn\\metrics\\classification.py:1143: UndefinedMetricWarning: F-score is ill-defined and being set to 0.0 in labels with no predicted samples.\n",
      "  'precision', 'predicted', average, warn_for)\n",
      "C:\\Users\\sukit\\Anaconda2\\envs\\py3\\lib\\site-packages\\sklearn\\metrics\\classification.py:1143: UndefinedMetricWarning: F-score is ill-defined and being set to 0.0 in labels with no predicted samples.\n",
      "  'precision', 'predicted', average, warn_for)\n",
      "C:\\Users\\sukit\\Anaconda2\\envs\\py3\\lib\\site-packages\\sklearn\\metrics\\classification.py:1143: UndefinedMetricWarning: F-score is ill-defined and being set to 0.0 in labels with no predicted samples.\n",
      "  'precision', 'predicted', average, warn_for)\n",
      "C:\\Users\\sukit\\Anaconda2\\envs\\py3\\lib\\site-packages\\sklearn\\metrics\\classification.py:1143: UndefinedMetricWarning: F-score is ill-defined and being set to 0.0 in labels with no predicted samples.\n",
      "  'precision', 'predicted', average, warn_for)\n",
      "C:\\Users\\sukit\\Anaconda2\\envs\\py3\\lib\\site-packages\\sklearn\\metrics\\classification.py:1143: UndefinedMetricWarning: F-score is ill-defined and being set to 0.0 in labels with no predicted samples.\n",
      "  'precision', 'predicted', average, warn_for)\n",
      "C:\\Users\\sukit\\Anaconda2\\envs\\py3\\lib\\site-packages\\sklearn\\metrics\\classification.py:1143: UndefinedMetricWarning: F-score is ill-defined and being set to 0.0 in labels with no predicted samples.\n",
      "  'precision', 'predicted', average, warn_for)\n"
     ]
    },
    {
     "name": "stderr",
     "output_type": "stream",
     "text": [
      "C:\\Users\\sukit\\Anaconda2\\envs\\py3\\lib\\site-packages\\sklearn\\metrics\\classification.py:1143: UndefinedMetricWarning: F-score is ill-defined and being set to 0.0 in labels with no predicted samples.\n",
      "  'precision', 'predicted', average, warn_for)\n",
      "C:\\Users\\sukit\\Anaconda2\\envs\\py3\\lib\\site-packages\\sklearn\\metrics\\classification.py:1143: UndefinedMetricWarning: F-score is ill-defined and being set to 0.0 in labels with no predicted samples.\n",
      "  'precision', 'predicted', average, warn_for)\n",
      "C:\\Users\\sukit\\Anaconda2\\envs\\py3\\lib\\site-packages\\sklearn\\metrics\\classification.py:1143: UndefinedMetricWarning: F-score is ill-defined and being set to 0.0 in labels with no predicted samples.\n",
      "  'precision', 'predicted', average, warn_for)\n",
      "C:\\Users\\sukit\\Anaconda2\\envs\\py3\\lib\\site-packages\\sklearn\\metrics\\classification.py:1143: UndefinedMetricWarning: F-score is ill-defined and being set to 0.0 in labels with no predicted samples.\n",
      "  'precision', 'predicted', average, warn_for)\n",
      "C:\\Users\\sukit\\Anaconda2\\envs\\py3\\lib\\site-packages\\sklearn\\metrics\\classification.py:1143: UndefinedMetricWarning: F-score is ill-defined and being set to 0.0 in labels with no predicted samples.\n",
      "  'precision', 'predicted', average, warn_for)\n",
      "C:\\Users\\sukit\\Anaconda2\\envs\\py3\\lib\\site-packages\\sklearn\\metrics\\classification.py:1143: UndefinedMetricWarning: F-score is ill-defined and being set to 0.0 in labels with no predicted samples.\n",
      "  'precision', 'predicted', average, warn_for)\n",
      "C:\\Users\\sukit\\Anaconda2\\envs\\py3\\lib\\site-packages\\sklearn\\metrics\\classification.py:1143: UndefinedMetricWarning: F-score is ill-defined and being set to 0.0 in labels with no predicted samples.\n",
      "  'precision', 'predicted', average, warn_for)\n",
      "C:\\Users\\sukit\\Anaconda2\\envs\\py3\\lib\\site-packages\\sklearn\\metrics\\classification.py:1143: UndefinedMetricWarning: F-score is ill-defined and being set to 0.0 in labels with no predicted samples.\n",
      "  'precision', 'predicted', average, warn_for)\n",
      "C:\\Users\\sukit\\Anaconda2\\envs\\py3\\lib\\site-packages\\sklearn\\metrics\\classification.py:1143: UndefinedMetricWarning: F-score is ill-defined and being set to 0.0 in labels with no predicted samples.\n",
      "  'precision', 'predicted', average, warn_for)\n",
      "C:\\Users\\sukit\\Anaconda2\\envs\\py3\\lib\\site-packages\\sklearn\\metrics\\classification.py:1143: UndefinedMetricWarning: F-score is ill-defined and being set to 0.0 in labels with no predicted samples.\n",
      "  'precision', 'predicted', average, warn_for)\n",
      "C:\\Users\\sukit\\Anaconda2\\envs\\py3\\lib\\site-packages\\sklearn\\metrics\\classification.py:1143: UndefinedMetricWarning: F-score is ill-defined and being set to 0.0 in labels with no predicted samples.\n",
      "  'precision', 'predicted', average, warn_for)\n",
      "C:\\Users\\sukit\\Anaconda2\\envs\\py3\\lib\\site-packages\\sklearn\\metrics\\classification.py:1143: UndefinedMetricWarning: F-score is ill-defined and being set to 0.0 in labels with no predicted samples.\n",
      "  'precision', 'predicted', average, warn_for)\n",
      "C:\\Users\\sukit\\Anaconda2\\envs\\py3\\lib\\site-packages\\sklearn\\metrics\\classification.py:1143: UndefinedMetricWarning: F-score is ill-defined and being set to 0.0 in labels with no predicted samples.\n",
      "  'precision', 'predicted', average, warn_for)\n",
      "C:\\Users\\sukit\\Anaconda2\\envs\\py3\\lib\\site-packages\\sklearn\\metrics\\classification.py:1143: UndefinedMetricWarning: F-score is ill-defined and being set to 0.0 in labels with no predicted samples.\n",
      "  'precision', 'predicted', average, warn_for)\n",
      "C:\\Users\\sukit\\Anaconda2\\envs\\py3\\lib\\site-packages\\sklearn\\metrics\\classification.py:1143: UndefinedMetricWarning: F-score is ill-defined and being set to 0.0 in labels with no predicted samples.\n",
      "  'precision', 'predicted', average, warn_for)\n",
      "C:\\Users\\sukit\\Anaconda2\\envs\\py3\\lib\\site-packages\\sklearn\\metrics\\classification.py:1143: UndefinedMetricWarning: F-score is ill-defined and being set to 0.0 in labels with no predicted samples.\n",
      "  'precision', 'predicted', average, warn_for)\n",
      "C:\\Users\\sukit\\Anaconda2\\envs\\py3\\lib\\site-packages\\sklearn\\metrics\\classification.py:1143: UndefinedMetricWarning: F-score is ill-defined and being set to 0.0 in labels with no predicted samples.\n",
      "  'precision', 'predicted', average, warn_for)\n",
      "C:\\Users\\sukit\\Anaconda2\\envs\\py3\\lib\\site-packages\\sklearn\\metrics\\classification.py:1143: UndefinedMetricWarning: F-score is ill-defined and being set to 0.0 in labels with no predicted samples.\n",
      "  'precision', 'predicted', average, warn_for)\n",
      "C:\\Users\\sukit\\Anaconda2\\envs\\py3\\lib\\site-packages\\sklearn\\metrics\\classification.py:1143: UndefinedMetricWarning: F-score is ill-defined and being set to 0.0 in labels with no predicted samples.\n",
      "  'precision', 'predicted', average, warn_for)\n",
      "C:\\Users\\sukit\\Anaconda2\\envs\\py3\\lib\\site-packages\\sklearn\\metrics\\classification.py:1143: UndefinedMetricWarning: F-score is ill-defined and being set to 0.0 in labels with no predicted samples.\n",
      "  'precision', 'predicted', average, warn_for)\n",
      "C:\\Users\\sukit\\Anaconda2\\envs\\py3\\lib\\site-packages\\sklearn\\metrics\\classification.py:1143: UndefinedMetricWarning: F-score is ill-defined and being set to 0.0 in labels with no predicted samples.\n",
      "  'precision', 'predicted', average, warn_for)\n",
      "C:\\Users\\sukit\\Anaconda2\\envs\\py3\\lib\\site-packages\\sklearn\\metrics\\classification.py:1143: UndefinedMetricWarning: F-score is ill-defined and being set to 0.0 in labels with no predicted samples.\n",
      "  'precision', 'predicted', average, warn_for)\n",
      "C:\\Users\\sukit\\Anaconda2\\envs\\py3\\lib\\site-packages\\sklearn\\metrics\\classification.py:1143: UndefinedMetricWarning: F-score is ill-defined and being set to 0.0 in labels with no predicted samples.\n",
      "  'precision', 'predicted', average, warn_for)\n",
      "C:\\Users\\sukit\\Anaconda2\\envs\\py3\\lib\\site-packages\\sklearn\\metrics\\classification.py:1143: UndefinedMetricWarning: F-score is ill-defined and being set to 0.0 in labels with no predicted samples.\n",
      "  'precision', 'predicted', average, warn_for)\n",
      "C:\\Users\\sukit\\Anaconda2\\envs\\py3\\lib\\site-packages\\sklearn\\metrics\\classification.py:1143: UndefinedMetricWarning: F-score is ill-defined and being set to 0.0 in labels with no predicted samples.\n",
      "  'precision', 'predicted', average, warn_for)\n",
      "C:\\Users\\sukit\\Anaconda2\\envs\\py3\\lib\\site-packages\\sklearn\\metrics\\classification.py:1143: UndefinedMetricWarning: F-score is ill-defined and being set to 0.0 in labels with no predicted samples.\n",
      "  'precision', 'predicted', average, warn_for)\n",
      "C:\\Users\\sukit\\Anaconda2\\envs\\py3\\lib\\site-packages\\sklearn\\metrics\\classification.py:1143: UndefinedMetricWarning: F-score is ill-defined and being set to 0.0 in labels with no predicted samples.\n",
      "  'precision', 'predicted', average, warn_for)\n",
      "C:\\Users\\sukit\\Anaconda2\\envs\\py3\\lib\\site-packages\\sklearn\\metrics\\classification.py:1143: UndefinedMetricWarning: F-score is ill-defined and being set to 0.0 in labels with no predicted samples.\n",
      "  'precision', 'predicted', average, warn_for)\n",
      "C:\\Users\\sukit\\Anaconda2\\envs\\py3\\lib\\site-packages\\sklearn\\metrics\\classification.py:1143: UndefinedMetricWarning: F-score is ill-defined and being set to 0.0 in labels with no predicted samples.\n",
      "  'precision', 'predicted', average, warn_for)\n",
      "C:\\Users\\sukit\\Anaconda2\\envs\\py3\\lib\\site-packages\\sklearn\\metrics\\classification.py:1143: UndefinedMetricWarning: F-score is ill-defined and being set to 0.0 in labels with no predicted samples.\n",
      "  'precision', 'predicted', average, warn_for)\n",
      "C:\\Users\\sukit\\Anaconda2\\envs\\py3\\lib\\site-packages\\sklearn\\metrics\\classification.py:1143: UndefinedMetricWarning: F-score is ill-defined and being set to 0.0 in labels with no predicted samples.\n",
      "  'precision', 'predicted', average, warn_for)\n",
      "C:\\Users\\sukit\\Anaconda2\\envs\\py3\\lib\\site-packages\\sklearn\\metrics\\classification.py:1143: UndefinedMetricWarning: F-score is ill-defined and being set to 0.0 in labels with no predicted samples.\n",
      "  'precision', 'predicted', average, warn_for)\n",
      "C:\\Users\\sukit\\Anaconda2\\envs\\py3\\lib\\site-packages\\sklearn\\metrics\\classification.py:1143: UndefinedMetricWarning: F-score is ill-defined and being set to 0.0 in labels with no predicted samples.\n",
      "  'precision', 'predicted', average, warn_for)\n",
      "C:\\Users\\sukit\\Anaconda2\\envs\\py3\\lib\\site-packages\\sklearn\\metrics\\classification.py:1143: UndefinedMetricWarning: F-score is ill-defined and being set to 0.0 in labels with no predicted samples.\n",
      "  'precision', 'predicted', average, warn_for)\n",
      "C:\\Users\\sukit\\Anaconda2\\envs\\py3\\lib\\site-packages\\sklearn\\metrics\\classification.py:1143: UndefinedMetricWarning: F-score is ill-defined and being set to 0.0 in labels with no predicted samples.\n",
      "  'precision', 'predicted', average, warn_for)\n"
     ]
    },
    {
     "name": "stderr",
     "output_type": "stream",
     "text": [
      "C:\\Users\\sukit\\Anaconda2\\envs\\py3\\lib\\site-packages\\sklearn\\metrics\\classification.py:1143: UndefinedMetricWarning: F-score is ill-defined and being set to 0.0 in labels with no predicted samples.\n",
      "  'precision', 'predicted', average, warn_for)\n",
      "C:\\Users\\sukit\\Anaconda2\\envs\\py3\\lib\\site-packages\\sklearn\\metrics\\classification.py:1143: UndefinedMetricWarning: F-score is ill-defined and being set to 0.0 in labels with no predicted samples.\n",
      "  'precision', 'predicted', average, warn_for)\n",
      "C:\\Users\\sukit\\Anaconda2\\envs\\py3\\lib\\site-packages\\sklearn\\metrics\\classification.py:1143: UndefinedMetricWarning: F-score is ill-defined and being set to 0.0 in labels with no predicted samples.\n",
      "  'precision', 'predicted', average, warn_for)\n",
      "C:\\Users\\sukit\\Anaconda2\\envs\\py3\\lib\\site-packages\\sklearn\\metrics\\classification.py:1143: UndefinedMetricWarning: F-score is ill-defined and being set to 0.0 in labels with no predicted samples.\n",
      "  'precision', 'predicted', average, warn_for)\n",
      "C:\\Users\\sukit\\Anaconda2\\envs\\py3\\lib\\site-packages\\sklearn\\metrics\\classification.py:1143: UndefinedMetricWarning: F-score is ill-defined and being set to 0.0 in labels with no predicted samples.\n",
      "  'precision', 'predicted', average, warn_for)\n",
      "C:\\Users\\sukit\\Anaconda2\\envs\\py3\\lib\\site-packages\\sklearn\\metrics\\classification.py:1143: UndefinedMetricWarning: F-score is ill-defined and being set to 0.0 in labels with no predicted samples.\n",
      "  'precision', 'predicted', average, warn_for)\n",
      "C:\\Users\\sukit\\Anaconda2\\envs\\py3\\lib\\site-packages\\sklearn\\metrics\\classification.py:1143: UndefinedMetricWarning: F-score is ill-defined and being set to 0.0 in labels with no predicted samples.\n",
      "  'precision', 'predicted', average, warn_for)\n",
      "C:\\Users\\sukit\\Anaconda2\\envs\\py3\\lib\\site-packages\\sklearn\\metrics\\classification.py:1143: UndefinedMetricWarning: F-score is ill-defined and being set to 0.0 in labels with no predicted samples.\n",
      "  'precision', 'predicted', average, warn_for)\n",
      "C:\\Users\\sukit\\Anaconda2\\envs\\py3\\lib\\site-packages\\sklearn\\metrics\\classification.py:1143: UndefinedMetricWarning: F-score is ill-defined and being set to 0.0 in labels with no predicted samples.\n",
      "  'precision', 'predicted', average, warn_for)\n",
      "C:\\Users\\sukit\\Anaconda2\\envs\\py3\\lib\\site-packages\\sklearn\\metrics\\classification.py:1143: UndefinedMetricWarning: F-score is ill-defined and being set to 0.0 in labels with no predicted samples.\n",
      "  'precision', 'predicted', average, warn_for)\n",
      "C:\\Users\\sukit\\Anaconda2\\envs\\py3\\lib\\site-packages\\sklearn\\metrics\\classification.py:1143: UndefinedMetricWarning: F-score is ill-defined and being set to 0.0 in labels with no predicted samples.\n",
      "  'precision', 'predicted', average, warn_for)\n",
      "C:\\Users\\sukit\\Anaconda2\\envs\\py3\\lib\\site-packages\\sklearn\\metrics\\classification.py:1143: UndefinedMetricWarning: F-score is ill-defined and being set to 0.0 in labels with no predicted samples.\n",
      "  'precision', 'predicted', average, warn_for)\n",
      "C:\\Users\\sukit\\Anaconda2\\envs\\py3\\lib\\site-packages\\sklearn\\metrics\\classification.py:1143: UndefinedMetricWarning: F-score is ill-defined and being set to 0.0 in labels with no predicted samples.\n",
      "  'precision', 'predicted', average, warn_for)\n",
      "C:\\Users\\sukit\\Anaconda2\\envs\\py3\\lib\\site-packages\\sklearn\\metrics\\classification.py:1143: UndefinedMetricWarning: F-score is ill-defined and being set to 0.0 in labels with no predicted samples.\n",
      "  'precision', 'predicted', average, warn_for)\n",
      "C:\\Users\\sukit\\Anaconda2\\envs\\py3\\lib\\site-packages\\sklearn\\metrics\\classification.py:1143: UndefinedMetricWarning: F-score is ill-defined and being set to 0.0 in labels with no predicted samples.\n",
      "  'precision', 'predicted', average, warn_for)\n",
      "C:\\Users\\sukit\\Anaconda2\\envs\\py3\\lib\\site-packages\\sklearn\\metrics\\classification.py:1143: UndefinedMetricWarning: F-score is ill-defined and being set to 0.0 in labels with no predicted samples.\n",
      "  'precision', 'predicted', average, warn_for)\n",
      "C:\\Users\\sukit\\Anaconda2\\envs\\py3\\lib\\site-packages\\sklearn\\metrics\\classification.py:1143: UndefinedMetricWarning: F-score is ill-defined and being set to 0.0 in labels with no predicted samples.\n",
      "  'precision', 'predicted', average, warn_for)\n",
      "C:\\Users\\sukit\\Anaconda2\\envs\\py3\\lib\\site-packages\\sklearn\\metrics\\classification.py:1143: UndefinedMetricWarning: F-score is ill-defined and being set to 0.0 in labels with no predicted samples.\n",
      "  'precision', 'predicted', average, warn_for)\n",
      "C:\\Users\\sukit\\Anaconda2\\envs\\py3\\lib\\site-packages\\sklearn\\metrics\\classification.py:1143: UndefinedMetricWarning: F-score is ill-defined and being set to 0.0 in labels with no predicted samples.\n",
      "  'precision', 'predicted', average, warn_for)\n",
      "C:\\Users\\sukit\\Anaconda2\\envs\\py3\\lib\\site-packages\\sklearn\\metrics\\classification.py:1143: UndefinedMetricWarning: F-score is ill-defined and being set to 0.0 in labels with no predicted samples.\n",
      "  'precision', 'predicted', average, warn_for)\n",
      "C:\\Users\\sukit\\Anaconda2\\envs\\py3\\lib\\site-packages\\sklearn\\metrics\\classification.py:1143: UndefinedMetricWarning: F-score is ill-defined and being set to 0.0 in labels with no predicted samples.\n",
      "  'precision', 'predicted', average, warn_for)\n",
      "C:\\Users\\sukit\\Anaconda2\\envs\\py3\\lib\\site-packages\\sklearn\\metrics\\classification.py:1143: UndefinedMetricWarning: F-score is ill-defined and being set to 0.0 in labels with no predicted samples.\n",
      "  'precision', 'predicted', average, warn_for)\n",
      "C:\\Users\\sukit\\Anaconda2\\envs\\py3\\lib\\site-packages\\sklearn\\metrics\\classification.py:1143: UndefinedMetricWarning: F-score is ill-defined and being set to 0.0 in labels with no predicted samples.\n",
      "  'precision', 'predicted', average, warn_for)\n",
      "C:\\Users\\sukit\\Anaconda2\\envs\\py3\\lib\\site-packages\\sklearn\\metrics\\classification.py:1143: UndefinedMetricWarning: F-score is ill-defined and being set to 0.0 in labels with no predicted samples.\n",
      "  'precision', 'predicted', average, warn_for)\n",
      "C:\\Users\\sukit\\Anaconda2\\envs\\py3\\lib\\site-packages\\sklearn\\metrics\\classification.py:1143: UndefinedMetricWarning: F-score is ill-defined and being set to 0.0 in labels with no predicted samples.\n",
      "  'precision', 'predicted', average, warn_for)\n",
      "C:\\Users\\sukit\\Anaconda2\\envs\\py3\\lib\\site-packages\\sklearn\\metrics\\classification.py:1143: UndefinedMetricWarning: F-score is ill-defined and being set to 0.0 in labels with no predicted samples.\n",
      "  'precision', 'predicted', average, warn_for)\n",
      "C:\\Users\\sukit\\Anaconda2\\envs\\py3\\lib\\site-packages\\sklearn\\metrics\\classification.py:1143: UndefinedMetricWarning: F-score is ill-defined and being set to 0.0 in labels with no predicted samples.\n",
      "  'precision', 'predicted', average, warn_for)\n",
      "C:\\Users\\sukit\\Anaconda2\\envs\\py3\\lib\\site-packages\\sklearn\\metrics\\classification.py:1143: UndefinedMetricWarning: F-score is ill-defined and being set to 0.0 in labels with no predicted samples.\n",
      "  'precision', 'predicted', average, warn_for)\n",
      "C:\\Users\\sukit\\Anaconda2\\envs\\py3\\lib\\site-packages\\sklearn\\metrics\\classification.py:1143: UndefinedMetricWarning: F-score is ill-defined and being set to 0.0 in labels with no predicted samples.\n",
      "  'precision', 'predicted', average, warn_for)\n",
      "C:\\Users\\sukit\\Anaconda2\\envs\\py3\\lib\\site-packages\\sklearn\\metrics\\classification.py:1143: UndefinedMetricWarning: F-score is ill-defined and being set to 0.0 in labels with no predicted samples.\n",
      "  'precision', 'predicted', average, warn_for)\n",
      "C:\\Users\\sukit\\Anaconda2\\envs\\py3\\lib\\site-packages\\sklearn\\metrics\\classification.py:1143: UndefinedMetricWarning: F-score is ill-defined and being set to 0.0 in labels with no predicted samples.\n",
      "  'precision', 'predicted', average, warn_for)\n",
      "C:\\Users\\sukit\\Anaconda2\\envs\\py3\\lib\\site-packages\\sklearn\\metrics\\classification.py:1143: UndefinedMetricWarning: F-score is ill-defined and being set to 0.0 in labels with no predicted samples.\n",
      "  'precision', 'predicted', average, warn_for)\n",
      "C:\\Users\\sukit\\Anaconda2\\envs\\py3\\lib\\site-packages\\sklearn\\metrics\\classification.py:1143: UndefinedMetricWarning: F-score is ill-defined and being set to 0.0 in labels with no predicted samples.\n",
      "  'precision', 'predicted', average, warn_for)\n",
      "C:\\Users\\sukit\\Anaconda2\\envs\\py3\\lib\\site-packages\\sklearn\\metrics\\classification.py:1143: UndefinedMetricWarning: F-score is ill-defined and being set to 0.0 in labels with no predicted samples.\n",
      "  'precision', 'predicted', average, warn_for)\n",
      "C:\\Users\\sukit\\Anaconda2\\envs\\py3\\lib\\site-packages\\sklearn\\metrics\\classification.py:1143: UndefinedMetricWarning: F-score is ill-defined and being set to 0.0 in labels with no predicted samples.\n",
      "  'precision', 'predicted', average, warn_for)\n"
     ]
    },
    {
     "name": "stderr",
     "output_type": "stream",
     "text": [
      "C:\\Users\\sukit\\Anaconda2\\envs\\py3\\lib\\site-packages\\sklearn\\metrics\\classification.py:1143: UndefinedMetricWarning: F-score is ill-defined and being set to 0.0 in labels with no predicted samples.\n",
      "  'precision', 'predicted', average, warn_for)\n",
      "C:\\Users\\sukit\\Anaconda2\\envs\\py3\\lib\\site-packages\\sklearn\\metrics\\classification.py:1143: UndefinedMetricWarning: F-score is ill-defined and being set to 0.0 in labels with no predicted samples.\n",
      "  'precision', 'predicted', average, warn_for)\n",
      "C:\\Users\\sukit\\Anaconda2\\envs\\py3\\lib\\site-packages\\sklearn\\metrics\\classification.py:1143: UndefinedMetricWarning: F-score is ill-defined and being set to 0.0 in labels with no predicted samples.\n",
      "  'precision', 'predicted', average, warn_for)\n",
      "C:\\Users\\sukit\\Anaconda2\\envs\\py3\\lib\\site-packages\\sklearn\\metrics\\classification.py:1143: UndefinedMetricWarning: F-score is ill-defined and being set to 0.0 in labels with no predicted samples.\n",
      "  'precision', 'predicted', average, warn_for)\n",
      "C:\\Users\\sukit\\Anaconda2\\envs\\py3\\lib\\site-packages\\sklearn\\metrics\\classification.py:1143: UndefinedMetricWarning: F-score is ill-defined and being set to 0.0 in labels with no predicted samples.\n",
      "  'precision', 'predicted', average, warn_for)\n",
      "C:\\Users\\sukit\\Anaconda2\\envs\\py3\\lib\\site-packages\\sklearn\\metrics\\classification.py:1143: UndefinedMetricWarning: F-score is ill-defined and being set to 0.0 in labels with no predicted samples.\n",
      "  'precision', 'predicted', average, warn_for)\n",
      "C:\\Users\\sukit\\Anaconda2\\envs\\py3\\lib\\site-packages\\sklearn\\metrics\\classification.py:1143: UndefinedMetricWarning: F-score is ill-defined and being set to 0.0 in labels with no predicted samples.\n",
      "  'precision', 'predicted', average, warn_for)\n",
      "C:\\Users\\sukit\\Anaconda2\\envs\\py3\\lib\\site-packages\\sklearn\\metrics\\classification.py:1143: UndefinedMetricWarning: F-score is ill-defined and being set to 0.0 in labels with no predicted samples.\n",
      "  'precision', 'predicted', average, warn_for)\n",
      "C:\\Users\\sukit\\Anaconda2\\envs\\py3\\lib\\site-packages\\sklearn\\metrics\\classification.py:1143: UndefinedMetricWarning: F-score is ill-defined and being set to 0.0 in labels with no predicted samples.\n",
      "  'precision', 'predicted', average, warn_for)\n",
      "C:\\Users\\sukit\\Anaconda2\\envs\\py3\\lib\\site-packages\\sklearn\\metrics\\classification.py:1143: UndefinedMetricWarning: F-score is ill-defined and being set to 0.0 in labels with no predicted samples.\n",
      "  'precision', 'predicted', average, warn_for)\n",
      "C:\\Users\\sukit\\Anaconda2\\envs\\py3\\lib\\site-packages\\sklearn\\metrics\\classification.py:1143: UndefinedMetricWarning: F-score is ill-defined and being set to 0.0 in labels with no predicted samples.\n",
      "  'precision', 'predicted', average, warn_for)\n",
      "C:\\Users\\sukit\\Anaconda2\\envs\\py3\\lib\\site-packages\\sklearn\\metrics\\classification.py:1143: UndefinedMetricWarning: F-score is ill-defined and being set to 0.0 in labels with no predicted samples.\n",
      "  'precision', 'predicted', average, warn_for)\n",
      "C:\\Users\\sukit\\Anaconda2\\envs\\py3\\lib\\site-packages\\sklearn\\metrics\\classification.py:1143: UndefinedMetricWarning: F-score is ill-defined and being set to 0.0 in labels with no predicted samples.\n",
      "  'precision', 'predicted', average, warn_for)\n",
      "C:\\Users\\sukit\\Anaconda2\\envs\\py3\\lib\\site-packages\\sklearn\\metrics\\classification.py:1143: UndefinedMetricWarning: F-score is ill-defined and being set to 0.0 in labels with no predicted samples.\n",
      "  'precision', 'predicted', average, warn_for)\n",
      "C:\\Users\\sukit\\Anaconda2\\envs\\py3\\lib\\site-packages\\sklearn\\metrics\\classification.py:1143: UndefinedMetricWarning: F-score is ill-defined and being set to 0.0 in labels with no predicted samples.\n",
      "  'precision', 'predicted', average, warn_for)\n",
      "C:\\Users\\sukit\\Anaconda2\\envs\\py3\\lib\\site-packages\\sklearn\\metrics\\classification.py:1143: UndefinedMetricWarning: F-score is ill-defined and being set to 0.0 in labels with no predicted samples.\n",
      "  'precision', 'predicted', average, warn_for)\n",
      "C:\\Users\\sukit\\Anaconda2\\envs\\py3\\lib\\site-packages\\sklearn\\metrics\\classification.py:1143: UndefinedMetricWarning: F-score is ill-defined and being set to 0.0 in labels with no predicted samples.\n",
      "  'precision', 'predicted', average, warn_for)\n",
      "C:\\Users\\sukit\\Anaconda2\\envs\\py3\\lib\\site-packages\\sklearn\\metrics\\classification.py:1143: UndefinedMetricWarning: F-score is ill-defined and being set to 0.0 in labels with no predicted samples.\n",
      "  'precision', 'predicted', average, warn_for)\n",
      "C:\\Users\\sukit\\Anaconda2\\envs\\py3\\lib\\site-packages\\sklearn\\metrics\\classification.py:1143: UndefinedMetricWarning: F-score is ill-defined and being set to 0.0 in labels with no predicted samples.\n",
      "  'precision', 'predicted', average, warn_for)\n",
      "C:\\Users\\sukit\\Anaconda2\\envs\\py3\\lib\\site-packages\\sklearn\\metrics\\classification.py:1143: UndefinedMetricWarning: F-score is ill-defined and being set to 0.0 in labels with no predicted samples.\n",
      "  'precision', 'predicted', average, warn_for)\n",
      "C:\\Users\\sukit\\Anaconda2\\envs\\py3\\lib\\site-packages\\sklearn\\metrics\\classification.py:1143: UndefinedMetricWarning: F-score is ill-defined and being set to 0.0 in labels with no predicted samples.\n",
      "  'precision', 'predicted', average, warn_for)\n",
      "C:\\Users\\sukit\\Anaconda2\\envs\\py3\\lib\\site-packages\\sklearn\\metrics\\classification.py:1143: UndefinedMetricWarning: F-score is ill-defined and being set to 0.0 in labels with no predicted samples.\n",
      "  'precision', 'predicted', average, warn_for)\n",
      "C:\\Users\\sukit\\Anaconda2\\envs\\py3\\lib\\site-packages\\sklearn\\metrics\\classification.py:1143: UndefinedMetricWarning: F-score is ill-defined and being set to 0.0 in labels with no predicted samples.\n",
      "  'precision', 'predicted', average, warn_for)\n",
      "C:\\Users\\sukit\\Anaconda2\\envs\\py3\\lib\\site-packages\\sklearn\\metrics\\classification.py:1143: UndefinedMetricWarning: F-score is ill-defined and being set to 0.0 in labels with no predicted samples.\n",
      "  'precision', 'predicted', average, warn_for)\n",
      "C:\\Users\\sukit\\Anaconda2\\envs\\py3\\lib\\site-packages\\sklearn\\metrics\\classification.py:1143: UndefinedMetricWarning: F-score is ill-defined and being set to 0.0 in labels with no predicted samples.\n",
      "  'precision', 'predicted', average, warn_for)\n",
      "C:\\Users\\sukit\\Anaconda2\\envs\\py3\\lib\\site-packages\\sklearn\\metrics\\classification.py:1143: UndefinedMetricWarning: F-score is ill-defined and being set to 0.0 in labels with no predicted samples.\n",
      "  'precision', 'predicted', average, warn_for)\n",
      "C:\\Users\\sukit\\Anaconda2\\envs\\py3\\lib\\site-packages\\sklearn\\metrics\\classification.py:1143: UndefinedMetricWarning: F-score is ill-defined and being set to 0.0 in labels with no predicted samples.\n",
      "  'precision', 'predicted', average, warn_for)\n",
      "C:\\Users\\sukit\\Anaconda2\\envs\\py3\\lib\\site-packages\\sklearn\\metrics\\classification.py:1143: UndefinedMetricWarning: F-score is ill-defined and being set to 0.0 in labels with no predicted samples.\n",
      "  'precision', 'predicted', average, warn_for)\n",
      "C:\\Users\\sukit\\Anaconda2\\envs\\py3\\lib\\site-packages\\sklearn\\metrics\\classification.py:1143: UndefinedMetricWarning: F-score is ill-defined and being set to 0.0 in labels with no predicted samples.\n",
      "  'precision', 'predicted', average, warn_for)\n",
      "C:\\Users\\sukit\\Anaconda2\\envs\\py3\\lib\\site-packages\\sklearn\\metrics\\classification.py:1143: UndefinedMetricWarning: F-score is ill-defined and being set to 0.0 in labels with no predicted samples.\n",
      "  'precision', 'predicted', average, warn_for)\n",
      "C:\\Users\\sukit\\Anaconda2\\envs\\py3\\lib\\site-packages\\sklearn\\metrics\\classification.py:1143: UndefinedMetricWarning: F-score is ill-defined and being set to 0.0 in labels with no predicted samples.\n",
      "  'precision', 'predicted', average, warn_for)\n",
      "C:\\Users\\sukit\\Anaconda2\\envs\\py3\\lib\\site-packages\\sklearn\\metrics\\classification.py:1143: UndefinedMetricWarning: F-score is ill-defined and being set to 0.0 in labels with no predicted samples.\n",
      "  'precision', 'predicted', average, warn_for)\n",
      "C:\\Users\\sukit\\Anaconda2\\envs\\py3\\lib\\site-packages\\sklearn\\metrics\\classification.py:1143: UndefinedMetricWarning: F-score is ill-defined and being set to 0.0 in labels with no predicted samples.\n",
      "  'precision', 'predicted', average, warn_for)\n",
      "C:\\Users\\sukit\\Anaconda2\\envs\\py3\\lib\\site-packages\\sklearn\\metrics\\classification.py:1143: UndefinedMetricWarning: F-score is ill-defined and being set to 0.0 in labels with no predicted samples.\n",
      "  'precision', 'predicted', average, warn_for)\n"
     ]
    },
    {
     "name": "stderr",
     "output_type": "stream",
     "text": [
      "C:\\Users\\sukit\\Anaconda2\\envs\\py3\\lib\\site-packages\\sklearn\\metrics\\classification.py:1143: UndefinedMetricWarning: F-score is ill-defined and being set to 0.0 in labels with no predicted samples.\n",
      "  'precision', 'predicted', average, warn_for)\n",
      "C:\\Users\\sukit\\Anaconda2\\envs\\py3\\lib\\site-packages\\sklearn\\metrics\\classification.py:1143: UndefinedMetricWarning: F-score is ill-defined and being set to 0.0 in labels with no predicted samples.\n",
      "  'precision', 'predicted', average, warn_for)\n",
      "C:\\Users\\sukit\\Anaconda2\\envs\\py3\\lib\\site-packages\\sklearn\\metrics\\classification.py:1143: UndefinedMetricWarning: F-score is ill-defined and being set to 0.0 in labels with no predicted samples.\n",
      "  'precision', 'predicted', average, warn_for)\n",
      "C:\\Users\\sukit\\Anaconda2\\envs\\py3\\lib\\site-packages\\sklearn\\metrics\\classification.py:1143: UndefinedMetricWarning: F-score is ill-defined and being set to 0.0 in labels with no predicted samples.\n",
      "  'precision', 'predicted', average, warn_for)\n",
      "C:\\Users\\sukit\\Anaconda2\\envs\\py3\\lib\\site-packages\\sklearn\\metrics\\classification.py:1143: UndefinedMetricWarning: F-score is ill-defined and being set to 0.0 in labels with no predicted samples.\n",
      "  'precision', 'predicted', average, warn_for)\n",
      "C:\\Users\\sukit\\Anaconda2\\envs\\py3\\lib\\site-packages\\sklearn\\metrics\\classification.py:1143: UndefinedMetricWarning: F-score is ill-defined and being set to 0.0 in labels with no predicted samples.\n",
      "  'precision', 'predicted', average, warn_for)\n",
      "C:\\Users\\sukit\\Anaconda2\\envs\\py3\\lib\\site-packages\\sklearn\\metrics\\classification.py:1143: UndefinedMetricWarning: F-score is ill-defined and being set to 0.0 in labels with no predicted samples.\n",
      "  'precision', 'predicted', average, warn_for)\n",
      "C:\\Users\\sukit\\Anaconda2\\envs\\py3\\lib\\site-packages\\sklearn\\metrics\\classification.py:1143: UndefinedMetricWarning: F-score is ill-defined and being set to 0.0 in labels with no predicted samples.\n",
      "  'precision', 'predicted', average, warn_for)\n",
      "C:\\Users\\sukit\\Anaconda2\\envs\\py3\\lib\\site-packages\\sklearn\\metrics\\classification.py:1143: UndefinedMetricWarning: F-score is ill-defined and being set to 0.0 in labels with no predicted samples.\n",
      "  'precision', 'predicted', average, warn_for)\n",
      "C:\\Users\\sukit\\Anaconda2\\envs\\py3\\lib\\site-packages\\sklearn\\metrics\\classification.py:1143: UndefinedMetricWarning: F-score is ill-defined and being set to 0.0 in labels with no predicted samples.\n",
      "  'precision', 'predicted', average, warn_for)\n",
      "C:\\Users\\sukit\\Anaconda2\\envs\\py3\\lib\\site-packages\\sklearn\\metrics\\classification.py:1143: UndefinedMetricWarning: F-score is ill-defined and being set to 0.0 in labels with no predicted samples.\n",
      "  'precision', 'predicted', average, warn_for)\n",
      "C:\\Users\\sukit\\Anaconda2\\envs\\py3\\lib\\site-packages\\sklearn\\metrics\\classification.py:1143: UndefinedMetricWarning: F-score is ill-defined and being set to 0.0 in labels with no predicted samples.\n",
      "  'precision', 'predicted', average, warn_for)\n",
      "C:\\Users\\sukit\\Anaconda2\\envs\\py3\\lib\\site-packages\\sklearn\\metrics\\classification.py:1143: UndefinedMetricWarning: F-score is ill-defined and being set to 0.0 in labels with no predicted samples.\n",
      "  'precision', 'predicted', average, warn_for)\n",
      "C:\\Users\\sukit\\Anaconda2\\envs\\py3\\lib\\site-packages\\sklearn\\metrics\\classification.py:1143: UndefinedMetricWarning: F-score is ill-defined and being set to 0.0 in labels with no predicted samples.\n",
      "  'precision', 'predicted', average, warn_for)\n",
      "C:\\Users\\sukit\\Anaconda2\\envs\\py3\\lib\\site-packages\\sklearn\\metrics\\classification.py:1143: UndefinedMetricWarning: F-score is ill-defined and being set to 0.0 in labels with no predicted samples.\n",
      "  'precision', 'predicted', average, warn_for)\n",
      "C:\\Users\\sukit\\Anaconda2\\envs\\py3\\lib\\site-packages\\sklearn\\metrics\\classification.py:1143: UndefinedMetricWarning: F-score is ill-defined and being set to 0.0 in labels with no predicted samples.\n",
      "  'precision', 'predicted', average, warn_for)\n",
      "C:\\Users\\sukit\\Anaconda2\\envs\\py3\\lib\\site-packages\\sklearn\\metrics\\classification.py:1143: UndefinedMetricWarning: F-score is ill-defined and being set to 0.0 in labels with no predicted samples.\n",
      "  'precision', 'predicted', average, warn_for)\n",
      "C:\\Users\\sukit\\Anaconda2\\envs\\py3\\lib\\site-packages\\sklearn\\metrics\\classification.py:1143: UndefinedMetricWarning: F-score is ill-defined and being set to 0.0 in labels with no predicted samples.\n",
      "  'precision', 'predicted', average, warn_for)\n",
      "C:\\Users\\sukit\\Anaconda2\\envs\\py3\\lib\\site-packages\\sklearn\\metrics\\classification.py:1143: UndefinedMetricWarning: F-score is ill-defined and being set to 0.0 in labels with no predicted samples.\n",
      "  'precision', 'predicted', average, warn_for)\n",
      "C:\\Users\\sukit\\Anaconda2\\envs\\py3\\lib\\site-packages\\sklearn\\metrics\\classification.py:1143: UndefinedMetricWarning: F-score is ill-defined and being set to 0.0 in labels with no predicted samples.\n",
      "  'precision', 'predicted', average, warn_for)\n",
      "C:\\Users\\sukit\\Anaconda2\\envs\\py3\\lib\\site-packages\\sklearn\\metrics\\classification.py:1143: UndefinedMetricWarning: F-score is ill-defined and being set to 0.0 in labels with no predicted samples.\n",
      "  'precision', 'predicted', average, warn_for)\n",
      "C:\\Users\\sukit\\Anaconda2\\envs\\py3\\lib\\site-packages\\sklearn\\metrics\\classification.py:1143: UndefinedMetricWarning: F-score is ill-defined and being set to 0.0 in labels with no predicted samples.\n",
      "  'precision', 'predicted', average, warn_for)\n",
      "C:\\Users\\sukit\\Anaconda2\\envs\\py3\\lib\\site-packages\\sklearn\\metrics\\classification.py:1143: UndefinedMetricWarning: F-score is ill-defined and being set to 0.0 in labels with no predicted samples.\n",
      "  'precision', 'predicted', average, warn_for)\n",
      "C:\\Users\\sukit\\Anaconda2\\envs\\py3\\lib\\site-packages\\sklearn\\metrics\\classification.py:1143: UndefinedMetricWarning: F-score is ill-defined and being set to 0.0 in labels with no predicted samples.\n",
      "  'precision', 'predicted', average, warn_for)\n",
      "C:\\Users\\sukit\\Anaconda2\\envs\\py3\\lib\\site-packages\\sklearn\\metrics\\classification.py:1143: UndefinedMetricWarning: F-score is ill-defined and being set to 0.0 in labels with no predicted samples.\n",
      "  'precision', 'predicted', average, warn_for)\n",
      "C:\\Users\\sukit\\Anaconda2\\envs\\py3\\lib\\site-packages\\sklearn\\metrics\\classification.py:1143: UndefinedMetricWarning: F-score is ill-defined and being set to 0.0 in labels with no predicted samples.\n",
      "  'precision', 'predicted', average, warn_for)\n",
      "C:\\Users\\sukit\\Anaconda2\\envs\\py3\\lib\\site-packages\\sklearn\\metrics\\classification.py:1143: UndefinedMetricWarning: F-score is ill-defined and being set to 0.0 in labels with no predicted samples.\n",
      "  'precision', 'predicted', average, warn_for)\n",
      "C:\\Users\\sukit\\Anaconda2\\envs\\py3\\lib\\site-packages\\sklearn\\metrics\\classification.py:1143: UndefinedMetricWarning: F-score is ill-defined and being set to 0.0 in labels with no predicted samples.\n",
      "  'precision', 'predicted', average, warn_for)\n",
      "C:\\Users\\sukit\\Anaconda2\\envs\\py3\\lib\\site-packages\\sklearn\\metrics\\classification.py:1143: UndefinedMetricWarning: F-score is ill-defined and being set to 0.0 in labels with no predicted samples.\n",
      "  'precision', 'predicted', average, warn_for)\n",
      "C:\\Users\\sukit\\Anaconda2\\envs\\py3\\lib\\site-packages\\sklearn\\metrics\\classification.py:1143: UndefinedMetricWarning: F-score is ill-defined and being set to 0.0 in labels with no predicted samples.\n",
      "  'precision', 'predicted', average, warn_for)\n",
      "C:\\Users\\sukit\\Anaconda2\\envs\\py3\\lib\\site-packages\\sklearn\\metrics\\classification.py:1143: UndefinedMetricWarning: F-score is ill-defined and being set to 0.0 in labels with no predicted samples.\n",
      "  'precision', 'predicted', average, warn_for)\n"
     ]
    },
    {
     "name": "stdout",
     "output_type": "stream",
     "text": [
      "clf__n_neighbors : 1\n",
      "tfidf__min_df : 1\n",
      "tfidf__stop_words : None\n",
      "best f1 score: 0.6425241878899145\n",
      "clf__n_neighbors : 7\n",
      "tfidf__min_df : 1\n",
      "tfidf__stop_words : None\n",
      "best f1 score: 0.7457807382419082\n",
      "clf__n_neighbors : 9\n",
      "tfidf__min_df : 1\n",
      "tfidf__stop_words : None\n",
      "best f1 score: 0.7878170595889145\n"
     ]
    },
    {
     "name": "stderr",
     "output_type": "stream",
     "text": [
      "C:\\Users\\sukit\\Anaconda2\\envs\\py3\\lib\\site-packages\\sklearn\\metrics\\classification.py:1143: UndefinedMetricWarning: F-score is ill-defined and being set to 0.0 in labels with no predicted samples.\n",
      "  'precision', 'predicted', average, warn_for)\n",
      "C:\\Users\\sukit\\Anaconda2\\envs\\py3\\lib\\site-packages\\sklearn\\metrics\\classification.py:1143: UndefinedMetricWarning: F-score is ill-defined and being set to 0.0 in labels with no predicted samples.\n",
      "  'precision', 'predicted', average, warn_for)\n",
      "C:\\Users\\sukit\\Anaconda2\\envs\\py3\\lib\\site-packages\\sklearn\\metrics\\classification.py:1143: UndefinedMetricWarning: F-score is ill-defined and being set to 0.0 in labels with no predicted samples.\n",
      "  'precision', 'predicted', average, warn_for)\n",
      "C:\\Users\\sukit\\Anaconda2\\envs\\py3\\lib\\site-packages\\sklearn\\metrics\\classification.py:1143: UndefinedMetricWarning: F-score is ill-defined and being set to 0.0 in labels with no predicted samples.\n",
      "  'precision', 'predicted', average, warn_for)\n",
      "C:\\Users\\sukit\\Anaconda2\\envs\\py3\\lib\\site-packages\\sklearn\\metrics\\classification.py:1143: UndefinedMetricWarning: F-score is ill-defined and being set to 0.0 in labels with no predicted samples.\n",
      "  'precision', 'predicted', average, warn_for)\n",
      "C:\\Users\\sukit\\Anaconda2\\envs\\py3\\lib\\site-packages\\sklearn\\metrics\\classification.py:1143: UndefinedMetricWarning: F-score is ill-defined and being set to 0.0 in labels with no predicted samples.\n",
      "  'precision', 'predicted', average, warn_for)\n",
      "C:\\Users\\sukit\\Anaconda2\\envs\\py3\\lib\\site-packages\\sklearn\\metrics\\classification.py:1143: UndefinedMetricWarning: F-score is ill-defined and being set to 0.0 in labels with no predicted samples.\n",
      "  'precision', 'predicted', average, warn_for)\n",
      "C:\\Users\\sukit\\Anaconda2\\envs\\py3\\lib\\site-packages\\sklearn\\metrics\\classification.py:1143: UndefinedMetricWarning: F-score is ill-defined and being set to 0.0 in labels with no predicted samples.\n",
      "  'precision', 'predicted', average, warn_for)\n",
      "C:\\Users\\sukit\\Anaconda2\\envs\\py3\\lib\\site-packages\\sklearn\\metrics\\classification.py:1143: UndefinedMetricWarning: F-score is ill-defined and being set to 0.0 in labels with no predicted samples.\n",
      "  'precision', 'predicted', average, warn_for)\n",
      "C:\\Users\\sukit\\Anaconda2\\envs\\py3\\lib\\site-packages\\sklearn\\metrics\\classification.py:1143: UndefinedMetricWarning: F-score is ill-defined and being set to 0.0 in labels with no predicted samples.\n",
      "  'precision', 'predicted', average, warn_for)\n",
      "C:\\Users\\sukit\\Anaconda2\\envs\\py3\\lib\\site-packages\\sklearn\\metrics\\classification.py:1143: UndefinedMetricWarning: F-score is ill-defined and being set to 0.0 in labels with no predicted samples.\n",
      "  'precision', 'predicted', average, warn_for)\n",
      "C:\\Users\\sukit\\Anaconda2\\envs\\py3\\lib\\site-packages\\sklearn\\metrics\\classification.py:1143: UndefinedMetricWarning: F-score is ill-defined and being set to 0.0 in labels with no predicted samples.\n",
      "  'precision', 'predicted', average, warn_for)\n",
      "C:\\Users\\sukit\\Anaconda2\\envs\\py3\\lib\\site-packages\\sklearn\\metrics\\classification.py:1143: UndefinedMetricWarning: F-score is ill-defined and being set to 0.0 in labels with no predicted samples.\n",
      "  'precision', 'predicted', average, warn_for)\n",
      "C:\\Users\\sukit\\Anaconda2\\envs\\py3\\lib\\site-packages\\sklearn\\metrics\\classification.py:1143: UndefinedMetricWarning: F-score is ill-defined and being set to 0.0 in labels with no predicted samples.\n",
      "  'precision', 'predicted', average, warn_for)\n",
      "C:\\Users\\sukit\\Anaconda2\\envs\\py3\\lib\\site-packages\\sklearn\\metrics\\classification.py:1143: UndefinedMetricWarning: F-score is ill-defined and being set to 0.0 in labels with no predicted samples.\n",
      "  'precision', 'predicted', average, warn_for)\n",
      "C:\\Users\\sukit\\Anaconda2\\envs\\py3\\lib\\site-packages\\sklearn\\metrics\\classification.py:1143: UndefinedMetricWarning: F-score is ill-defined and being set to 0.0 in labels with no predicted samples.\n",
      "  'precision', 'predicted', average, warn_for)\n",
      "C:\\Users\\sukit\\Anaconda2\\envs\\py3\\lib\\site-packages\\sklearn\\metrics\\classification.py:1143: UndefinedMetricWarning: F-score is ill-defined and being set to 0.0 in labels with no predicted samples.\n",
      "  'precision', 'predicted', average, warn_for)\n",
      "C:\\Users\\sukit\\Anaconda2\\envs\\py3\\lib\\site-packages\\sklearn\\metrics\\classification.py:1143: UndefinedMetricWarning: F-score is ill-defined and being set to 0.0 in labels with no predicted samples.\n",
      "  'precision', 'predicted', average, warn_for)\n"
     ]
    },
    {
     "name": "stdout",
     "output_type": "stream",
     "text": [
      "clf__n_neighbors : 3\n",
      "tfidf__min_df : 1\n",
      "tfidf__stop_words : None\n",
      "best f1 score: 0.7020501053173683\n"
     ]
    },
    {
     "name": "stderr",
     "output_type": "stream",
     "text": [
      "C:\\Users\\sukit\\Anaconda2\\envs\\py3\\lib\\site-packages\\sklearn\\metrics\\classification.py:1143: UndefinedMetricWarning: F-score is ill-defined and being set to 0.0 in labels with no predicted samples.\n",
      "  'precision', 'predicted', average, warn_for)\n"
     ]
    },
    {
     "name": "stdout",
     "output_type": "stream",
     "text": [
      "clf__n_neighbors : 9\n",
      "tfidf__min_df : 1\n",
      "tfidf__stop_words : None\n",
      "best f1 score: 0.7561740766316658\n"
     ]
    }
   ],
   "source": [
    "predicted_ambience =  KNN_topic_classification(categ_data.review, ambience)\n",
    "predicted_miscellaneous= KNN_topic_classification(categ_data.review, miscellaneous)\n",
    "predicted_food =  KNN_topic_classification(categ_data.review, food)\n",
    "predicted_price =  KNN_topic_classification(categ_data.review, price)\n",
    "predicted_service =  KNN_topic_classification(categ_data.review, service)"
   ]
  },
  {
   "cell_type": "code",
   "execution_count": 63,
   "metadata": {},
   "outputs": [
    {
     "name": "stdout",
     "output_type": "stream",
     "text": [
      "                         precision    recall  f1-score   support\n",
      "\n",
      "               ambience       0.61      0.31      0.41       121\n",
      "anecdotes/miscellaneous       0.71      0.68      0.70       289\n",
      "                   food       0.77      0.68      0.72       301\n",
      "                  price       0.78      0.44      0.56        80\n",
      "                service       0.79      0.48      0.60       145\n",
      "\n",
      "              micro avg       0.74      0.58      0.65       936\n",
      "              macro avg       0.73      0.52      0.60       936\n",
      "           weighted avg       0.73      0.58      0.64       936\n",
      "            samples avg       0.64      0.62      0.61       936\n",
      "\n"
     ]
    },
    {
     "name": "stderr",
     "output_type": "stream",
     "text": [
      "C:\\Users\\sukit\\Anaconda2\\envs\\py3\\lib\\site-packages\\sklearn\\metrics\\classification.py:1143: UndefinedMetricWarning: Precision and F-score are ill-defined and being set to 0.0 in samples with no predicted labels.\n",
      "  'precision', 'predicted', average, warn_for)\n"
     ]
    }
   ],
   "source": [
    "X_train, X_test, y_train, y_test = train_test_split(categ_data.review, Y , \\\n",
    "                                                    test_size=0.25, random_state=0)\n",
    "\n",
    "zip_all = list(zip(predicted_ambience, predicted_miscellaneous, predicted_food, predicted_price, predicted_service))\n",
    "\n",
    "print(classification_report\\\n",
    "      (y_test, np.array(list(zip_all)), target_names=mlb.classes_)) "
   ]
  },
  {
   "cell_type": "markdown",
   "metadata": {},
   "source": [
    "## Feature classication using SVM (Best accuracy)"
   ]
  },
  {
   "cell_type": "code",
   "execution_count": 82,
   "metadata": {},
   "outputs": [],
   "source": [
    "All_review_to_classify = pd.read_csv(\"Review_data_entire.csv\")\n",
    "All_review_to_classify = All_review_to_classify.review\n",
    "\n",
    "def feature_classification(reviews):\n",
    "    text_clf = Pipeline([('tfidf', TfidfVectorizer()), ('clf', svm.SVC())])\n",
    "\n",
    "    labels=sorted(np.unique(ambience))\n",
    "    labels = list(map(str, labels))\n",
    "\n",
    "\n",
    "    ambience_classifier = Pipeline([\n",
    "        ('tfidf', TfidfVectorizer(stop_words= \"english\", min_df=1, max_df = 0.995)),\n",
    "        ('clf', svm.SVC(C = 2, kernel = 'linear'))])\n",
    "\n",
    "    ambience_clf = ambience_classifier.fit(categ_data.review, ambience)\n",
    "\n",
    "    ambience_predicted = ambience_classifier.predict(reviews)\n",
    "\n",
    "\n",
    "    miscel_classifier = Pipeline([\n",
    "        ('tfidf', TfidfVectorizer(stop_words= None, min_df=1, max_df = 0.995)),\n",
    "        ('clf', svm.SVC(C = 1, kernel = 'linear'))])\n",
    "\n",
    "    miscel_clf = miscel_classifier.fit(categ_data.review, miscellaneous)\n",
    "\n",
    "    miscel_predicted = miscel_classifier.predict(reviews)\n",
    "\n",
    "\n",
    "    food_classifier = Pipeline([\n",
    "        ('tfidf', TfidfVectorizer(stop_words= None, min_df=1, max_df = 0.995)),\n",
    "        ('clf', svm.SVC(C = 1, kernel = 'linear'))])\n",
    "\n",
    "    food_clf = food_classifier.fit(categ_data.review, food)\n",
    "\n",
    "    food_predicted = food_classifier.predict(reviews)\n",
    "\n",
    "\n",
    "    price_classifier = Pipeline([\n",
    "        ('tfidf', TfidfVectorizer(stop_words= \"english\", min_df=1, max_df = 0.995)),\n",
    "        ('clf', svm.SVC(C = 2, kernel = 'linear'))])\n",
    "\n",
    "    price_clf = price_classifier.fit(categ_data.review, price)\n",
    "\n",
    "    price_predicted = price_classifier.predict(reviews)\n",
    "\n",
    "\n",
    "    service_classifier = Pipeline([\n",
    "        ('tfidf', TfidfVectorizer(stop_words= \"english\", min_df=1, max_df = 0.995)),\n",
    "        ('clf', svm.SVC(C = 2, kernel = 'linear'))])\n",
    "\n",
    "    service_clf = service_classifier.fit(categ_data.review, service)\n",
    "\n",
    "    service_predicted = service_classifier.predict(reviews)\n",
    "    \n",
    "    combined_classes = np.array(list(zip(ambience_predicted, miscel_predicted, \\\n",
    "                                     food_predicted, price_predicted, service_predicted)))\n",
    "    return combined_classes\n",
    "\n"
   ]
  },
  {
   "cell_type": "code",
   "execution_count": 93,
   "metadata": {},
   "outputs": [
    {
     "data": {
      "text/plain": [
       "(-1.2229578053589671,\n",
       " 1.1058551711064004,\n",
       " -1.1016406590145102,\n",
       " 1.1069526886468897)"
      ]
     },
     "execution_count": 93,
     "metadata": {},
     "output_type": "execute_result"
    },
    {
     "data": {
      "image/png": "[encoded data removed]",
      "text/plain": [
       "<Figure size 432x288 with 1 Axes>"
      ]
     },
     "metadata": {},
     "output_type": "display_data"
    }
   ],
   "source": [
    "combined_classes = feature_classification(All_review_to_classify)\n",
    "\n",
    "count_classes = np.sum(combined_classes , axis=0)\n",
    "\n",
    "\n",
    "fig1, ax1 = plt.subplots()\n",
    "ax1.pie(count_classes, explode= (0, 0, 0.1, 0 , 0) , labels = mlb.classes_ ,autopct='%1.1f%%')\n",
    "ax1.axis('equal')\n"
   ]
  },
  {
   "cell_type": "markdown",
   "metadata": {},
   "source": [
    "## Sentiment Analysis using VADER"
   ]
  },
  {
   "cell_type": "code",
   "execution_count": 76,
   "metadata": {},
   "outputs": [],
   "source": [
    "from vaderSentiment.vaderSentiment import SentimentIntensityAnalyzer \n",
    "\n",
    "def sentiment_scores(sentence): \n",
    "  \n",
    "    sid_obj = SentimentIntensityAnalyzer() \n",
    "    \n",
    "\n",
    "    sentiment_dict = sid_obj.polarity_scores(sentence) \n",
    "  \n",
    "    if sentiment_dict['compound'] >= 0.5 : \n",
    "        return \"Positive\"\n",
    "  \n",
    "    elif sentiment_dict['compound'] <= - 0.5 : \n",
    "        return \"Negative\"\n",
    "  \n",
    "    else : \n",
    "        return \"Neutral\""
   ]
  },
  {
   "cell_type": "code",
   "execution_count": 79,
   "metadata": {},
   "outputs": [],
   "source": [
    "all_review_df = pd.read_csv(\"Review_data_entire.csv\")\n",
    "all_review_df = all_review_df['review']\n"
   ]
  },
  {
   "cell_type": "code",
   "execution_count": 80,
   "metadata": {},
   "outputs": [
    {
     "data": {
      "text/html": [
       "<div>\n",
       "<style scoped>\n",
       "    .dataframe tbody tr th:only-of-type {\n",
       "        vertical-align: middle;\n",
       "    }\n",
       "\n",
       "    .dataframe tbody tr th {\n",
       "        vertical-align: top;\n",
       "    }\n",
       "\n",
       "    .dataframe thead th {\n",
       "        text-align: right;\n",
       "    }\n",
       "</style>\n",
       "<table border=\"1\" class=\"dataframe\">\n",
       "  <thead>\n",
       "    <tr style=\"text-align: right;\">\n",
       "      <th></th>\n",
       "      <th>review</th>\n",
       "      <th>sentiment</th>\n",
       "    </tr>\n",
       "  </thead>\n",
       "  <tbody>\n",
       "    <tr>\n",
       "      <th>0</th>\n",
       "      <td>Kept passing by this new cafe, and finally ste...</td>\n",
       "      <td>Positive</td>\n",
       "    </tr>\n",
       "    <tr>\n",
       "      <th>1</th>\n",
       "      <td>Edited to add: This place has CBD coffee drink...</td>\n",
       "      <td>Positive</td>\n",
       "    </tr>\n",
       "    <tr>\n",
       "      <th>2</th>\n",
       "      <td>A place that seems to actually live up to its ...</td>\n",
       "      <td>Positive</td>\n",
       "    </tr>\n",
       "    <tr>\n",
       "      <th>3</th>\n",
       "      <td>Love this place. They have oat milk!  Brown su...</td>\n",
       "      <td>Positive</td>\n",
       "    </tr>\n",
       "    <tr>\n",
       "      <th>4</th>\n",
       "      <td>Promising new coffee shop that just opened in ...</td>\n",
       "      <td>Positive</td>\n",
       "    </tr>\n",
       "  </tbody>\n",
       "</table>\n",
       "</div>"
      ],
      "text/plain": [
       "                                              review sentiment\n",
       "0  Kept passing by this new cafe, and finally ste...  Positive\n",
       "1  Edited to add: This place has CBD coffee drink...  Positive\n",
       "2  A place that seems to actually live up to its ...  Positive\n",
       "3  Love this place. They have oat milk!  Brown su...  Positive\n",
       "4  Promising new coffee shop that just opened in ...  Positive"
      ]
     },
     "execution_count": 80,
     "metadata": {},
     "output_type": "execute_result"
    }
   ],
   "source": [
    "sentiment_df = all_review_df.apply(sentiment_scores)\n",
    "analyze_df = pd.DataFrame(pd.concat([all_review_df, sentiment_df], axis = 1 ))\n",
    "analyze_df.columns = [\"review\" , \"sentiment\"]\n",
    "analyze_df.head()"
   ]
  },
  {
   "cell_type": "code",
   "execution_count": 81,
   "metadata": {},
   "outputs": [
    {
     "data": {
      "text/plain": [
       "Text(0.5, 1.0, 'Sentiment of all reviews')"
      ]
     },
     "execution_count": 81,
     "metadata": {},
     "output_type": "execute_result"
    },
    {
     "data": {
      "image/png": "[encoded data removed]",
      "text/plain": [
       "<Figure size 432x288 with 1 Axes>"
      ]
     },
     "metadata": {},
     "output_type": "display_data"
    }
   ],
   "source": [
    "num_neg = analyze_df[analyze_df.sentiment == \"Negative\"].count().values[1]\n",
    "num_pos = analyze_df[analyze_df.sentiment == \"Positive\"].count().values[1]\n",
    "num_neu = analyze_df[analyze_df.sentiment == \"Neutral\"].count().values[1]\n",
    "\n",
    "fig1, ax1 = plt.subplots()\n",
    "color = [\"b\" , \"salmon\", \"orchid\"]\n",
    "ax1.pie([num_neg , num_pos , num_neu], explode= (0, 0.1, 0.1) , \\\n",
    "        colors=color , labels = [\"Negative\", \"Positive\", \"Neutral\"] ,autopct='%1.1f%%')\n",
    "ax1.axis('equal')\n",
    "plt.title(\"Sentiment of all reviews\")\n"
   ]
  },
  {
   "cell_type": "markdown",
   "metadata": {},
   "source": [
    "## Negative Review Analytics (For all review in dataset)"
   ]
  },
  {
   "cell_type": "code",
   "execution_count": 84,
   "metadata": {},
   "outputs": [],
   "source": [
    "negative_review = analyze_df[analyze_df.sentiment == \"Negative\"]"
   ]
  },
  {
   "cell_type": "code",
   "execution_count": 94,
   "metadata": {},
   "outputs": [
    {
     "data": {
      "text/plain": [
       "Text(0.5, 1.0, 'Number of each feature in Negative review')"
      ]
     },
     "execution_count": 94,
     "metadata": {},
     "output_type": "execute_result"
    },
    {
     "data": {
      "image/png": "[encoded data removed]",
      "text/plain": [
       "<Figure size 576x360 with 1 Axes>"
      ]
     },
     "metadata": {
      "needs_background": "light"
     },
     "output_type": "display_data"
    }
   ],
   "source": [
    "combined_classes = feature_classification(negative_review.review)\n",
    "\n",
    "count_classes = np.sum(combined_classes , axis=0)\n",
    "\n",
    "y_pos = np.arange(len(mlb.classes_))\n",
    "\n",
    "plt.figure(figsize=(8,5))\n",
    "plt.bar(y_pos , count_classes, align='center', alpha=0.9, color = \"r\")\n",
    "plt.xticks(y_pos, mlb.classes_, rotation = 15)\n",
    "plt.title(\"Number of each feature in Negative review\")\n",
    "\n"
   ]
  },
  {
   "cell_type": "markdown",
   "metadata": {},
   "source": [
    "## Positive Review Analytics (for all reviews in dataset)"
   ]
  },
  {
   "cell_type": "code",
   "execution_count": 95,
   "metadata": {},
   "outputs": [],
   "source": [
    "positive_review = analyze_df[analyze_df.sentiment == \"Positive\"]"
   ]
  },
  {
   "cell_type": "code",
   "execution_count": 96,
   "metadata": {},
   "outputs": [
    {
     "data": {
      "text/plain": [
       "Text(0.5, 1.0, 'Number of each feature in Negative review')"
      ]
     },
     "execution_count": 96,
     "metadata": {},
     "output_type": "execute_result"
    },
    {
     "data": {
      "image/png": "[encoded data removed]",
      "text/plain": [
       "<Figure size 576x360 with 1 Axes>"
      ]
     },
     "metadata": {
      "needs_background": "light"
     },
     "output_type": "display_data"
    }
   ],
   "source": [
    "combined_classes = feature_classification(positive_review.review)\n",
    "\n",
    "count_classes = np.sum(combined_classes , axis=0)\n",
    "\n",
    "y_pos = np.arange(len(mlb.classes_))\n",
    "\n",
    "plt.figure(figsize=(8,5))\n",
    "plt.bar(y_pos , count_classes, align='center', alpha=0.9, color = \"g\")\n",
    "plt.xticks(y_pos, mlb.classes_, rotation = 15)\n",
    "plt.title(\"Number of each feature in Negative review\")\n"
   ]
  },
  {
   "cell_type": "markdown",
   "metadata": {},
   "source": [
    "# Applications of Model\n",
    "\n",
    "## Alice's Tea cup Chapter"
   ]
  },
  {
   "cell_type": "code",
   "execution_count": 99,
   "metadata": {},
   "outputs": [],
   "source": [
    "alice_cafe = pd.read_csv(\"Cafe_analyze_data.csv\")\n",
    "alice_cafe = alice_cafe.review\n"
   ]
  },
  {
   "cell_type": "code",
   "execution_count": 100,
   "metadata": {},
   "outputs": [],
   "source": [
    "sentiment_alice_review = alice_cafe.apply(sentiment_scores)"
   ]
  },
  {
   "cell_type": "code",
   "execution_count": 101,
   "metadata": {},
   "outputs": [
    {
     "data": {
      "text/plain": [
       "Text(0.5, 1.0, \"Alice's Tea cafe Sentiment\")"
      ]
     },
     "execution_count": 101,
     "metadata": {},
     "output_type": "execute_result"
    },
    {
     "data": {
      "image/png": "[encoded data removed]",
      "text/plain": [
       "<Figure size 432x288 with 1 Axes>"
      ]
     },
     "metadata": {},
     "output_type": "display_data"
    }
   ],
   "source": [
    "analyze_alice = pd.DataFrame(pd.concat([alice_cafe, sentiment_alice_review], axis = 1 ))\n",
    "analyze_alice.columns = [\"review\" , \"sentiment\"]\n",
    "\n",
    "alice_num_neg = analyze_alice[analyze_alice.sentiment == \"Negative\"].count().values[1]\n",
    "alice_num_pos = analyze_alice[analyze_alice.sentiment == \"Positive\"].count().values[1]\n",
    "alice_num_neu = analyze_alice[analyze_alice.sentiment == \"Neutral\"].count().values[1]\n",
    "\n",
    "fig1, ax1 = plt.subplots()\n",
    "ax1.pie([alice_num_neg , alice_num_pos , alice_num_neu], explode= (0, 0.1, 0.1) , labels = [\"Negative\", \"Positive\", \"Neutral\"] ,autopct='%1.1f%%')\n",
    "ax1.axis('equal')\n",
    "plt.title(\"Alice's Tea cafe Sentiment\")"
   ]
  },
  {
   "cell_type": "markdown",
   "metadata": {},
   "source": [
    "## Alice's Tea cup Chapter Possitive Reviews"
   ]
  },
  {
   "cell_type": "code",
   "execution_count": 103,
   "metadata": {},
   "outputs": [
    {
     "data": {
      "text/plain": [
       "Text(0.5, 1.0, \"Number of each feature in Alice's tea Cafe Positive review\")"
      ]
     },
     "execution_count": 103,
     "metadata": {},
     "output_type": "execute_result"
    },
    {
     "data": {
      "image/png": "[encoded data removed]",
      "text/plain": [
       "<Figure size 576x360 with 1 Axes>"
      ]
     },
     "metadata": {
      "needs_background": "light"
     },
     "output_type": "display_data"
    }
   ],
   "source": [
    "positive_alice_review = analyze_alice[analyze_alice.sentiment == \"Positive\"]\n",
    "\n",
    "combined_classes = feature_classification(positive_alice_review.review)\n",
    "\n",
    "count_classes = np.sum(combined_classes , axis=0)\n",
    "\n",
    "y_pos = np.arange(len(mlb.classes_))\n",
    "\n",
    "plt.figure(figsize=(8,5))\n",
    "plt.bar(y_pos , count_classes, align='center', alpha=0.9, color = \"y\")\n",
    "plt.xticks(y_pos, mlb.classes_, rotation = 15)\n",
    "plt.title(\"Number of each feature in Alice's tea Cafe Positive review\")\n"
   ]
  },
  {
   "cell_type": "markdown",
   "metadata": {},
   "source": [
    "## Alice's Tea cup Chapter Negative Reviews"
   ]
  },
  {
   "cell_type": "code",
   "execution_count": 104,
   "metadata": {},
   "outputs": [
    {
     "data": {
      "text/plain": [
       "Text(0.5, 1.0, \"Number of each feature in Alice's tea Cafe Negative review\")"
      ]
     },
     "execution_count": 104,
     "metadata": {},
     "output_type": "execute_result"
    },
    {
     "data": {
      "image/png": "[encoded data removed]",
      "text/plain": [
       "<Figure size 576x360 with 1 Axes>"
      ]
     },
     "metadata": {
      "needs_background": "light"
     },
     "output_type": "display_data"
    }
   ],
   "source": [
    "Negative_alice_review = analyze_alice[analyze_alice.sentiment == \"Negative\"]\n",
    "\n",
    "combined_classes = feature_classification(Negative_alice_review.review)\n",
    "\n",
    "count_classes = np.sum(combined_classes , axis=0)\n",
    "\n",
    "y_pos = np.arange(len(mlb.classes_))\n",
    "\n",
    "plt.figure(figsize=(8,5))\n",
    "plt.bar(y_pos , count_classes, align='center', alpha=0.9, color = \"fuchsia\")\n",
    "plt.xticks(y_pos, mlb.classes_, rotation = 15)\n",
    "plt.title(\"Number of each feature in Alice's tea Cafe Negative review\")\n"
   ]
  },
  {
   "cell_type": "markdown",
   "metadata": {},
   "source": [
    "# Saltwater Coffee"
   ]
  },
  {
   "cell_type": "code",
   "execution_count": 105,
   "metadata": {},
   "outputs": [],
   "source": [
    "Saltwater_df = pd.read_csv(\"Review_data_entire.csv\")\n",
    "Saltwater_df = Saltwater_df[Saltwater_df['cafe_name'] == \"Saltwater Coffee\"].review"
   ]
  },
  {
   "cell_type": "code",
   "execution_count": 106,
   "metadata": {},
   "outputs": [],
   "source": [
    "sentiment_saltwater_review = Saltwater_df.apply(sentiment_scores)"
   ]
  },
  {
   "cell_type": "code",
   "execution_count": 107,
   "metadata": {},
   "outputs": [],
   "source": [
    "analyze_saltwater = pd.DataFrame(pd.concat([Saltwater_df, sentiment_saltwater_review], axis = 1 ))\n",
    "analyze_saltwater.columns = [\"review\" , \"sentiment\"]"
   ]
  },
  {
   "cell_type": "code",
   "execution_count": 108,
   "metadata": {},
   "outputs": [],
   "source": [
    "salt_num_neg = analyze_saltwater[analyze_saltwater.sentiment == \"Negative\"].count().values[1]\n",
    "salt_num_pos = analyze_saltwater[analyze_saltwater.sentiment == \"Positive\"].count().values[1]\n",
    "salt_num_neu = analyze_saltwater[analyze_saltwater.sentiment == \"Neutral\"].count().values[1]"
   ]
  },
  {
   "cell_type": "code",
   "execution_count": 109,
   "metadata": {},
   "outputs": [
    {
     "data": {
      "text/plain": [
       "Text(0.5, 1.0, 'Saltwater cafe Sentiment')"
      ]
     },
     "execution_count": 109,
     "metadata": {},
     "output_type": "execute_result"
    },
    {
     "data": {
      "image/png": "[encoded data removed]",
      "text/plain": [
       "<Figure size 432x288 with 1 Axes>"
      ]
     },
     "metadata": {},
     "output_type": "display_data"
    }
   ],
   "source": [
    "fig1, ax1 = plt.subplots()\n",
    "color_salt = [\"magenta\" , \"g\", \"r\"]\n",
    "ax1.pie([salt_num_neg , salt_num_pos , salt_num_neu], explode= (0, 0.1, 0.1) , \\\n",
    "        colors = color_salt,labels = [\"Negative\", \"Positive\", \"Neutral\"] ,autopct='%1.1f%%')\n",
    "ax1.axis('equal')\n",
    "plt.title(\"Saltwater cafe Sentiment\")"
   ]
  },
  {
   "cell_type": "markdown",
   "metadata": {},
   "source": [
    "## Salt Coffee Positive Review Analytics "
   ]
  },
  {
   "cell_type": "code",
   "execution_count": 110,
   "metadata": {},
   "outputs": [],
   "source": [
    "positive_salt_review = analyze_saltwater[analyze_saltwater.sentiment == \"Positive\"]"
   ]
  },
  {
   "cell_type": "code",
   "execution_count": 111,
   "metadata": {},
   "outputs": [
    {
     "data": {
      "text/plain": [
       "Text(0.5, 1.0, 'Number of each feature in Saltwater Cafe Positive review')"
      ]
     },
     "execution_count": 111,
     "metadata": {},
     "output_type": "execute_result"
    },
    {
     "data": {
      "image/png": "[encoded data removed]",
      "text/plain": [
       "<Figure size 576x360 with 1 Axes>"
      ]
     },
     "metadata": {
      "needs_background": "light"
     },
     "output_type": "display_data"
    }
   ],
   "source": [
    "combined_classes = feature_classification(positive_salt_review.review)\n",
    "\n",
    "count_classes = np.sum(combined_classes , axis=0)\n",
    "\n",
    "y_pos = np.arange(len(mlb.classes_))\n",
    "\n",
    "plt.figure(figsize=(8,5))\n",
    "plt.bar(y_pos , count_classes, align='center', alpha=0.9, color = \"cyan\")\n",
    "plt.xticks(y_pos, mlb.classes_, rotation = 15)\n",
    "plt.title(\"Number of each feature in Saltwater Cafe Positive review\")"
   ]
  }
 ],
 "metadata": {
  "kernelspec": {
   "display_name": "Python 3",
   "language": "python",
   "name": "python3"
  },
  "language_info": {
   "codemirror_mode": {
    "name": "ipython",
    "version": 3
   },
   "file_extension": ".py",
   "mimetype": "text/x-python",
   "name": "python",
   "nbconvert_exporter": "python",
   "pygments_lexer": "ipython3",
   "version": "3.7.2"
  }
 },
 "nbformat": 4,
 "nbformat_minor": 2
}
